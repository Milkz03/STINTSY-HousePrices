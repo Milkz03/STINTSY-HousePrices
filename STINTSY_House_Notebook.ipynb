{
 "cells": [
  {
   "cell_type": "markdown",
   "id": "b2f5802a-8195-426e-a578-5766679a44a6",
   "metadata": {
    "id": "b2f5802a-8195-426e-a578-5766679a44a6"
   },
   "source": [
    "# Section 1. Introduction to the problem/task and dataset"
   ]
  },
  {
   "cell_type": "markdown",
   "id": "116cbd08-032b-42ab-85b4-0910aece85c8",
   "metadata": {
    "id": "116cbd08-032b-42ab-85b4-0910aece85c8"
   },
   "source": [
    "The group has selected the house dataset based on the list of datasets.\n",
    "\n",
    "The target task of this notebook to predict the house prices in King County given selected house features. Using these models may be of interest to buyers or sellers who may not be familiar with the house market in King County.\n",
    "\n",
    "Interested buyers for houses in King County may want to estimate their budget given their desired house features.\n",
    "\n",
    "On the other hand, sellers who may not be familiar with the market may not want to underestimate or overestimate their house's worth. These models may be of assistance in guiding sellers to price their houses."
   ]
  },
  {
   "cell_type": "markdown",
   "id": "510bf14d-58cb-4b80-b2ec-1f0427de2cf5",
   "metadata": {
    "id": "510bf14d-58cb-4b80-b2ec-1f0427de2cf5"
   },
   "source": [
    "# Section 2. Description of the dataset"
   ]
  },
  {
   "cell_type": "markdown",
   "id": "c9cf4508-21e7-4c55-9076-24a1cd8b3a1f",
   "metadata": {
    "id": "c9cf4508-21e7-4c55-9076-24a1cd8b3a1f"
   },
   "source": [
    "This dataset consists of house sale prices and sold houses between May 2014 and May 2015 in King County."
   ]
  },
  {
   "cell_type": "markdown",
   "id": "d405bdb8-ce64-466a-94e2-38e8f06e2719",
   "metadata": {
    "id": "d405bdb8-ce64-466a-94e2-38e8f06e2719"
   },
   "source": [
    "Each row represents a house sold and each column represents a feature of a house.\n",
    "This dataset contains 21613 instances and 21 features overall."
   ]
  },
  {
   "cell_type": "markdown",
   "id": "e5627086-8dc3-47c6-a850-a54d9582eb0d",
   "metadata": {
    "id": "e5627086-8dc3-47c6-a850-a54d9582eb0d"
   },
   "source": [
    "Features:\n",
    "- `id` – A notation for a house x\n",
    "- `date` – Date sold x\n",
    "- `price` – Sale price\n",
    "- `bedrooms` – Number of bedrooms\n",
    "- `bathrooms` – Number of bathrooms\n",
    "- `sqft_living` – Size of living area in square feet\n",
    "- `sqft_lot` – Size of the lot in square feet\n",
    "- `floors` – Total floors in the house\n",
    "- `waterfront` – ‘1’ if the property has a waterfront, ‘0’ if not.\n",
    "- `view` – An index from 0 to 4 of how good the view of the property was.\n",
    "- `condition` – Condition of the house, ranked from 1 to 5\n",
    "- `grade` – Classification by construction quality which refers to the types of materials used\n",
    "and the quality of workmanship. Buildings of better quality (higher grade) cost more to\n",
    "build per unit of measure and command higher value.\n",
    "- `sqft_above` –  Square feet above ground (find just to remove)\n",
    "- `sqft_basement` – Square feet below ground (find just to bin)\n",
    "- `yr_built` – Year built\n",
    "- `yr_renovated` – Year renovated. ‘0’ if never renovated\n",
    "- `zipcode` – 5-digit zip code (transform)\n",
    "- `lat` – Latitude coordinate (transform)\n",
    "- `long` – Longitude coordinate (transform)\n",
    "- `sqft_living15` – Average size of interior housing living space for the closest 15 houses, in\n",
    "square feet\n",
    "- `sqft_lot15` – Average size of land lots for the closest 15 houses, in square feet"
   ]
  },
  {
   "cell_type": "markdown",
   "id": "5ee40dbb-f916-45e0-bdc6-5c9da6127782",
   "metadata": {
    "id": "5ee40dbb-f916-45e0-bdc6-5c9da6127782"
   },
   "source": [
    "# Section 3. List of requirements"
   ]
  },
  {
   "cell_type": "code",
   "execution_count": null,
   "id": "26fc7fa0-3fea-40d9-a2c2-396c88ce47e5",
   "metadata": {
    "ExecuteTime": {
     "end_time": "2024-11-28T14:46:19.291324Z",
     "start_time": "2024-11-28T14:46:19.284745Z"
    },
    "id": "26fc7fa0-3fea-40d9-a2c2-396c88ce47e5"
   },
   "outputs": [],
   "source": [
    "import pandas as pd\n",
    "import numpy as np\n",
    "import matplotlib.pyplot as plt\n",
    "import matplotlib.dates as mdates\n",
    "from matplotlib.ticker import ScalarFormatter\n",
    "\n",
    "import statsmodels.api as sm\n",
    "from statsmodels.formula.api import ols\n",
    "\n",
    "# Exploratory data analysis\n",
    "from ydata_profiling import ProfileReport\n",
    "\n",
    "# Geographical analysis\n",
    "import folium\n",
    "from folium.plugins import MarkerCluster\n",
    "from folium.plugins import HeatMap\n",
    "from sklearn.cluster import KMeans\n",
    "\n",
    "# extracting lat, long from zipcode\n",
    "from geopy.geocoders import Nominatim\n",
    "from geopy.extra.rate_limiter import RateLimiter\n",
    "\n",
    "# for google Colab\n",
    "# from google.colab import drive\n",
    "\n",
    "# Model & Model training/performance\n",
    "from sklearn.model_selection import train_test_split, cross_val_score, GridSearchCV, KFold, StratifiedKFold, TimeSeriesSplit\n",
    "from sklearn.neighbors import KNeighborsRegressor\n",
    "from sklearn.linear_model import LinearRegression, Ridge, Lasso\n",
    "from sklearn.metrics import mean_squared_error, r2_score, mean_absolute_error\n",
    "from sklearn.preprocessing import MinMaxScaler\n",
    "from sklearn.ensemble import IsolationForest\n",
    "\n",
    "import torch.nn as nn\n",
    "import torch.optim as optim\n",
    "import torch.nn.init\n",
    "import seaborn as sns\n",
    "\n",
    "# documentation\n",
    "from IPython.display import Image"
   ]
  },
  {
   "cell_type": "markdown",
   "id": "f4c1e885-1d8f-4a21-8aa5-11e21656543d",
   "metadata": {
    "id": "f4c1e885-1d8f-4a21-8aa5-11e21656543d"
   },
   "source": [
    "# Section 4. Data preprocessing and cleaning"
   ]
  },
  {
   "cell_type": "markdown",
   "id": "87396d73",
   "metadata": {},
   "source": [
    "The csv will be first loaded. Displaying the head for a quick look at the data."
   ]
  },
  {
   "cell_type": "code",
   "execution_count": null,
   "id": "b6028956-a18d-4d57-a9b2-dcd9fe99defc",
   "metadata": {
    "ExecuteTime": {
     "end_time": "2024-11-28T14:46:19.691405Z",
     "start_time": "2024-11-28T14:46:19.656644Z"
    },
    "id": "b6028956-a18d-4d57-a9b2-dcd9fe99defc"
   },
   "outputs": [],
   "source": [
    "house_df = pd.read_csv(\"house_prices.csv\")\n",
    "house_df.head()"
   ]
  },
  {
   "cell_type": "markdown",
   "id": "53c687f5",
   "metadata": {},
   "source": [
    "Let's also take a look into the data types that pandas set for the dataset"
   ]
  },
  {
   "cell_type": "code",
   "execution_count": null,
   "id": "53843495-fda0-4a05-9b9a-81b5d9f6d331",
   "metadata": {
    "ExecuteTime": {
     "end_time": "2024-11-28T14:46:19.755581Z",
     "start_time": "2024-11-28T14:46:19.750174Z"
    },
    "colab": {
     "base_uri": "https://localhost:8080/"
    },
    "id": "53843495-fda0-4a05-9b9a-81b5d9f6d331",
    "outputId": "b29ed50b-b30f-4194-97c4-bb8702cb1dd0"
   },
   "outputs": [],
   "source": [
    "house_df.info()"
   ]
  },
  {
   "cell_type": "markdown",
   "id": "wdjOG75XwQci",
   "metadata": {
    "id": "wdjOG75XwQci"
   },
   "source": [
    "## Duplicate data\n"
   ]
  },
  {
   "cell_type": "code",
   "execution_count": null,
   "id": "978233c7",
   "metadata": {},
   "outputs": [],
   "source": [
    "for col in house_df.columns:\n",
    "    print(f'{col}:\\t\\t{house_df['bathrooms'].is_unique}')"
   ]
  },
  {
   "cell_type": "markdown",
   "id": "1e527ba4",
   "metadata": {},
   "source": [
    "Other than ID, all the other parameters are expected to be non-unique so we investigate further into duplicated ID values. "
   ]
  },
  {
   "cell_type": "code",
   "execution_count": null,
   "id": "4f2f87ab-4b7d-46d9-a2fe-69e90e914c17",
   "metadata": {
    "ExecuteTime": {
     "end_time": "2024-11-28T14:46:19.884058Z",
     "start_time": "2024-11-28T14:46:19.867208Z"
    },
    "colab": {
     "base_uri": "https://localhost:8080/",
     "height": 444
    },
    "id": "4f2f87ab-4b7d-46d9-a2fe-69e90e914c17",
    "outputId": "b7847130-d860-4c5a-fcd2-37ce801b5f8d",
    "scrolled": true
   },
   "outputs": [],
   "source": [
    "a = house_df[\"id\"].value_counts()\n",
    "dupe_id_df = house_df.join(a, on='id')\n",
    "dupe_id_df[dupe_id_df['count'] > 1]"
   ]
  },
  {
   "cell_type": "markdown",
   "id": "3kWQ2TN610xi",
   "metadata": {
    "id": "3kWQ2TN610xi"
   },
   "source": [
    "A total of 353 are rows that contain a repeated ID value. It is observed that duplicate IDs are from house prices that change overtime. An example is shown below. "
   ]
  },
  {
   "cell_type": "code",
   "execution_count": null,
   "id": "ruGFfAqms7SH",
   "metadata": {
    "ExecuteTime": {
     "end_time": "2024-11-28T14:46:20.289434Z",
     "start_time": "2024-11-28T14:46:20.283573Z"
    },
    "colab": {
     "base_uri": "https://localhost:8080/",
     "height": 193
    },
    "id": "ruGFfAqms7SH",
    "outputId": "c0d4fcfe-d436-4063-df0d-a5720eb5a46d"
   },
   "outputs": [],
   "source": [
    "house_df[house_df.id == 795000620]"
   ]
  },
  {
   "cell_type": "markdown",
   "id": "f000cc20",
   "metadata": {},
   "source": [
    "Since our model assumes the current price of the house and not its price overtime or on a specific date, we decided that we don't need to feed the previous price of the houses. Therefore, we are only keeping the newest row."
   ]
  },
  {
   "cell_type": "code",
   "execution_count": null,
   "id": "HhGL2H730hi6",
   "metadata": {
    "ExecuteTime": {
     "end_time": "2024-11-28T14:46:20.435771Z",
     "start_time": "2024-11-28T14:46:20.431243Z"
    },
    "colab": {
     "base_uri": "https://localhost:8080/",
     "height": 147
    },
    "id": "HhGL2H730hi6",
    "outputId": "781e06e2-68b9-4b45-a971-8fe9451d50fa"
   },
   "outputs": [],
   "source": [
    "# keeping only most recent ids for dupes\n",
    "house_df = house_df.drop_duplicates(subset=['id'], keep='last')\n",
    "house_df.id.duplicated().value_counts()"
   ]
  },
  {
   "cell_type": "markdown",
   "id": "Rn2_kvnL1_Xn",
   "metadata": {
    "id": "Rn2_kvnL1_Xn"
   },
   "source": [
    "This line of code should return the the row that has a year of 2015."
   ]
  },
  {
   "cell_type": "code",
   "execution_count": null,
   "id": "RTwEJkxV17OJ",
   "metadata": {
    "ExecuteTime": {
     "end_time": "2024-11-28T14:46:20.989943Z",
     "start_time": "2024-11-28T14:46:20.984204Z"
    },
    "colab": {
     "base_uri": "https://localhost:8080/",
     "height": 130
    },
    "id": "RTwEJkxV17OJ",
    "outputId": "9169f3ac-4243-4ea7-ad2a-6f8495a17d71"
   },
   "outputs": [],
   "source": [
    "house_df[house_df.id == 795000620]"
   ]
  },
  {
   "cell_type": "code",
   "execution_count": null,
   "id": "0cd02691-ee09-433c-bb26-4017c7907e0a",
   "metadata": {
    "ExecuteTime": {
     "end_time": "2024-11-28T14:46:21.491156Z",
     "start_time": "2024-11-28T14:46:21.485517Z"
    },
    "colab": {
     "base_uri": "https://localhost:8080/",
     "height": 130
    },
    "id": "0cd02691-ee09-433c-bb26-4017c7907e0a",
    "outputId": "a1a41cdb-62de-41f1-adce-36d18c02fdf2"
   },
   "outputs": [],
   "source": [
    "house_df.loc[house_df[\"id\"] == 7129300520]"
   ]
  },
  {
   "cell_type": "markdown",
   "id": "M5ZfNK8y1OQg",
   "metadata": {
    "id": "M5ZfNK8y1OQg"
   },
   "source": [
    "## Converting date into DateTime object\n",
    "For us to be able to do more exploratory data analysis (EDA) and generate date related columns, we convert the date column into a `datetime` data type.\n"
   ]
  },
  {
   "cell_type": "code",
   "execution_count": null,
   "id": "0c5ecfe8-dddf-403d-8e15-21b33e5a3b86",
   "metadata": {
    "ExecuteTime": {
     "end_time": "2024-11-28T14:46:21.928064Z",
     "start_time": "2024-11-28T14:46:21.922579Z"
    },
    "colab": {
     "base_uri": "https://localhost:8080/"
    },
    "id": "0c5ecfe8-dddf-403d-8e15-21b33e5a3b86",
    "outputId": "3cf95e3e-5e29-46d5-dbe0-97f00c2d8b0d"
   },
   "outputs": [],
   "source": [
    "# Convert date for easier processing\n",
    "house_df['date'] = pd.to_datetime(house_df['date'])\n",
    "house_df['date'].info()"
   ]
  },
  {
   "cell_type": "markdown",
   "id": "3jVc0okN57B5",
   "metadata": {
    "id": "3jVc0okN57B5"
   },
   "source": [
    "## Check for the minimum and maximum values"
   ]
  },
  {
   "cell_type": "markdown",
   "id": "4996dc22",
   "metadata": {},
   "source": [
    "The dataset may include rows with suspicious values so we investigate the maximum and minimum values for each column. "
   ]
  },
  {
   "cell_type": "code",
   "execution_count": null,
   "id": "a112310c27258ca3",
   "metadata": {
    "ExecuteTime": {
     "end_time": "2024-11-28T14:46:22.361009Z",
     "start_time": "2024-11-28T14:46:22.355834Z"
    }
   },
   "outputs": [],
   "source": [
    "columns_to_drop = ['id', 'date', 'lat', 'long']\n",
    "minMax_df = house_df.drop(columns=columns_to_drop)\n",
    "\n",
    "min_values = minMax_df.min()\n",
    "max_values = minMax_df.max()\n",
    "\n",
    "min_max_df = pd.DataFrame({'min': min_values, 'max': max_values})\n",
    "min_max_df = min_max_df.round(2)\n",
    "\n",
    "print(min_max_df)"
   ]
  },
  {
   "cell_type": "markdown",
   "id": "67c508e7",
   "metadata": {},
   "source": [
    "#### Extreme Bedroom values"
   ]
  },
  {
   "cell_type": "code",
   "execution_count": null,
   "id": "a507b70c",
   "metadata": {},
   "outputs": [],
   "source": [
    "house_df['bedrooms'].value_counts()"
   ]
  },
  {
   "cell_type": "markdown",
   "id": "31158e36",
   "metadata": {},
   "source": [
    "Theres too little data for houses with nine or more bedrooms (10 out of ~20,000) so we will be excluding it from the training."
   ]
  },
  {
   "cell_type": "code",
   "execution_count": null,
   "id": "ceea0c18",
   "metadata": {},
   "outputs": [],
   "source": [
    "house_df.loc[house_df[\"bedrooms\"] >= 9]"
   ]
  },
  {
   "cell_type": "markdown",
   "id": "db0837b3",
   "metadata": {},
   "source": [
    "There is only one house with 33 bedrooms. It's too little (1 out of 21436) for the model to have an idea on how to price a house with a feature of this value so we decided to remove it."
   ]
  },
  {
   "cell_type": "code",
   "execution_count": null,
   "id": "4497e0d7",
   "metadata": {},
   "outputs": [],
   "source": [
    "house_df.drop(house_df.loc[house_df[\"bedrooms\"] >= 9].index, inplace=True)\n",
    "house_df.loc[house_df[\"bedrooms\"] >= 9]"
   ]
  },
  {
   "cell_type": "code",
   "execution_count": null,
   "id": "431721a3",
   "metadata": {},
   "outputs": [],
   "source": [
    "minMax_df = house_df.drop(columns=columns_to_drop)\n",
    "\n",
    "min_values = minMax_df.min()\n",
    "max_values = minMax_df.max()\n",
    "\n",
    "min_max_df = pd.DataFrame({'min': min_values, 'max': max_values})\n",
    "min_max_df = min_max_df.round(2)\n",
    "\n",
    "print(min_max_df)"
   ]
  },
  {
   "cell_type": "markdown",
   "id": "5573abf463c22a93",
   "metadata": {},
   "source": [
    "## Distribution of features"
   ]
  },
  {
   "cell_type": "markdown",
   "id": "b89db84f",
   "metadata": {},
   "source": [
    "To check for more data that could possibly be suspicious, we check the overall distribution of every feature."
   ]
  },
  {
   "cell_type": "code",
   "execution_count": null,
   "id": "df3276dc8ca15e9d",
   "metadata": {
    "ExecuteTime": {
     "end_time": "2024-11-28T14:46:28.650482Z",
     "start_time": "2024-11-28T14:46:22.742103Z"
    }
   },
   "outputs": [],
   "source": [
    "features = house_df.columns.drop(['id', 'date'])\n",
    "num_features = len(features)\n",
    "num_cols = 5\n",
    "num_rows = (num_features + num_cols - 1) // num_cols\n",
    "\n",
    "fig, axes = plt.subplots(nrows=num_rows, ncols=num_cols, figsize=(20, num_rows * 4))\n",
    "axes = axes.flatten()\n",
    "\n",
    "for i, feature in enumerate(features):\n",
    "    ax = axes[i]\n",
    "    sns.histplot(house_df[feature], kde=True, ax=ax)\n",
    "    ax.set_title(f'Distribution of {feature}')\n",
    "    ax.set_xlabel(feature)\n",
    "    ax.set_ylabel('Frequency')\n",
    "\n",
    "plt.tight_layout()\n",
    "plt.show()"
   ]
  },
  {
   "cell_type": "markdown",
   "id": "84ca8203",
   "metadata": {},
   "source": [
    "We don't see other data that we want to remove so we keep it as is."
   ]
  },
  {
   "cell_type": "markdown",
   "id": "8f33255694d136da",
   "metadata": {},
   "source": [
    "## Locating outliers in features"
   ]
  },
  {
   "cell_type": "markdown",
   "id": "92161878",
   "metadata": {},
   "source": [
    "We can also check for outliers using boxplots. "
   ]
  },
  {
   "cell_type": "code",
   "execution_count": null,
   "id": "e22dd097fb8012a9",
   "metadata": {
    "ExecuteTime": {
     "end_time": "2024-11-28T14:46:30.051118Z",
     "start_time": "2024-11-28T14:46:28.693409Z"
    }
   },
   "outputs": [],
   "source": [
    "features = house_df.columns.drop(['id', 'date'])\n",
    "num_features = len(features)\n",
    "num_cols = 5\n",
    "num_rows = (num_features + num_cols - 1) // num_cols\n",
    "\n",
    "fig, axes = plt.subplots(nrows=num_rows, ncols=num_cols, figsize=(20, num_rows * 4))\n",
    "axes = axes.flatten()\n",
    "\n",
    "for i, feature in enumerate(features):\n",
    "    ax = axes[i]\n",
    "    sns.boxplot(x=house_df[feature], ax=ax)\n",
    "    ax.set_title(f'Box Plot of {feature}')\n",
    "    ax.set_xlabel(feature)\n",
    "\n",
    "plt.tight_layout()\n",
    "plt.show()"
   ]
  },
  {
   "cell_type": "markdown",
   "id": "0d22a52c",
   "metadata": {},
   "source": [
    "There's noticeably a lot of outliers for features regarding sqft living but that is expected. <br>\n",
    "`yr_renovated` has \"outliers\" because unrenovated houses get a value of 0 for the feature. We leave it as is. "
   ]
  },
  {
   "cell_type": "markdown",
   "id": "ee070921",
   "metadata": {},
   "source": [
    "We make use of Isolation Forest, a model that uses binary trees to find outliers. We use this to check for more outliers that we may have missed. <br>We choose a random state of 42 just to keep the dataset consistent. "
   ]
  },
  {
   "cell_type": "code",
   "execution_count": null,
   "id": "b175b7c13502ab63",
   "metadata": {
    "ExecuteTime": {
     "end_time": "2024-11-28T14:46:30.301379Z",
     "start_time": "2024-11-28T14:46:30.091391Z"
    }
   },
   "outputs": [],
   "source": [
    "iso_forest = IsolationForest(contamination=0.01, random_state=42)\n",
    "outliers = iso_forest.fit_predict(house_df[features])\n",
    "house_df['outlier'] = outliers\n",
    "house_df_cleaned = house_df[house_df['outlier'] == 1].drop(columns=['outlier'])\n",
    "house_df_cleaned.head()"
   ]
  },
  {
   "cell_type": "code",
   "execution_count": null,
   "id": "2ad5094c",
   "metadata": {},
   "outputs": [],
   "source": [
    "house_df[house_df['id'] == 192300020]"
   ]
  },
  {
   "cell_type": "markdown",
   "id": "7d9ff85c",
   "metadata": {},
   "source": [
    "We display the distribution of the features once again to see how it affected the distribution."
   ]
  },
  {
   "cell_type": "code",
   "execution_count": null,
   "id": "80edd528e500c7c0",
   "metadata": {
    "ExecuteTime": {
     "end_time": "2024-11-28T14:46:31.807463Z",
     "start_time": "2024-11-28T14:46:30.340868Z"
    }
   },
   "outputs": [],
   "source": [
    "features = house_df_cleaned.columns.drop(['id', 'date'])\n",
    "num_features = len(features)\n",
    "num_cols = 5\n",
    "num_rows = (num_features + num_cols - 1) // num_cols\n",
    "\n",
    "fig, axes = plt.subplots(nrows=num_rows, ncols=num_cols, figsize=(20, num_rows * 4))\n",
    "axes = axes.flatten()\n",
    "\n",
    "for i, feature in enumerate(features):\n",
    "    ax = axes[i]\n",
    "    sns.boxplot(x=house_df_cleaned[feature], ax=ax)\n",
    "    ax.set_title(f'Box Plot of {feature}')\n",
    "    ax.set_xlabel(feature)\n",
    "\n",
    "plt.tight_layout()\n",
    "plt.show()"
   ]
  },
  {
   "cell_type": "markdown",
   "id": "ec1e99bb",
   "metadata": {},
   "source": []
  },
  {
   "cell_type": "markdown",
   "id": "87d0bdd9dd95fcd3",
   "metadata": {},
   "source": [
    "## Feature engineering"
   ]
  },
  {
   "cell_type": "markdown",
   "id": "ab97aa19",
   "metadata": {},
   "source": [
    "The age of a buidling can be very important in telling the price of a house. The older it is, the more likely it is to have a lower price. <br>\n",
    "To get the age of the building, we subtract the year the house was sold with the year the house was built (`year_built`). If the house was renovated, we substitute `yr_built` with `yr_renovated`."
   ]
  },
  {
   "cell_type": "code",
   "execution_count": null,
   "id": "31bdc3493113353e",
   "metadata": {
    "ExecuteTime": {
     "end_time": "2024-11-28T14:46:31.928593Z",
     "start_time": "2024-11-28T14:46:31.829391Z"
    }
   },
   "outputs": [],
   "source": [
    "house_df = house_df_cleaned\n",
    "house_df['year'] = house_df['date'].dt.year\n",
    "house_df['age'] = house_df.apply(lambda row: row['year'] - row['yr_renovated'] if row['yr_renovated'] != 0 else row['year'] - row['yr_built'], axis=1)"
   ]
  },
  {
   "cell_type": "markdown",
   "id": "ad2e8559",
   "metadata": {},
   "source": [
    "To check the correctness of the logic, we check for any house that has a negative age. "
   ]
  },
  {
   "cell_type": "code",
   "execution_count": null,
   "id": "116bd79e",
   "metadata": {},
   "outputs": [],
   "source": [
    "house_df[house_df['age'] < 0]"
   ]
  },
  {
   "cell_type": "markdown",
   "id": "8f32bd1f",
   "metadata": {},
   "source": [
    "We realized that some houses may have been bought while they were still being built/renovated, resulting in a negative age. To work around this, we will be giving it an age of 0 as the house since the house is not built yet. "
   ]
  },
  {
   "cell_type": "code",
   "execution_count": null,
   "id": "432daed5",
   "metadata": {},
   "outputs": [],
   "source": [
    "house_df['age'] = house_df['age'].replace(-1,0)\n",
    "pd.DataFrame(house_df['age'].value_counts().sort_index(ascending=True))"
   ]
  },
  {
   "cell_type": "markdown",
   "id": "257cfc00",
   "metadata": {},
   "source": [
    "With the value count of age being sorted ascendingly, we can see that there are no more rows with a negative value for age. "
   ]
  },
  {
   "cell_type": "code",
   "execution_count": null,
   "id": "c2c3970aa6ae8842",
   "metadata": {
    "ExecuteTime": {
     "end_time": "2024-11-28T14:46:51.545069Z",
     "start_time": "2024-11-28T14:46:51.537747Z"
    }
   },
   "outputs": [],
   "source": [
    "house_df.head()"
   ]
  },
  {
   "cell_type": "markdown",
   "id": "45cabbea13e166d",
   "metadata": {},
   "source": [
    "## Correlation of features"
   ]
  },
  {
   "cell_type": "markdown",
   "id": "8ba759e4",
   "metadata": {},
   "source": [
    "Since we will be attempting to predict the price of a building given these features, we want to see how each feature affects the price."
   ]
  },
  {
   "cell_type": "code",
   "execution_count": null,
   "id": "9bcfcf1c2a5ae8dc",
   "metadata": {
    "ExecuteTime": {
     "end_time": "2024-11-28T14:47:59.146484Z",
     "start_time": "2024-11-28T14:47:58.682861Z"
    }
   },
   "outputs": [],
   "source": [
    "correlation_matrix = house_df.corr()\n",
    "\n",
    "# Plot the heatmap\n",
    "plt.figure(figsize=(12, 10))\n",
    "sns.heatmap(correlation_matrix, annot=True, cmap='YlOrBr', fmt='.2f', linewidths=0.5)\n",
    "plt.title('Correlation Matrix Heatmap')\n",
    "plt.show()"
   ]
  },
  {
   "cell_type": "markdown",
   "id": "4335991e",
   "metadata": {},
   "source": [
    "So far, the features that positively correlate the most with price are \n",
    "- `sqft_living`\n",
    "- `grade`\n",
    "- `sqft_above`\n",
    "- `sqft_living`\n",
    "- `bathrooms`"
   ]
  },
  {
   "cell_type": "markdown",
   "id": "1c05b977272ac961",
   "metadata": {},
   "source": [
    "## Feature Selection"
   ]
  },
  {
   "cell_type": "markdown",
   "id": "79e49b07",
   "metadata": {},
   "source": [
    "For now, we will be removing the features below for the following reasons. \n",
    "- `id` - the identifier does not really influence the price \n",
    "- `yr_built`, `yr_renovated`, `year` and `date` - we are already using `age` so we wouldn't need the features that computationally lead to the new feature we added\n",
    "- `lat` and `long` - we believe that we can implement this feature a little better so we are removing it for now. "
   ]
  },
  {
   "cell_type": "code",
   "execution_count": null,
   "id": "2e9257ea320cd2fe",
   "metadata": {
    "ExecuteTime": {
     "end_time": "2024-11-28T14:49:55.737921Z",
     "start_time": "2024-11-28T14:49:55.735910Z"
    }
   },
   "outputs": [],
   "source": [
    "col_remove = ['id', 'date', 'yr_built', 'yr_renovated', 'lat', 'long', 'count', 'year']"
   ]
  },
  {
   "cell_type": "markdown",
   "id": "ee8426a2",
   "metadata": {},
   "source": [
    "### ydata-profiling"
   ]
  },
  {
   "cell_type": "markdown",
   "id": "fe6c38d0",
   "metadata": {},
   "source": [
    "To get a quick understanding of our data, we use an external library `ydata-profiling`. This library allows us to generate an EDA of the dataset's variables, interactions, correlations and missing values. \n",
    "\n",
    "We also specify the correlations we want to see. `phi_k` is great for finding correlations in categorical data while `pearson` is generally great for finding linear relationships between two variables"
   ]
  },
  {
   "cell_type": "code",
   "execution_count": null,
   "id": "9dd44ce3",
   "metadata": {
    "ExecuteTime": {
     "end_time": "2024-11-28T09:19:01.955627Z",
     "start_time": "2024-11-28T09:18:41.253480Z"
    }
   },
   "outputs": [],
   "source": [
    "profile = ProfileReport(df=house_df,\n",
    "    title=\"House Price Profiling Report\", \n",
    "    correlations={\n",
    "            \"pearson\": {\"calculate\": True},\n",
    "            \"phi_k\": {\"calculate\": True},\n",
    "        })\n",
    "profile.to_file('house_prices_ydata_report.html')\n",
    "profile"
   ]
  },
  {
   "cell_type": "markdown",
   "id": "087e738b",
   "metadata": {},
   "source": [
    "Since we've already removed a good amount of data in the previous section, the overal distribution in data look better. We also find a lot less extreme values. "
   ]
  },
  {
   "cell_type": "markdown",
   "id": "0cc6a001-1dd7-4f9f-ac04-a49a0fbd1bbd",
   "metadata": {
    "id": "0cc6a001-1dd7-4f9f-ac04-a49a0fbd1bbd"
   },
   "source": [
    "### When was the most houses sold?"
   ]
  },
  {
   "cell_type": "markdown",
   "id": "2d221543",
   "metadata": {},
   "source": [
    "Seeing the time when houses were most sold can help us get a better idea of the data that is included in our data set. "
   ]
  },
  {
   "cell_type": "code",
   "execution_count": null,
   "id": "60c8cfd1-89c1-4ddb-831d-c51202f4ea26",
   "metadata": {
    "ExecuteTime": {
     "end_time": "2024-11-28T09:19:02.122150Z",
     "start_time": "2024-11-28T09:19:02.111805Z"
    },
    "id": "60c8cfd1-89c1-4ddb-831d-c51202f4ea26"
   },
   "outputs": [],
   "source": [
    "house_ym_df = house_df.copy()\n",
    "house_ym_df['count'] = 1\n",
    "daily_counts = house_ym_df.groupby('date').count().reset_index()\n",
    "\n",
    "# Group by month and year, summing the counts\n",
    "daily_counts['year_month'] = daily_counts['date'].dt.to_period('M')  # Convert to year-month period\n",
    "monthly_counts = daily_counts.groupby('year_month')['count'].sum().reset_index()\n",
    "\n",
    "# Convert back to datetime format for plotting\n",
    "monthly_counts['year_month'] = monthly_counts['year_month'].dt.to_timestamp().sort_values(ascending=False)"
   ]
  },
  {
   "cell_type": "code",
   "execution_count": null,
   "id": "5b7f5982-4d56-4053-8f81-aa6606c4b848",
   "metadata": {
    "ExecuteTime": {
     "end_time": "2024-11-28T09:19:03.250328Z",
     "start_time": "2024-11-28T09:19:03.083303Z"
    },
    "colab": {
     "base_uri": "https://localhost:8080/",
     "height": 537
    },
    "id": "5b7f5982-4d56-4053-8f81-aa6606c4b848",
    "outputId": "99824abe-2949-4194-d76b-f48ee8deee2e"
   },
   "outputs": [],
   "source": [
    "plt.figure(figsize=(10, 6))\n",
    "plt.plot(monthly_counts['year_month'], monthly_counts['count'], marker='o')\n",
    "plt.ylim(ymin=0)\n",
    "plt.title(\"Houses Sold between May 2014 and May 2015\")\n",
    "plt.xlabel(\"Time\")\n",
    "plt.ylabel(\"Houses sold\")\n",
    "plt.gca().xaxis.set_major_formatter(mdates.DateFormatter('%Y-%m'))\n",
    "plt.gca().xaxis.set_major_locator(mdates.MonthLocator())  # Show each month\n",
    "\n",
    "# Rotate date labels\n",
    "plt.gcf().autofmt_xdate()\n",
    "\n",
    "plt.show()"
   ]
  },
  {
   "cell_type": "markdown",
   "id": "74fc9c06",
   "metadata": {},
   "source": [
    "The timeline ranges from 2014 to 2015. We can find a slow decline throughout 2014 but a huge increase of houses bought from 2015-01 to 2015-04. A huge dip can be observed again on 2015-05 but this dip can be caused by the data collection period ending during that month. "
   ]
  },
  {
   "cell_type": "code",
   "execution_count": null,
   "id": "dc79ff2b-f603-452c-ab48-4cfb95533f27",
   "metadata": {
    "ExecuteTime": {
     "end_time": "2024-11-28T09:19:03.293289Z",
     "start_time": "2024-11-28T09:19:03.289214Z"
    },
    "colab": {
     "base_uri": "https://localhost:8080/",
     "height": 457
    },
    "id": "dc79ff2b-f603-452c-ab48-4cfb95533f27",
    "outputId": "4c8a02e1-1e07-4614-acbe-e3b39172ce07"
   },
   "outputs": [],
   "source": [
    "# monthly_counts['year_month'] = monthly_counts['year_month'].dt.to_period('M')\n",
    "monthly_counts.sort_values(by=['count'], ascending=False)"
   ]
  },
  {
   "cell_type": "code",
   "execution_count": null,
   "id": "1f9c48dd-7210-4e1d-a2b5-88f7e72277bf",
   "metadata": {
    "ExecuteTime": {
     "end_time": "2024-11-28T09:19:03.383422Z",
     "start_time": "2024-11-28T09:19:03.380015Z"
    },
    "colab": {
     "base_uri": "https://localhost:8080/",
     "height": 335
    },
    "id": "1f9c48dd-7210-4e1d-a2b5-88f7e72277bf",
    "outputId": "76de7abe-a8fb-4d68-ad45-8af4455e4180"
   },
   "outputs": [],
   "source": [
    "monthly_counts['count'].describe()"
   ]
  },
  {
   "cell_type": "markdown",
   "id": "b9f0f971-c867-4f77-bbc6-7b8450fc6ac2",
   "metadata": {
    "id": "b9f0f971-c867-4f77-bbc6-7b8450fc6ac2"
   },
   "source": [
    "### What is the distribution of prices of a house overtime?"
   ]
  },
  {
   "cell_type": "markdown",
   "id": "f4214465",
   "metadata": {},
   "source": [
    "To get a big picture of the house price distribution throughout time, we put it into a scatter plot, grouped by year-month. "
   ]
  },
  {
   "cell_type": "code",
   "execution_count": null,
   "id": "a6ed1961-4102-4953-84ff-f02fb4c7c53b",
   "metadata": {
    "ExecuteTime": {
     "end_time": "2024-11-28T09:19:03.483628Z",
     "start_time": "2024-11-28T09:19:03.479694Z"
    },
    "id": "a6ed1961-4102-4953-84ff-f02fb4c7c53b"
   },
   "outputs": [],
   "source": [
    "house_ym_df['year_month'] = house_ym_df['date'].dt.to_period('M')  # Convert to year-month period"
   ]
  },
  {
   "cell_type": "code",
   "execution_count": null,
   "id": "c4b19095-1f78-4141-ab42-bfad8be7876b",
   "metadata": {
    "ExecuteTime": {
     "end_time": "2024-11-28T09:19:03.910784Z",
     "start_time": "2024-11-28T09:19:03.905899Z"
    },
    "colab": {
     "base_uri": "https://localhost:8080/",
     "height": 335
    },
    "id": "c4b19095-1f78-4141-ab42-bfad8be7876b",
    "outputId": "98055bef-2353-44e5-9a16-aaec5dfa438a"
   },
   "outputs": [],
   "source": [
    "house_ym_df['price'].describe().apply(lambda x: format(x, 'f'))"
   ]
  },
  {
   "cell_type": "code",
   "execution_count": null,
   "id": "46980bc6-6296-4c43-ac47-bcb932f00efc",
   "metadata": {
    "ExecuteTime": {
     "end_time": "2024-11-28T09:19:04.313942Z",
     "start_time": "2024-11-28T09:19:04.052501Z"
    },
    "colab": {
     "base_uri": "https://localhost:8080/",
     "height": 275
    },
    "id": "46980bc6-6296-4c43-ac47-bcb932f00efc",
    "outputId": "36bbc6ff-4da9-4c7b-bfa1-414fbef3f4db"
   },
   "outputs": [],
   "source": [
    "plt.figure(figsize=(45, 6))\n",
    "plt.scatter(house_ym_df['date'], house_ym_df['price'])"
   ]
  },
  {
   "cell_type": "markdown",
   "id": "e3ef1e3a",
   "metadata": {},
   "source": [
    "We can notive a few outliers but that's normal as there are naturally going to be only a few expensive houses being sold overtime. "
   ]
  },
  {
   "cell_type": "markdown",
   "id": "78812e97-875b-4765-a672-315a6d398f18",
   "metadata": {
    "id": "78812e97-875b-4765-a672-315a6d398f18"
   },
   "source": [
    "### What is the distribution of the condition of houses sold?"
   ]
  },
  {
   "cell_type": "markdown",
   "id": "0ed74460",
   "metadata": {},
   "source": [
    "We do the same but for condition"
   ]
  },
  {
   "cell_type": "code",
   "execution_count": null,
   "id": "e7cd5754-2fb6-45dd-955e-2cf80505da46",
   "metadata": {
    "ExecuteTime": {
     "end_time": "2024-11-28T09:19:04.573808Z",
     "start_time": "2024-11-28T09:19:04.570375Z"
    },
    "colab": {
     "base_uri": "https://localhost:8080/",
     "height": 272
    },
    "id": "e7cd5754-2fb6-45dd-955e-2cf80505da46",
    "outputId": "c0d118ab-c8a3-412f-9715-92d5f2cdd5f3"
   },
   "outputs": [],
   "source": [
    "house_df['condition'].value_counts()"
   ]
  },
  {
   "cell_type": "code",
   "execution_count": null,
   "id": "dd6402d0-9efa-4ad6-89ce-b178a9d995c8",
   "metadata": {
    "ExecuteTime": {
     "end_time": "2024-11-28T09:19:04.799618Z",
     "start_time": "2024-11-28T09:19:04.719512Z"
    },
    "colab": {
     "base_uri": "https://localhost:8080/",
     "height": 524
    },
    "id": "dd6402d0-9efa-4ad6-89ce-b178a9d995c8",
    "outputId": "e322efa9-6cbf-4fbc-db0b-1b66b03c4a77"
   },
   "outputs": [],
   "source": [
    "bins = [1, 2, 3, 4, 5, 6]\n",
    "plt.xticks(bins)\n",
    "plt.title(\"Condition of Houses Sold\")\n",
    "plt.xlabel(\"Condition\")\n",
    "plt.ylabel(\"Frequency\")\n",
    "plt.hist(house_df['condition'], bins=bins, align='left', edgecolor=\"black\", rwidth=0.5)\n"
   ]
  },
  {
   "cell_type": "markdown",
   "id": "d93310af-b64e-430a-850d-749719b9215a",
   "metadata": {
    "id": "d93310af-b64e-430a-850d-749719b9215a"
   },
   "source": [
    "### What is the distribution of the grade of houses sold?"
   ]
  },
  {
   "cell_type": "code",
   "execution_count": null,
   "id": "84f7580d-d4a3-4940-aee3-476d13d18bc0",
   "metadata": {
    "ExecuteTime": {
     "end_time": "2024-11-28T09:19:05.249100Z",
     "start_time": "2024-11-28T09:19:05.245914Z"
    },
    "colab": {
     "base_uri": "https://localhost:8080/",
     "height": 492
    },
    "id": "84f7580d-d4a3-4940-aee3-476d13d18bc0",
    "outputId": "f687f934-5440-4e0c-f16c-14bae25290e9"
   },
   "outputs": [],
   "source": [
    "house_df['grade'].value_counts()"
   ]
  },
  {
   "cell_type": "code",
   "execution_count": null,
   "id": "cba25dca-c546-46a9-96c7-e427e919105d",
   "metadata": {
    "ExecuteTime": {
     "end_time": "2024-11-28T09:19:05.572093Z",
     "start_time": "2024-11-28T09:19:05.467996Z"
    },
    "colab": {
     "base_uri": "https://localhost:8080/",
     "height": 576
    },
    "id": "cba25dca-c546-46a9-96c7-e427e919105d",
    "outputId": "ab9f3cd9-cf34-4e6c-ed02-d83c83da3d70"
   },
   "outputs": [],
   "source": [
    "bins = [1, 2, 3, 4, 5, 6, 7, 8, 9, 10, 11, 12, 13, 14]\n",
    "plt.xticks(bins)\n",
    "plt.title(\"Grade of Houses Sold\")\n",
    "plt.xlabel(\"Grade\")\n",
    "plt.ylabel(\"Frequency\")\n",
    "plt.hist(house_df['grade'], bins=bins, align='left', edgecolor=\"black\", rwidth=0.5)"
   ]
  },
  {
   "cell_type": "markdown",
   "id": "l6Tb8lpa4NMw",
   "metadata": {
    "id": "l6Tb8lpa4NMw"
   },
   "source": [
    "### Is sqft_living just sqft_above + sqft_basement?"
   ]
  },
  {
   "cell_type": "code",
   "execution_count": null,
   "id": "k9PTMSLY4Wa2",
   "metadata": {
    "ExecuteTime": {
     "end_time": "2024-11-28T09:19:06.098424Z",
     "start_time": "2024-11-28T09:19:06.095033Z"
    },
    "colab": {
     "base_uri": "https://localhost:8080/"
    },
    "id": "k9PTMSLY4Wa2",
    "outputId": "353e6fa4-6900-477c-ebfa-0f1c5428b88d"
   },
   "outputs": [],
   "source": [
    "# Check if sqft_living equals sqft_above + sqft_basement\n",
    "mismatch = house_df[house_df['sqft_living'] != house_df['sqft_above'] + house_df['sqft_basement']]\n",
    "\n",
    "# Index the id where the condition is not met\n",
    "mismatch_ids = mismatch['id'].tolist()\n",
    "\n",
    "print(\"IDs where sqft_living != sqft_above + sqft_basement:\", mismatch_ids)"
   ]
  },
  {
   "cell_type": "markdown",
   "id": "DjChuA1b4nQv",
   "metadata": {
    "id": "DjChuA1b4nQv"
   },
   "source": [
    "Yes, yes it is just sqft_above + sqft_basement"
   ]
  },
  {
   "cell_type": "markdown",
   "id": "c3513be5-99ba-4ecb-ab79-4d13658e99e7",
   "metadata": {
    "id": "c3513be5-99ba-4ecb-ab79-4d13658e99e7"
   },
   "source": [
    "### Is there a statistically significant difference between condition and grade on price?"
   ]
  },
  {
   "cell_type": "code",
   "execution_count": null,
   "id": "37264ee1-90ff-4008-a844-69e4921ab503",
   "metadata": {
    "ExecuteTime": {
     "end_time": "2024-11-28T09:19:06.818455Z",
     "start_time": "2024-11-28T09:19:06.235211Z"
    },
    "colab": {
     "base_uri": "https://localhost:8080/"
    },
    "id": "37264ee1-90ff-4008-a844-69e4921ab503",
    "outputId": "0adbdf47-b323-4184-d7f8-8071a9fd9acd"
   },
   "outputs": [],
   "source": [
    "price_grade_condition = house_df[['price', 'grade', 'condition']]\n",
    "model = ols('price ~ C(grade) + C(condition) + C(grade):C(condition)',\n",
    "            data=price_grade_condition).fit()\n",
    "result = sm.stats.anova_lm(model, type=2)\n",
    "print(result)"
   ]
  },
  {
   "cell_type": "markdown",
   "id": "192e0586-f579-44f0-b32e-3c5cf2c579ce",
   "metadata": {
    "id": "192e0586-f579-44f0-b32e-3c5cf2c579ce"
   },
   "source": [
    "### Is there a statistically significant difference between having a waterfront and a good view on price?"
   ]
  },
  {
   "cell_type": "code",
   "execution_count": null,
   "id": "36d22ce2-7dd9-47cb-bb40-696cbbf342c7",
   "metadata": {
    "ExecuteTime": {
     "end_time": "2024-11-28T09:19:06.946178Z",
     "start_time": "2024-11-28T09:19:06.867609Z"
    },
    "colab": {
     "base_uri": "https://localhost:8080/"
    },
    "id": "36d22ce2-7dd9-47cb-bb40-696cbbf342c7",
    "outputId": "449ca810-0c84-442e-85e1-e98905f3590c"
   },
   "outputs": [],
   "source": [
    "price_waterfront_view = house_df[['price', 'waterfront', 'view']]\n",
    "model = ols('price ~ C(waterfront) + C(view) + C(waterfront):C(view)',\n",
    "            data=price_waterfront_view).fit()\n",
    "result = sm.stats.anova_lm(model, type=2)\n",
    "print(result)"
   ]
  },
  {
   "cell_type": "markdown",
   "id": "6c9562c0-30cc-48ab-9160-5af9809fd345",
   "metadata": {
    "id": "6c9562c0-30cc-48ab-9160-5af9809fd345"
   },
   "source": [
    "### Is there a correlation between price and number of bedrooms?"
   ]
  },
  {
   "cell_type": "code",
   "execution_count": null,
   "id": "481d0bfb-e419-4037-aa3c-d3e33a202e7f",
   "metadata": {
    "ExecuteTime": {
     "end_time": "2024-11-28T09:19:07.042728Z",
     "start_time": "2024-11-28T09:19:07.029429Z"
    },
    "colab": {
     "base_uri": "https://localhost:8080/",
     "height": 112
    },
    "id": "481d0bfb-e419-4037-aa3c-d3e33a202e7f",
    "outputId": "19110fd0-a7d8-4b57-a306-1a2f384b4e41"
   },
   "outputs": [],
   "source": [
    "house_df[['price', 'bedrooms']].corr()"
   ]
  },
  {
   "cell_type": "code",
   "execution_count": null,
   "id": "5f12f66a-2fd4-42c5-8dd4-6f85d1129006",
   "metadata": {
    "ExecuteTime": {
     "end_time": "2024-11-28T09:19:07.293053Z",
     "start_time": "2024-11-28T09:19:07.131996Z"
    },
    "colab": {
     "base_uri": "https://localhost:8080/",
     "height": 581
    },
    "id": "5f12f66a-2fd4-42c5-8dd4-6f85d1129006",
    "outputId": "c2839337-bb92-4c50-fee0-2e9827f42fb0"
   },
   "outputs": [],
   "source": [
    "plt.figure(figsize=(10, 6))\n",
    "plt.title(\"Correlation between Bedrooms and Price of Sold Houses\")\n",
    "plt.xlabel(\"Number of bedrooms\")\n",
    "plt.ylabel(\"Price\")\n",
    "plt.scatter(house_df['bedrooms'], house_df['price'], alpha=0.5)"
   ]
  },
  {
   "cell_type": "markdown",
   "id": "f4ba4d3b-eae6-4847-946a-b76cfb3e03fe",
   "metadata": {
    "id": "f4ba4d3b-eae6-4847-946a-b76cfb3e03fe"
   },
   "source": [
    "### Is there a correlation between price and number of bathrooms?"
   ]
  },
  {
   "cell_type": "code",
   "execution_count": null,
   "id": "171e0b04-5d39-454c-a9de-4d266476437a",
   "metadata": {
    "ExecuteTime": {
     "end_time": "2024-11-28T09:19:07.601686Z",
     "start_time": "2024-11-28T09:19:07.597411Z"
    },
    "colab": {
     "base_uri": "https://localhost:8080/",
     "height": 112
    },
    "id": "171e0b04-5d39-454c-a9de-4d266476437a",
    "outputId": "d9633071-35fe-43b4-997e-71e4a51a26d5"
   },
   "outputs": [],
   "source": [
    "house_df[['price', 'bathrooms']].corr()"
   ]
  },
  {
   "cell_type": "code",
   "execution_count": null,
   "id": "d603d662-e4e6-4d96-a6e5-d2731f707429",
   "metadata": {
    "ExecuteTime": {
     "end_time": "2024-11-28T09:19:07.882856Z",
     "start_time": "2024-11-28T09:19:07.740075Z"
    },
    "colab": {
     "base_uri": "https://localhost:8080/",
     "height": 581
    },
    "id": "d603d662-e4e6-4d96-a6e5-d2731f707429",
    "outputId": "c374189f-bde9-4f68-b2f1-f815635a49c2"
   },
   "outputs": [],
   "source": [
    "plt.figure(figsize=(10, 6))\n",
    "plt.title(\"Correlation between Bathrooms and Price of Sold Houses\")\n",
    "plt.xlabel(\"Number of bathrooms\")\n",
    "plt.ylabel(\"Price\")\n",
    "plt.scatter(house_df['bathrooms'], house_df['price'], alpha=0.5)"
   ]
  },
  {
   "cell_type": "markdown",
   "id": "48de9b03-911f-4069-9dee-0040121c2a83",
   "metadata": {
    "id": "48de9b03-911f-4069-9dee-0040121c2a83"
   },
   "source": [
    "### Is there a correlation between price and the size of a house's living area in square feet?"
   ]
  },
  {
   "cell_type": "code",
   "execution_count": null,
   "id": "190e7984-ebe4-4bff-a7f6-cb9204c4bdad",
   "metadata": {
    "ExecuteTime": {
     "end_time": "2024-11-28T09:19:08.240548Z",
     "start_time": "2024-11-28T09:19:08.235777Z"
    },
    "colab": {
     "base_uri": "https://localhost:8080/",
     "height": 112
    },
    "id": "190e7984-ebe4-4bff-a7f6-cb9204c4bdad",
    "outputId": "6a53a744-3ca3-4371-b02f-3f7ae1596eb3"
   },
   "outputs": [],
   "source": [
    "house_df[['price', 'sqft_living']].corr()"
   ]
  },
  {
   "cell_type": "code",
   "execution_count": null,
   "id": "a73be831-0b6b-4774-9bd3-8e88e3d7ab10",
   "metadata": {
    "ExecuteTime": {
     "end_time": "2024-11-28T09:19:08.508099Z",
     "start_time": "2024-11-28T09:19:08.363187Z"
    },
    "colab": {
     "base_uri": "https://localhost:8080/",
     "height": 581
    },
    "id": "a73be831-0b6b-4774-9bd3-8e88e3d7ab10",
    "outputId": "5e8cd69b-5eaf-413f-82b2-834d464741bc"
   },
   "outputs": [],
   "source": [
    "plt.figure(figsize=(10, 6))\n",
    "plt.title(\"Correlation between Size of Living Area in Square Feet and Price of Sold Houses\")\n",
    "plt.xlabel(\"Size of Living Area in Square Feet\")\n",
    "plt.ylabel(\"Price\")\n",
    "plt.scatter(house_df['sqft_living'], house_df['price'], alpha=0.5)"
   ]
  },
  {
   "cell_type": "markdown",
   "id": "dea1d561-b0da-4c50-a3b4-97beb8b6ceb0",
   "metadata": {
    "id": "dea1d561-b0da-4c50-a3b4-97beb8b6ceb0"
   },
   "source": [
    "### Is there a correlation between price and the size of a house's lot?"
   ]
  },
  {
   "cell_type": "code",
   "execution_count": null,
   "id": "6f7d0b6a-67e7-4f8d-92b5-521c78636102",
   "metadata": {
    "ExecuteTime": {
     "end_time": "2024-11-28T09:19:08.834068Z",
     "start_time": "2024-11-28T09:19:08.829886Z"
    },
    "colab": {
     "base_uri": "https://localhost:8080/",
     "height": 112
    },
    "id": "6f7d0b6a-67e7-4f8d-92b5-521c78636102",
    "outputId": "b841cdc4-b90c-4f4e-9ebb-41c2bb164476"
   },
   "outputs": [],
   "source": [
    "house_df[['price', 'sqft_lot']].corr()"
   ]
  },
  {
   "cell_type": "code",
   "execution_count": null,
   "id": "a14c5975-0d02-42d5-b922-d623d3cddfce",
   "metadata": {
    "ExecuteTime": {
     "end_time": "2024-11-28T09:19:09.107538Z",
     "start_time": "2024-11-28T09:19:08.967991Z"
    },
    "colab": {
     "base_uri": "https://localhost:8080/",
     "height": 581
    },
    "id": "a14c5975-0d02-42d5-b922-d623d3cddfce",
    "outputId": "5c9cd6ed-8719-4cbe-e9cd-a0c14cf3fb3e"
   },
   "outputs": [],
   "source": [
    "plt.figure(figsize=(10, 6))\n",
    "plt.title(\"Correlation between Size of Lot in Square Feet and Price of Sold Houses\")\n",
    "plt.xlabel(\"Size of Lot in Square Feet\")\n",
    "plt.ylabel(\"Price\")\n",
    "plt.scatter(house_df['sqft_lot'], house_df['price'], alpha=0.5)"
   ]
  },
  {
   "cell_type": "markdown",
   "id": "8fe60fd7-4db3-4a1e-b42f-4073352c489d",
   "metadata": {
    "id": "8fe60fd7-4db3-4a1e-b42f-4073352c489d"
   },
   "source": [
    "### Is there a correlation between price and total number of floors?"
   ]
  },
  {
   "cell_type": "code",
   "execution_count": null,
   "id": "1963ec9e-33ab-4f49-b23b-35fdf1d6cb6a",
   "metadata": {
    "ExecuteTime": {
     "end_time": "2024-11-28T09:19:09.463841Z",
     "start_time": "2024-11-28T09:19:09.459780Z"
    },
    "colab": {
     "base_uri": "https://localhost:8080/",
     "height": 112
    },
    "id": "1963ec9e-33ab-4f49-b23b-35fdf1d6cb6a",
    "outputId": "71d5f4ce-52ba-486e-a731-b93473cf52ec"
   },
   "outputs": [],
   "source": [
    "house_df[['price', 'floors']].corr()"
   ]
  },
  {
   "cell_type": "code",
   "execution_count": null,
   "id": "6351f9ce-841e-429e-8113-0787b0701bef",
   "metadata": {
    "ExecuteTime": {
     "end_time": "2024-11-28T09:19:09.705929Z",
     "start_time": "2024-11-28T09:19:09.569025Z"
    },
    "colab": {
     "base_uri": "https://localhost:8080/",
     "height": 581
    },
    "id": "6351f9ce-841e-429e-8113-0787b0701bef",
    "outputId": "161450be-9644-40c7-f87f-921154e3075b"
   },
   "outputs": [],
   "source": [
    "plt.figure(figsize=(10, 6))\n",
    "plt.title(\"Correlation between Total Number of Floors and Price of Sold Houses\")\n",
    "plt.xlabel(\"Total Number of Floors\")\n",
    "plt.ylabel(\"Price\")\n",
    "plt.scatter(house_df['floors'], house_df['price'], alpha=0.5)"
   ]
  },
  {
   "cell_type": "markdown",
   "id": "9d6bf84b-2ab5-4176-b2d9-b124a7958d4b",
   "metadata": {
    "id": "9d6bf84b-2ab5-4176-b2d9-b124a7958d4b"
   },
   "source": [
    "### Is there a trend between price and if the property has a waterfront?"
   ]
  },
  {
   "cell_type": "code",
   "execution_count": null,
   "id": "f5d138b6-482d-470d-8e7d-019f9de3a0f6",
   "metadata": {
    "ExecuteTime": {
     "end_time": "2024-11-28T09:19:10.117642Z",
     "start_time": "2024-11-28T09:19:10.039579Z"
    },
    "colab": {
     "base_uri": "https://localhost:8080/",
     "height": 512
    },
    "id": "f5d138b6-482d-470d-8e7d-019f9de3a0f6",
    "outputId": "39c1fe18-1f42-4ae1-e12a-a4df505b8894"
   },
   "outputs": [],
   "source": [
    "house_df.boxplot(\"price\", by=\"waterfront\", figsize=(5, 5))"
   ]
  },
  {
   "cell_type": "markdown",
   "id": "6d4f97a4-8af1-4d19-9ba0-f5616d367a20",
   "metadata": {
    "id": "6d4f97a4-8af1-4d19-9ba0-f5616d367a20"
   },
   "source": [
    "### Is there a trend between price and how good of a view the property has?"
   ]
  },
  {
   "cell_type": "code",
   "execution_count": null,
   "id": "429f91c1-0e0a-48c8-9ff4-2df71477a7ea",
   "metadata": {
    "ExecuteTime": {
     "end_time": "2024-11-28T09:19:10.297527Z",
     "start_time": "2024-11-28T09:19:10.203611Z"
    },
    "colab": {
     "base_uri": "https://localhost:8080/",
     "height": 512
    },
    "id": "429f91c1-0e0a-48c8-9ff4-2df71477a7ea",
    "outputId": "efb8e123-3a5f-4184-9aaf-7a432b0953cb"
   },
   "outputs": [],
   "source": [
    "house_df.boxplot(\"price\", by=\"view\", figsize=(5, 5))"
   ]
  },
  {
   "cell_type": "markdown",
   "id": "cb14ed55-7868-4ede-8314-e188beeaa37a",
   "metadata": {
    "id": "cb14ed55-7868-4ede-8314-e188beeaa37a"
   },
   "source": [
    "### Is there a correlation between price and how high the house was built above ground?"
   ]
  },
  {
   "cell_type": "code",
   "execution_count": null,
   "id": "7e49a551-ef23-40c2-90ab-c9804c4176d0",
   "metadata": {
    "ExecuteTime": {
     "end_time": "2024-11-28T09:19:10.339953Z",
     "start_time": "2024-11-28T09:19:10.335541Z"
    },
    "colab": {
     "base_uri": "https://localhost:8080/",
     "height": 112
    },
    "id": "7e49a551-ef23-40c2-90ab-c9804c4176d0",
    "outputId": "c4074cae-56c0-40ee-e8b1-0b5206c39cf6"
   },
   "outputs": [],
   "source": [
    "house_df[['price', 'sqft_above']].corr()"
   ]
  },
  {
   "cell_type": "code",
   "execution_count": null,
   "id": "b4bf3a04-297b-45fb-8d18-bb02507ea10e",
   "metadata": {
    "ExecuteTime": {
     "end_time": "2024-11-28T09:19:10.547924Z",
     "start_time": "2024-11-28T09:19:10.414438Z"
    },
    "colab": {
     "base_uri": "https://localhost:8080/",
     "height": 581
    },
    "id": "b4bf3a04-297b-45fb-8d18-bb02507ea10e",
    "outputId": "bca9b8a8-56c0-459f-e4db-402555daa057"
   },
   "outputs": [],
   "source": [
    "plt.figure(figsize=(10, 6))\n",
    "plt.title(\"Correlation between Square feet above ground and Price of Sold Houses\")\n",
    "plt.xlabel(\"Square feet above ground\")\n",
    "plt.ylabel(\"Price\")\n",
    "plt.scatter(house_df['sqft_above'], house_df['price'], alpha=0.5)"
   ]
  },
  {
   "cell_type": "markdown",
   "id": "61a31c72-4d1c-4ef2-8925-bdb47a35a0cc",
   "metadata": {
    "id": "61a31c72-4d1c-4ef2-8925-bdb47a35a0cc"
   },
   "source": [
    "### Is there a correlation between price and how low the house was built?"
   ]
  },
  {
   "cell_type": "code",
   "execution_count": null,
   "id": "dab7a2e6-a085-4d91-bc9d-9941b11e444b",
   "metadata": {
    "ExecuteTime": {
     "end_time": "2024-11-28T09:19:10.892171Z",
     "start_time": "2024-11-28T09:19:10.887944Z"
    },
    "colab": {
     "base_uri": "https://localhost:8080/",
     "height": 112
    },
    "id": "dab7a2e6-a085-4d91-bc9d-9941b11e444b",
    "outputId": "67e7303a-64b8-47ce-a4c4-7347f4f78cc1"
   },
   "outputs": [],
   "source": [
    "house_df[['price', 'sqft_basement']].corr()"
   ]
  },
  {
   "cell_type": "code",
   "execution_count": null,
   "id": "cb930c22-12fc-457a-acfe-380f30185ec1",
   "metadata": {
    "ExecuteTime": {
     "end_time": "2024-11-28T09:19:11.147672Z",
     "start_time": "2024-11-28T09:19:11.002956Z"
    },
    "colab": {
     "base_uri": "https://localhost:8080/",
     "height": 581
    },
    "id": "cb930c22-12fc-457a-acfe-380f30185ec1",
    "outputId": "33051c3c-81f4-4a0b-8f19-95e6d560c1cb"
   },
   "outputs": [],
   "source": [
    "plt.figure(figsize=(10, 6))\n",
    "plt.title(\"Correlation between Square Feet below Ground and Price of Sold Houses\")\n",
    "plt.xlabel(\"Square feet below ground\")\n",
    "plt.ylabel(\"Price\")\n",
    "plt.scatter(house_df['sqft_basement'], house_df['price'], alpha=0.5)"
   ]
  },
  {
   "cell_type": "markdown",
   "id": "aa1dd288-2a8e-4214-bff1-303d506424dc",
   "metadata": {
    "id": "aa1dd288-2a8e-4214-bff1-303d506424dc"
   },
   "source": [
    "### Is there a correlation between price and average size of interior housing living space for the closest 15 houses?"
   ]
  },
  {
   "cell_type": "code",
   "execution_count": null,
   "id": "a0adae6d-ae4a-43c8-b94a-2d039cb1d3ee",
   "metadata": {
    "ExecuteTime": {
     "end_time": "2024-11-28T09:19:11.466134Z",
     "start_time": "2024-11-28T09:19:11.461992Z"
    },
    "colab": {
     "base_uri": "https://localhost:8080/",
     "height": 112
    },
    "id": "a0adae6d-ae4a-43c8-b94a-2d039cb1d3ee",
    "outputId": "616db0e2-ae15-4615-cd4c-dad81284f34f"
   },
   "outputs": [],
   "source": [
    "house_df[['price', 'sqft_living15']].corr()"
   ]
  },
  {
   "cell_type": "code",
   "execution_count": null,
   "id": "e7a038a2-ece9-470c-8eb9-922b64843017",
   "metadata": {
    "ExecuteTime": {
     "end_time": "2024-11-28T09:19:11.749840Z",
     "start_time": "2024-11-28T09:19:11.596405Z"
    },
    "colab": {
     "base_uri": "https://localhost:8080/",
     "height": 596
    },
    "id": "e7a038a2-ece9-470c-8eb9-922b64843017",
    "outputId": "684af65d-3bce-4254-e762-81d61abb50b5"
   },
   "outputs": [],
   "source": [
    "plt.figure(figsize=(10, 6))\n",
    "plt.title(\"Correlation between Average Size of Interior Housing Living Space for Closest 15 Houses and Price of Sold Houses\")\n",
    "plt.xlabel(\"Average size of interior housing living space for the closest 15 houses\")\n",
    "plt.ylabel(\"Price\")\n",
    "plt.scatter(house_df['sqft_living15'], house_df['price'], alpha=0.5)"
   ]
  },
  {
   "cell_type": "markdown",
   "id": "4af5dcb9-81ce-46b6-ba43-17dfb124319a",
   "metadata": {
    "id": "4af5dcb9-81ce-46b6-ba43-17dfb124319a"
   },
   "source": [
    "### Is there a correlation between price and average size of land lots for the closest 15 houses in square feet?"
   ]
  },
  {
   "cell_type": "code",
   "execution_count": null,
   "id": "61261cc5-7434-470e-b00b-5f76a272a2d1",
   "metadata": {
    "ExecuteTime": {
     "end_time": "2024-11-28T09:19:12.089381Z",
     "start_time": "2024-11-28T09:19:12.085318Z"
    },
    "colab": {
     "base_uri": "https://localhost:8080/",
     "height": 112
    },
    "id": "61261cc5-7434-470e-b00b-5f76a272a2d1",
    "outputId": "709c03ac-884c-4c62-cd3d-05132bef2020"
   },
   "outputs": [],
   "source": [
    "house_df[['price', 'sqft_lot15']].corr()"
   ]
  },
  {
   "cell_type": "code",
   "execution_count": null,
   "id": "c54640cc-9298-486e-a6d7-4f78b25d80c5",
   "metadata": {
    "ExecuteTime": {
     "end_time": "2024-11-28T09:19:12.337581Z",
     "start_time": "2024-11-28T09:19:12.194436Z"
    },
    "colab": {
     "base_uri": "https://localhost:8080/",
     "height": 596
    },
    "id": "c54640cc-9298-486e-a6d7-4f78b25d80c5",
    "outputId": "e10bda1c-8cd4-4204-c76a-7b3edb950a6f"
   },
   "outputs": [],
   "source": [
    "plt.figure(figsize=(10, 6))\n",
    "plt.title(\"Correlation between Average Size of Land Lots for Closest 15 Houses and Price of Sold Houses\")\n",
    "plt.xlabel(\"Average size of interior housing living space for the land lots for the closest 15 houses\")\n",
    "plt.ylabel(\"Price\")\n",
    "plt.scatter(house_df['sqft_lot15'], house_df['price'], alpha=0.5)"
   ]
  },
  {
   "cell_type": "markdown",
   "id": "iUNe42sW-U4D",
   "metadata": {
    "id": "iUNe42sW-U4D"
   },
   "source": [
    "## Geographical Analysis\n"
   ]
  },
  {
   "cell_type": "markdown",
   "id": "f065ba60",
   "metadata": {},
   "source": [
    "To see the overall picture of where the houses are, we plot them out using `folium` and the latitude and longitude provided by the dataset."
   ]
  },
  {
   "cell_type": "markdown",
   "id": "EHA51ToxipQt",
   "metadata": {
    "id": "EHA51ToxipQt"
   },
   "source": [
    "### Clustering data"
   ]
  },
  {
   "cell_type": "markdown",
   "id": "e79bc04b",
   "metadata": {},
   "source": [
    "We also try to form clusters in case we notice a trend in the coordinates. "
   ]
  },
  {
   "cell_type": "code",
   "execution_count": null,
   "id": "GwWqev_0-XLi",
   "metadata": {
    "ExecuteTime": {
     "end_time": "2024-11-28T09:19:14.609560Z",
     "start_time": "2024-11-28T09:19:12.721597Z"
    },
    "colab": {
     "base_uri": "https://localhost:8080/",
     "height": 472
    },
    "id": "GwWqev_0-XLi",
    "outputId": "ccee970d-0b4c-4569-eea0-9e7e40e92a55"
   },
   "outputs": [],
   "source": [
    "X = house_df[['lat', 'long']]\n",
    "\n",
    "# Calculate WCSS for different number of clusters\n",
    "wcss = []\n",
    "for i in range(1, 50):\n",
    "    kmeans = KMeans(n_clusters=i, random_state=0)\n",
    "    kmeans.fit(X)\n",
    "    wcss.append(kmeans.inertia_)\n",
    "\n",
    "# Plot the elbow graph\n",
    "plt.plot(range(1, 50, 1), wcss, marker='o')\n",
    "plt.title('Elbow Method')\n",
    "plt.xlabel('Number of clusters')\n",
    "plt.ylabel('WCSS')\n",
    "plt.grid(True)\n",
    "plt.show()"
   ]
  },
  {
   "cell_type": "markdown",
   "id": "67d0b791",
   "metadata": {},
   "source": [
    "The elbow point should be around 8-10 clusters so we will be using 8 clusters. "
   ]
  },
  {
   "cell_type": "markdown",
   "id": "5RZ8U1QmiyBf",
   "metadata": {
    "id": "5RZ8U1QmiyBf"
   },
   "source": [
    "### Mapping clusters to the dataframe"
   ]
  },
  {
   "cell_type": "markdown",
   "id": "2958da51",
   "metadata": {},
   "source": [
    "The data is then clustered into 8 groups in total. We display the total amount of clusters below. "
   ]
  },
  {
   "cell_type": "code",
   "execution_count": null,
   "id": "_KolQF7cixqa",
   "metadata": {
    "ExecuteTime": {
     "end_time": "2024-11-28T09:19:14.723638Z",
     "start_time": "2024-11-28T09:19:14.695405Z"
    },
    "colab": {
     "base_uri": "https://localhost:8080/",
     "height": 175
    },
    "id": "_KolQF7cixqa",
    "outputId": "957d9a12-7dff-4f98-b920-4bb02ce70fc5"
   },
   "outputs": [],
   "source": [
    "kmeans = KMeans(n_clusters=8, random_state=0).fit(X)\n",
    "house_coor_df = house_df[['id', 'price', 'lat', 'long']].copy()\n",
    "house_coor_df['cluster'] = kmeans.labels_\n",
    "cluster_total_house = house_coor_df.groupby('cluster')['id'].count().reset_index()\n",
    "cluster_total_house"
   ]
  },
  {
   "cell_type": "markdown",
   "id": "7b9152f7",
   "metadata": {},
   "source": [
    "We also display the centers (in lat and long) of the clusters. "
   ]
  },
  {
   "cell_type": "code",
   "execution_count": null,
   "id": "11c61eb9",
   "metadata": {},
   "outputs": [],
   "source": [
    "kmeans.cluster_centers_"
   ]
  },
  {
   "cell_type": "markdown",
   "id": "9e848a3a",
   "metadata": {},
   "source": [
    "The dataset for plotting should now look like this:"
   ]
  },
  {
   "cell_type": "code",
   "execution_count": null,
   "id": "1yFtOC05oD-E",
   "metadata": {
    "ExecuteTime": {
     "end_time": "2024-11-28T09:19:14.791950Z",
     "start_time": "2024-11-28T09:19:14.783290Z"
    },
    "colab": {
     "base_uri": "https://localhost:8080/",
     "height": 424
    },
    "id": "1yFtOC05oD-E",
    "outputId": "4ccea29b-6595-4366-c7ff-c98e4296f0aa"
   },
   "outputs": [],
   "source": [
    "house_coor_df.head()"
   ]
  },
  {
   "cell_type": "markdown",
   "id": "83415f02",
   "metadata": {},
   "source": [
    "We include the following features for the geographical analysis: \n",
    "- `id` - to identify specific houses\n",
    "- `price` - to know where the expensive houses are located/check for price density\n",
    "- `lat` and `long` - for plotting the houses\n",
    "- `cluster` - to color code the markers for each house. "
   ]
  },
  {
   "cell_type": "markdown",
   "id": "LrSuMiAh0MxA",
   "metadata": {
    "id": "LrSuMiAh0MxA"
   },
   "source": [
    "### Visualizing Clusters"
   ]
  },
  {
   "cell_type": "code",
   "execution_count": null,
   "id": "bqR7Vwk7pIGp",
   "metadata": {
    "ExecuteTime": {
     "end_time": "2024-11-28T09:19:26.040342Z",
     "start_time": "2024-11-28T09:19:14.967665Z"
    },
    "colab": {
     "background_save": true,
     "base_uri": "https://localhost:8080/",
     "height": 997
    },
    "id": "bqR7Vwk7pIGp",
    "outputId": "a9afca42-7f4d-46ed-c7bb-10b9a167eca4"
   },
   "outputs": [],
   "source": [
    "# Setting up the map\n",
    "map_center = [house_coor_df['lat'].mean(), house_coor_df['long'].mean()]\n",
    "m = folium.Map(location=map_center, zoom_start=9)\n",
    "\n",
    "# Cluster up points that are close to each other; reduce lag\n",
    "cluster = MarkerCluster().add_to(m)\n",
    "color_map = {0: 'red', 1: 'darkgreen', 2: 'lightblue', 3: 'purple', 4: 'beige', 5:'orange', 6:'white', 7:'darkblue'}\n",
    "\n",
    "# Plotting each house\n",
    "for i, row in house_coor_df.iterrows():\n",
    "    color = color_map.get(row['cluster'], 'gray')\n",
    "    folium.Marker(\n",
    "        location=[row['lat'], row['long']],\n",
    "        popup=f\"House ID: {row['id']}<br>Price: {row['price']}<br>Cluster: {row['cluster']}\",\n",
    "        icon=folium.Icon(color=color, icon='info-sign')\n",
    "    ).add_to(cluster)\n",
    "\n",
    "# Marks to show the center of the clusters within a 10km range\n",
    "for i, center in enumerate(kmeans.cluster_centers_):\n",
    "    color = color_map.get(i, 'gray')\n",
    "    folium.Circle(\n",
    "        location=[center[0], center[1]],\n",
    "        radius=10000,\n",
    "        color=\"black\",\n",
    "        weight=1,\n",
    "        fill_opacity=0.2,\n",
    "        opacity=1,\n",
    "        fill_color=color,\n",
    "        fill=False,  # gets overridden by fill_color\n",
    "        popup=\"{} meters\".format(10000),\n",
    "        tooltip=f\"Cluster: {i}<br>Center: {center[0]}, {center[1]}\",\n",
    "    ).add_to(m)\n",
    "\n",
    "m"
   ]
  },
  {
   "cell_type": "markdown",
   "id": "1f6e8c1b",
   "metadata": {},
   "source": [
    "We notice that house `9413400165.0` and `192300020.0` are outliers to the dataset. There are also about 16 houses that are located far away but we will keep them. "
   ]
  },
  {
   "cell_type": "code",
   "execution_count": null,
   "id": "5f114512",
   "metadata": {},
   "outputs": [],
   "source": [
    "house_df.drop(house_df.loc[house_df['id'] >= 9413400165].index, inplace=True)\n",
    "house_df.drop(house_df.loc[house_df['id'] >= 192300020].index, inplace=True)"
   ]
  },
  {
   "cell_type": "markdown",
   "id": "Dg-w27q8zf7f",
   "metadata": {
    "id": "Dg-w27q8zf7f"
   },
   "source": [
    "\n",
    "### Generating a heatmap to show density of house prices\n"
   ]
  },
  {
   "cell_type": "markdown",
   "id": "8757398a",
   "metadata": {},
   "source": [
    "To display the density of houses, we generate a heatmap where waramer colors represent a higher price total within that area. "
   ]
  },
  {
   "cell_type": "code",
   "execution_count": null,
   "id": "-ef82753zAfs",
   "metadata": {
    "ExecuteTime": {
     "end_time": "2024-11-28T09:19:27.584221Z",
     "start_time": "2024-11-28T09:19:26.267751Z"
    },
    "colab": {
     "base_uri": "https://localhost:8080/"
    },
    "id": "-ef82753zAfs",
    "outputId": "1c6e3d0f-323b-4aae-f3ea-3a6692480db3"
   },
   "outputs": [],
   "source": [
    "# Setting up the map\n",
    "map_center = [house_coor_df['lat'].mean(), house_coor_df['long'].mean()]\n",
    "m = folium.Map(location=map_center, zoom_start=9)\n",
    "\n",
    "# Cluster up points that are close to each other; reduce lag\n",
    "cluster = MarkerCluster().add_to(m)\n",
    "color_map = {0: 'red', 1: 'darkgreen', 2: 'lightblue', 3: 'purple', 4: 'beige', 5:'orange', 6:'white', 7:'darkblue'}\n",
    "\n",
    "# Plotting each house\n",
    "for i, row in house_coor_df.iterrows():\n",
    "    color = color_map.get(row['cluster'], 'gray')\n",
    "    folium.Marker(\n",
    "        location=[row['lat'], row['long']],\n",
    "        popup=f\"House ID: {row['id']}<br>Price: {row['price']}<br>Cluster: {row['cluster']}\",\n",
    "        icon=folium.Icon(color=color, icon='info-sign')\n",
    "    ).add_to(cluster)\n",
    "\n",
    "# Heat map\n",
    "heat_data = [[row['lat'], row['long'], row['price']] for i, row in house_df.iterrows()]\n",
    "HeatMap(heat_data).add_to(m)\n",
    "\n",
    "m"
   ]
  },
  {
   "cell_type": "markdown",
   "id": "6bf6b3de",
   "metadata": {},
   "source": [
    "Some places we found with high price density are:\n",
    "- Mercer Island\n",
    "- Aldarra Estates\n",
    "- White Center"
   ]
  },
  {
   "cell_type": "markdown",
   "id": "c9f7d54d",
   "metadata": {},
   "source": [
    "Some places we found with low price density are:\n",
    "- Vashon Island"
   ]
  },
  {
   "cell_type": "markdown",
   "id": "2e8dc6ca-9396-407d-9042-4028da09459d",
   "metadata": {
    "id": "2e8dc6ca-9396-407d-9042-4028da09459d"
   },
   "source": [
    "# Section 6. Initial model training"
   ]
  },
  {
   "cell_type": "markdown",
   "id": "b59_JLIBSDQ_",
   "metadata": {
    "id": "b59_JLIBSDQ_"
   },
   "source": [
    "### KNN"
   ]
  },
  {
   "cell_type": "code",
   "execution_count": null,
   "id": "W38M-S584ow7",
   "metadata": {
    "ExecuteTime": {
     "end_time": "2024-11-28T09:19:28.751083Z",
     "start_time": "2024-11-28T09:19:28.744304Z"
    },
    "colab": {
     "base_uri": "https://localhost:8080/",
     "height": 424
    },
    "id": "W38M-S584ow7",
    "outputId": "2db693fb-4b98-4359-f1c0-6ef9485ce03c"
   },
   "outputs": [],
   "source": [
    "knn_df = house_df.drop(columns=col_remove)\n",
    "knn_df"
   ]
  },
  {
   "cell_type": "code",
   "execution_count": null,
   "id": "BXQfWgM9OxVD",
   "metadata": {
    "ExecuteTime": {
     "end_time": "2024-11-28T09:19:28.831996Z",
     "start_time": "2024-11-28T09:19:28.825981Z"
    },
    "id": "BXQfWgM9OxVD"
   },
   "outputs": [],
   "source": [
    "X = knn_df.drop('price', axis=1)\n",
    "y = knn_df['price']\n",
    "\n",
    "X_train, X_test, y_train, y_test = train_test_split(X, y, test_size=0.2, random_state=5)"
   ]
  },
  {
   "cell_type": "code",
   "execution_count": null,
   "id": "BocAmYgaCm9A",
   "metadata": {
    "ExecuteTime": {
     "end_time": "2024-11-28T09:19:29.314477Z",
     "start_time": "2024-11-28T09:19:29.266129Z"
    },
    "colab": {
     "base_uri": "https://localhost:8080/"
    },
    "id": "BocAmYgaCm9A",
    "outputId": "245ed30f-6bd6-4be3-9238-89e03b63df09"
   },
   "outputs": [],
   "source": [
    "model = KNeighborsRegressor(n_neighbors=5)\n",
    "model.fit(X_train, y_train)\n",
    "y_predicted = model.predict(X_test)\n",
    "\n",
    "mae = mean_absolute_error(y_test, y_predicted)\n",
    "mse = mean_squared_error(y_test, y_predicted)\n",
    "r2 = r2_score(y_test, y_predicted)\n",
    "\n",
    "print(f\"mae: {mae}\")\n",
    "print(f\"mse: {mse}\")\n",
    "print(f\"r2: {r2}\")"
   ]
  },
  {
   "cell_type": "markdown",
   "id": "iqyEWAMFTPp8",
   "metadata": {
    "id": "iqyEWAMFTPp8"
   },
   "source": [
    "### Linear"
   ]
  },
  {
   "cell_type": "code",
   "execution_count": null,
   "id": "fmhaQMNnU8Tp",
   "metadata": {
    "ExecuteTime": {
     "end_time": "2024-11-28T09:19:29.886978Z",
     "start_time": "2024-11-28T09:19:29.880519Z"
    },
    "colab": {
     "base_uri": "https://localhost:8080/"
    },
    "id": "fmhaQMNnU8Tp",
    "outputId": "d11f66ea-7eee-498b-c333-92803c6f5b8b"
   },
   "outputs": [],
   "source": [
    "linear_df = house_df.drop(columns=col_remove)\n",
    "linear_df"
   ]
  },
  {
   "cell_type": "code",
   "execution_count": null,
   "id": "CPDOS7pNY83a",
   "metadata": {
    "ExecuteTime": {
     "end_time": "2024-11-28T09:19:30.353129Z",
     "start_time": "2024-11-28T09:19:30.348532Z"
    },
    "id": "CPDOS7pNY83a"
   },
   "outputs": [],
   "source": [
    "X = linear_df.drop('price', axis=1)\n",
    "y = linear_df['price']\n",
    "\n",
    "X_train, X_test, y_train, y_test = train_test_split(X, y, test_size=0.2, random_state=5)"
   ]
  },
  {
   "cell_type": "code",
   "execution_count": null,
   "id": "H1901DcYaBB6",
   "metadata": {
    "ExecuteTime": {
     "end_time": "2024-11-28T09:19:48.473904Z",
     "start_time": "2024-11-28T09:19:48.349802Z"
    },
    "colab": {
     "base_uri": "https://localhost:8080/"
    },
    "id": "H1901DcYaBB6",
    "outputId": "30571d9e-fa09-4447-dd1c-980bfa1b8e9f"
   },
   "outputs": [],
   "source": [
    "model = LinearRegression()\n",
    "model.fit(X_train, y_train)\n",
    "y_predicted = model.predict(X_test)\n",
    "\n",
    "mae = mean_absolute_error(y_test, y_predicted)\n",
    "mse = mean_squared_error(y_test, y_predicted)\n",
    "r2 = r2_score(y_test, y_predicted)\n",
    "\n",
    "print(f\"mae: {mae}\")\n",
    "print(f\"mse: {mse}\")\n",
    "print(f\"r2: {r2}\")"
   ]
  },
  {
   "cell_type": "code",
   "execution_count": null,
   "id": "f900a43848848800",
   "metadata": {
    "ExecuteTime": {
     "end_time": "2024-11-28T09:20:16.942958Z",
     "start_time": "2024-11-28T09:20:16.937127Z"
    }
   },
   "outputs": [],
   "source": [
    "coefficients = model.coef_\n",
    "\n",
    "# Create a DataFrame to display feature importance\n",
    "feature_importance_df = pd.DataFrame({\n",
    "    'Feature': X.columns,\n",
    "    'Coefficient': coefficients\n",
    "})\n",
    "\n",
    "# Sort the DataFrame by the absolute value of the coefficients\n",
    "feature_importance_df['Absolute Coefficient'] = feature_importance_df['Coefficient'].abs()\n",
    "feature_importance_df = feature_importance_df.sort_values(by='Absolute Coefficient', ascending=False)\n",
    "\n",
    "# Display the feature importance\n",
    "print(feature_importance_df[['Feature', 'Coefficient']])"
   ]
  },
  {
   "cell_type": "code",
   "execution_count": null,
   "id": "KpL1r6K7elAP",
   "metadata": {
    "ExecuteTime": {
     "end_time": "2024-11-28T09:19:31.265022Z",
     "start_time": "2024-11-28T09:19:31.236925Z"
    },
    "colab": {
     "base_uri": "https://localhost:8080/"
    },
    "id": "KpL1r6K7elAP",
    "outputId": "7d5abf2a-6d9f-471e-8713-b034ae8b53dc"
   },
   "outputs": [],
   "source": [
    "ridge = Ridge(alpha=1, solver='auto')\n",
    "ridge.fit(X_train, y_train)\n",
    "y_predicted = ridge.predict(X_test)\n",
    "\n",
    "mae = mean_absolute_error(y_test, y_predicted)\n",
    "mse = mean_squared_error(y_test, y_predicted)\n",
    "r2 = r2_score(y_test, y_predicted)\n",
    "\n",
    "print(f\"mae: {mae}\")\n",
    "print(f\"mse: {mse}\")\n",
    "print(f\"r2: {r2}\")"
   ]
  },
  {
   "cell_type": "code",
   "execution_count": null,
   "id": "CYz8wEeCep1M",
   "metadata": {
    "ExecuteTime": {
     "start_time": "2024-11-28T09:11:07.703065Z"
    },
    "colab": {
     "base_uri": "https://localhost:8080/"
    },
    "id": "CYz8wEeCep1M",
    "outputId": "4895f36a-dd5d-4d06-b2b9-e3fe1c0a5f2c"
   },
   "outputs": [],
   "source": [
    "lasso = Lasso(alpha=0.0001, max_iter=100000)\n",
    "lasso.fit(X_train, y_train)\n",
    "y_predicted = lasso.predict(X_test)\n",
    "\n",
    "mae = mean_absolute_error(y_test, y_predicted)\n",
    "mse = mean_squared_error(y_test, y_predicted)\n",
    "r2 = r2_score(y_test, y_predicted)\n",
    "\n",
    "print(f\"mae: {mae}\")\n",
    "print(f\"mse: {mse}\")\n",
    "print(f\"r2: {r2}\")"
   ]
  },
  {
   "cell_type": "markdown",
   "id": "sZkMDl_OfFNq",
   "metadata": {
    "id": "sZkMDl_OfFNq"
   },
   "source": [
    "### Neural Networks"
   ]
  },
  {
   "cell_type": "code",
   "execution_count": null,
   "id": "VOWr_ix7fNGx",
   "metadata": {
    "ExecuteTime": {
     "end_time": "2024-11-28T01:40:42.561779Z",
     "start_time": "2024-11-28T01:40:42.557980Z"
    },
    "id": "VOWr_ix7fNGx"
   },
   "outputs": [],
   "source": [
    "class NeuralNetwork(nn.Module):\n",
    "    def __init__(self, input_size, num_classes, list_hidden, activation='sigmoid'):\n",
    "        super(NeuralNetwork, self).__init__()\n",
    "        self.input_size = input_size\n",
    "        self.num_classes = num_classes\n",
    "        self.list_hidden = list_hidden\n",
    "        self.activation = activation\n",
    "        self.create_network()\n",
    "\n",
    "    def create_network(self):\n",
    "        layers = []\n",
    "        layers.append(nn.Linear(self.input_size, self.list_hidden[0]))\n",
    "        layers.append(self.get_activation(self.activation))\n",
    "        for i in range(len(self.list_hidden) - 1):\n",
    "            layers.append(nn.Linear(self.list_hidden[i], self.list_hidden[i + 1]))\n",
    "            layers.append(self.get_activation(self.activation))\n",
    "        layers.append(nn.Linear(self.list_hidden[-1], self.num_classes))\n",
    "        self.layers = nn.Sequential(*layers)\n",
    "\n",
    "    def get_activation(self, mode='sigmoid'):\n",
    "        if mode == 'tanh':\n",
    "            return nn.Tanh()\n",
    "        elif mode == 'relu':\n",
    "            return nn.ReLU(inplace=True)\n",
    "        return nn.Sigmoid()\n",
    "\n",
    "    def forward(self, x):\n",
    "        for layer in self.layers:\n",
    "            x = layer(x)\n",
    "        return x"
   ]
  },
  {
   "cell_type": "code",
   "execution_count": null,
   "id": "5musGKLxfcpQ",
   "metadata": {
    "ExecuteTime": {
     "end_time": "2024-11-28T01:40:42.628944Z",
     "start_time": "2024-11-28T01:40:42.622326Z"
    },
    "id": "5musGKLxfcpQ"
   },
   "outputs": [],
   "source": [
    "nn_df = house_df.drop(columns=col_remove)\n",
    "nn_df"
   ]
  },
  {
   "cell_type": "code",
   "execution_count": null,
   "id": "2xu9rSHKfYmy",
   "metadata": {
    "ExecuteTime": {
     "end_time": "2024-11-28T01:40:42.716174Z",
     "start_time": "2024-11-28T01:40:42.710701Z"
    },
    "id": "2xu9rSHKfYmy"
   },
   "outputs": [],
   "source": [
    "X = nn_df.drop('price', axis=1)\n",
    "y = nn_df['price']\n",
    "\n",
    "X_train, X_test, y_train, y_test = train_test_split(X, y, test_size=0.2, random_state=5)"
   ]
  },
  {
   "cell_type": "code",
   "execution_count": null,
   "id": "NKMLl45jfkD2",
   "metadata": {
    "ExecuteTime": {
     "end_time": "2024-11-28T01:41:00.858525Z",
     "start_time": "2024-11-28T01:40:42.774561Z"
    },
    "id": "NKMLl45jfkD2"
   },
   "outputs": [],
   "source": [
    "input_size = X_train.shape[1]\n",
    "hidden_layers = [64]\n",
    "output_size = 1\n",
    "network = NeuralNetwork(input_size, output_size, hidden_layers, activation='relu')\n",
    "\n",
    "criterion = nn.MSELoss()\n",
    "optimizer = optim.Adam(network.parameters(), lr=0.001)\n",
    "\n",
    "max_epochs = 5\n",
    "losses = []\n",
    "\n",
    "for epoch in range(max_epochs):\n",
    "    current_epoch_loss = 0\n",
    "    for X, y in zip(X_train.values, y_train.values):\n",
    "        X = torch.Tensor(X).float()\n",
    "        y = torch.Tensor([y]).float()\n",
    "\n",
    "        optimizer.zero_grad()\n",
    "        outputs = network(X)\n",
    "        loss = criterion(outputs, y)\n",
    "        loss.backward()\n",
    "        optimizer.step()\n",
    "\n",
    "        current_epoch_loss += loss.item()\n",
    "\n",
    "    average_loss = current_epoch_loss / len(X_train)\n",
    "    losses.append(average_loss)\n",
    "    print(f'Epoch: {epoch + 1}, Loss: {average_loss:.6f}')"
   ]
  },
  {
   "cell_type": "markdown",
   "id": "77050923-a33a-4e38-a80f-b3e34b63551a",
   "metadata": {
    "id": "77050923-a33a-4e38-a80f-b3e34b63551a"
   },
   "source": [
    "# Section 7. Error analysis"
   ]
  },
  {
   "cell_type": "markdown",
   "id": "N4rrmF8QJGJA",
   "metadata": {
    "id": "N4rrmF8QJGJA"
   },
   "source": [
    "## Getting the average longitude and latitude from zip codes\n",
    "zip codes by itself does not express the location of the house well. Longitudes and latitudes would be good but the differences between the coordinate would have differences so small that the models might not see it as significant even if it is.\n",
    "\n",
    "The model improved a lot in terms of performance when we removed 'zipcode', 'lat' and 'long' so we know those columns are the problem.\n",
    "\n",
    "We opt to use zip codes like theyre a cluster and use an average latitude and longitude to give the models a numeric idea of the distance each house will have from one another."
   ]
  },
  {
   "cell_type": "markdown",
   "id": "vTYVk14GL0kG",
   "metadata": {
    "id": "vTYVk14GL0kG"
   },
   "source": [
    "### Extracting latitude and longitude out of the zip codes"
   ]
  },
  {
   "cell_type": "code",
   "execution_count": null,
   "id": "2hcyCn5bKsA_",
   "metadata": {
    "ExecuteTime": {
     "end_time": "2024-11-28T09:27:30.625400Z",
     "start_time": "2024-11-28T09:27:30.611303Z"
    },
    "id": "2hcyCn5bKsA_"
   },
   "outputs": [],
   "source": [
    "zipcode_df = house_df['zipcode'].unique()\n",
    "zipcode_df = pd.DataFrame(zipcode_df)\n",
    "zipcode_df = zipcode_df.rename(columns={0:'zipcode'})\n",
    "zipcode_df"
   ]
  },
  {
   "cell_type": "markdown",
   "id": "a913fe88",
   "metadata": {},
   "source": [
    "We will be getting the average coordinate of each zipcode using Geopy's geolocator. Since this is open sourced, we have to use a RateLimiter to prevent getting an error from requesting too much. Limiting the rate slows down the data collection so we got the unique zipcode values and queried the coordinates and saved them into a csv file. "
   ]
  },
  {
   "cell_type": "code",
   "execution_count": null,
   "id": "viF-QoE-L70R",
   "metadata": {
    "ExecuteTime": {
     "end_time": "2024-11-28T01:41:00.948641Z",
     "start_time": "2024-11-28T01:41:00.947168Z"
    },
    "id": "viF-QoE-L70R"
   },
   "outputs": [],
   "source": [
    "# # TAKES A WHILE TO RUN!! (a minute on my local machine)\n",
    "# geolocator = Nominatim(user_agent=\"geotest\")\n",
    "# geocode = RateLimiter(geolocator.geocode,\n",
    "#                       min_delay_seconds=1)\n",
    "\n",
    "# zipcode_df['location'] = zipcode_df['zipcode'].apply(geocode)\n",
    "# zipcode_df['lat'] = zipcode_df['location'].apply(lambda loc: loc.point.latitude if loc else None)\n",
    "# zipcode_df['long'] = zipcode_df['location'].apply(lambda loc: loc.point.longitude if loc else None)\n",
    "\n",
    "# # saving it so that this doesn't have to be run again\n",
    "# zipcode_df.to_csv(\"/content/drive/MyDrive/STINTSY_mco/zipcode_df.csv\")\n",
    "# zipcode_df"
   ]
  },
  {
   "cell_type": "markdown",
   "id": "752e7a8b",
   "metadata": {},
   "source": [
    "We read the file from here. "
   ]
  },
  {
   "cell_type": "code",
   "execution_count": null,
   "id": "ug2-zX6tMsi8",
   "metadata": {
    "ExecuteTime": {
     "end_time": "2024-11-28T09:27:33.498630Z",
     "start_time": "2024-11-28T09:27:33.493032Z"
    },
    "id": "ug2-zX6tMsi8"
   },
   "outputs": [],
   "source": [
    "zipcode_df = pd.read_csv(\"zipcode_df.csv\")\n",
    "zipcode_df = zipcode_df.set_index('zipcode')"
   ]
  },
  {
   "cell_type": "markdown",
   "id": "d29970a3",
   "metadata": {},
   "source": [
    "And add these into a copy of `house_df` called `house_zip_df`. "
   ]
  },
  {
   "cell_type": "code",
   "execution_count": null,
   "id": "IPrZ9yzONp0Z",
   "metadata": {
    "ExecuteTime": {
     "end_time": "2024-11-28T09:27:35.052696Z",
     "start_time": "2024-11-28T09:27:35.040520Z"
    },
    "id": "IPrZ9yzONp0Z"
   },
   "outputs": [],
   "source": [
    "zip_lat_dict = zipcode_df[['lat']].to_dict()\n",
    "zip_long_dict = zipcode_df[['long']].to_dict()\n",
    "\n",
    "house_zip_df = house_df.copy()\n",
    "house_zip_df['zip_lat'] = house_zip_df['zipcode'].map(zip_lat_dict['lat'])\n",
    "house_zip_df['zip_long'] = house_zip_df['zipcode'].map(zip_long_dict['long'])\n",
    "house_zip_df"
   ]
  },
  {
   "cell_type": "markdown",
   "id": "d0e85c02",
   "metadata": {},
   "source": [
    "### Plotting zip_lat and zip_long"
   ]
  },
  {
   "cell_type": "markdown",
   "id": "96fd3a0c",
   "metadata": {},
   "source": [
    "Now we plot the new dataframe together with `zip_lat` and `zip_long` plotted onto the map to verify the geolocator's accuracy. "
   ]
  },
  {
   "cell_type": "code",
   "execution_count": null,
   "id": "d7a7bf30",
   "metadata": {},
   "outputs": [],
   "source": [
    "# Setting up the map\n",
    "map_center = [house_zip_df['lat'].mean(), house_zip_df['long'].mean()]\n",
    "m = folium.Map(location=map_center, zoom_start=9)\n",
    "\n",
    "# Cluster up points that are close to each other; reduce lag\n",
    "cluster = MarkerCluster().add_to(m)\n",
    "\n",
    "# Plotting each house\n",
    "for i, row in house_zip_df.iterrows():\n",
    "    folium.Marker(\n",
    "        location=[row['lat'], row['long']],\n",
    "        popup=f\"House ID: {row['id']}<br>Price: {row['price']}<br>Zipcode: {row['zipcode']}\",\n",
    "        icon=folium.Icon(icon='info-sign')\n",
    "    ).add_to(cluster)\n",
    "\n",
    "# Marks to show the center of the clusters within a 10km range\n",
    "for i, zipcode in zipcode_df.iterrows():\n",
    "    color = color_map.get(i, 'gray')\n",
    "    folium.Circle(\n",
    "        location=[zipcode['lat'], zipcode['long']],\n",
    "        radius=3000,\n",
    "        color=\"black\",\n",
    "        fill_color='red',\n",
    "        weight=1,\n",
    "        fill_opacity=0.2,\n",
    "        opacity=1,\n",
    "        fill=False,  # gets overridden by fill_color\n",
    "        popup=\"{} meters\".format(10000),\n",
    "        tooltip=f\"Cluster: {i}<br>Center: {zipcode['lat']}, { zipcode['long']}\",\n",
    "    ).add_to(m)\n",
    "\n",
    "m"
   ]
  },
  {
   "cell_type": "markdown",
   "id": "f094407f",
   "metadata": {},
   "source": [
    "#### Feasibility\n",
    "\n",
    "It appears that the zipcodes' latitude and longitude are inaccurate to the point of no longer being in the same continent. The first image shows an overview of where zipcodes ended up on. The next two images are close ups of the inaccurate zipcode locations, one from Italy and another on Lietuva.\n",
    "<div>\n",
    "<img src=\"img/incorrect_zip_coor_summary.png\" width=\"500\"/>\n",
    "</div>\n",
    "<div>\n",
    "<img src=\"img/incorrect_zip_coor_italy.png\" width=\"500\"/>\n",
    "<img src=\"img/incorrect_zip_coor_lietuva.png\" width=\"500\"/>\n",
    "</div>"
   ]
  },
  {
   "cell_type": "markdown",
   "id": "56d4cc07",
   "metadata": {},
   "source": [
    "#### Conclusion\n",
    "For this reason, we will continue to use the original latitude and longitude of the houses."
   ]
  },
  {
   "cell_type": "markdown",
   "id": "710a7fc0-498e-4f03-9072-bd9e0aa00c16",
   "metadata": {
    "id": "710a7fc0-498e-4f03-9072-bd9e0aa00c16"
   },
   "source": [
    "# Section 8. Improving model performance"
   ]
  },
  {
   "cell_type": "code",
   "execution_count": null,
   "id": "ef1532f6bf5958f3",
   "metadata": {
    "ExecuteTime": {
     "end_time": "2024-11-28T09:27:39.378642Z",
     "start_time": "2024-11-28T09:27:39.370778Z"
    }
   },
   "outputs": [],
   "source": [
    "house_df.head()"
   ]
  },
  {
   "cell_type": "code",
   "execution_count": null,
   "id": "_jW8OKMNhyQ1",
   "metadata": {
    "ExecuteTime": {
     "end_time": "2024-11-28T09:27:46.024671Z",
     "start_time": "2024-11-28T09:27:46.015436Z"
    },
    "id": "_jW8OKMNhyQ1"
   },
   "outputs": [],
   "source": [
    "scaler = MinMaxScaler()\n",
    "norm_col = house_df.columns.drop(['id', 'date', 'price', 'yr_built', 'yr_renovated', 'zipcode', 'lat', 'long', 'count', 'year_month', 'year', 'cluster'])\n",
    "house_df[norm_col] = scaler.fit_transform(house_df[norm_col])"
   ]
  },
  {
   "cell_type": "code",
   "execution_count": null,
   "id": "243e8e426e1d962c",
   "metadata": {
    "ExecuteTime": {
     "end_time": "2024-11-28T09:27:48.587545Z",
     "start_time": "2024-11-28T09:27:48.579346Z"
    }
   },
   "outputs": [],
   "source": [
    "house_df.head()"
   ]
  },
  {
   "cell_type": "markdown",
   "id": "a7324155ac27e5d8",
   "metadata": {},
   "source": [
    "## Hyper Parameter Tuning"
   ]
  },
  {
   "cell_type": "markdown",
   "id": "1e879f2d1a665ac7",
   "metadata": {},
   "source": [
    "### KNN"
   ]
  },
  {
   "cell_type": "code",
   "execution_count": null,
   "id": "a2a1c9b4c4f04c74",
   "metadata": {
    "ExecuteTime": {
     "end_time": "2024-11-28T09:27:57.042719Z",
     "start_time": "2024-11-28T09:27:57.037019Z"
    }
   },
   "outputs": [],
   "source": [
    "X = knn_df.drop('price', axis=1)\n",
    "y = knn_df['price']\n",
    "\n",
    "X_train, X_test, y_train, y_test = train_test_split(X, y, test_size=0.2, random_state=5)"
   ]
  },
  {
   "cell_type": "code",
   "execution_count": null,
   "id": "4040720b2fae7d0a",
   "metadata": {
    "ExecuteTime": {
     "end_time": "2024-11-28T02:40:25.320819Z",
     "start_time": "2024-11-28T02:40:17.419001Z"
    }
   },
   "outputs": [],
   "source": [
    "k_folds = 5\n",
    "k_choices = [2, 4, 6, 8, 10, 12, 14, 16, 18, 20, 22, 24, 26, 28, 30, 32, 34, 36, 38, 40, 42, 44, 46, 48, 50]\n",
    "scores = np.zeros((len(k_choices), k_folds))\n",
    "\n",
    "for i in range(len(k_choices)):\n",
    "    print(\"k is : \" + str(k_choices[i]))\n",
    "    model = KNeighborsRegressor(n_neighbors=k_choices[i])\n",
    "    scores[i] = cross_val_score(model, X_train, y_train, cv=k_folds)\n",
    "    pass\n",
    "\n",
    "avg_scores = np.mean(scores, axis=1)\n",
    "avg_scores"
   ]
  },
  {
   "cell_type": "code",
   "execution_count": null,
   "id": "653cf674491894db",
   "metadata": {
    "ExecuteTime": {
     "end_time": "2024-11-28T02:43:00.166316Z",
     "start_time": "2024-11-28T02:43:00.164215Z"
    }
   },
   "outputs": [],
   "source": [
    "print(\"Best k: \", k_choices[np.argmax(avg_scores)])"
   ]
  },
  {
   "cell_type": "markdown",
   "id": "6234263674e1ef6a",
   "metadata": {},
   "source": [
    "### Linear"
   ]
  },
  {
   "cell_type": "code",
   "execution_count": null,
   "id": "16852e3a2ebd1aae",
   "metadata": {
    "ExecuteTime": {
     "end_time": "2024-11-28T02:49:56.087525Z",
     "start_time": "2024-11-28T02:49:43.568966Z"
    }
   },
   "outputs": [],
   "source": [
    "model = Ridge()\n",
    "param_grid = {\n",
    "    'alpha': [0.1, 1.0, 10.0, 100.0],\n",
    "    'solver': ['auto', 'svd', 'cholesky', 'lsqr', 'sparse_cg', 'sag', 'saga']\n",
    "}\n",
    "grid_search = GridSearchCV(estimator=model, param_grid=param_grid, cv=5, scoring='r2')\n",
    "\n",
    "grid_search.fit(X_train, y_train)\n",
    "\n",
    "best_params = grid_search.best_params_\n",
    "best_score = grid_search.best_score_\n",
    "\n",
    "print(f\"Best parameters: {best_params}\")\n",
    "print(f\"Best cross-validation score: {best_score}\")"
   ]
  },
  {
   "cell_type": "code",
   "execution_count": null,
   "id": "6227e1a5f5e140d",
   "metadata": {
    "ExecuteTime": {
     "end_time": "2024-11-28T04:22:45.253386Z",
     "start_time": "2024-11-28T03:03:18.067117Z"
    }
   },
   "outputs": [],
   "source": [
    "kfold = KFold(n_splits=5)\n",
    "stratified_kfold = StratifiedKFold(n_splits=5)\n",
    "time_series_split = TimeSeriesSplit(n_splits=5)\n",
    "\n",
    "# Ridge Regression\n",
    "ridge = Ridge()\n",
    "ridge_param_grid = {\n",
    "    'alpha': [0.1, 1.0, 10.0, 100.0],\n",
    "    'solver': ['auto', 'svd', 'cholesky', 'lsqr', 'sparse_cg', 'sag', 'saga']\n",
    "}\n",
    "ridge_grid_search = GridSearchCV(estimator=ridge, param_grid=ridge_param_grid, cv=5, scoring='r2')\n",
    "ridge_grid_search.fit(X_train, y_train)\n",
    "print(f\"Best Ridge parameters kfold: {ridge_grid_search.best_params_}\")\n",
    "print(f\"Best Ridge cross-validation score kfold: {ridge_grid_search.best_score_}\")\n",
    "\n",
    "ridge_grid_search_kfold = GridSearchCV(estimator=ridge, param_grid=ridge_param_grid, cv=kfold, scoring='r2')\n",
    "ridge_grid_search_kfold.fit(X_train, y_train)\n",
    "print(f\"Best Ridge parameters kfold: {ridge_grid_search_kfold.best_params_}\")\n",
    "print(f\"Best Ridge cross-validation score kfold: {ridge_grid_search_kfold.best_score_}\")\n",
    "\n",
    "ridge_grid_search_stratified = GridSearchCV(estimator=ridge, param_grid=ridge_param_grid, cv=stratified_kfold, scoring='r2')\n",
    "ridge_grid_search_stratified.fit(X_train, y_train)\n",
    "print(f\"Best Ridge parameters stratified: {ridge_grid_search_stratified.best_params_}\")\n",
    "print(f\"Best Ridge cross-validation score stratified: {ridge_grid_search_stratified.best_score_}\")\n",
    "\n",
    "ridge_grid_search_time_series = GridSearchCV(estimator=ridge, param_grid=ridge_param_grid, cv=time_series_split, scoring='r2')\n",
    "ridge_grid_search_time_series.fit(X_train, y_train)\n",
    "print(f\"Best Ridge parameters time series: {ridge_grid_search_time_series.best_params_}\")\n",
    "print(f\"Best Ridge cross-validation score time series: {ridge_grid_search_time_series.best_score_}\")\n",
    "\n",
    "# Lasso Regression\n",
    "lasso = Lasso()\n",
    "lasso_param_grid = {\n",
    "    'alpha': [0.0001, 0.001, 0.01, 0.1, 1.0],\n",
    "    'max_iter': [1000, 10000, 100000]\n",
    "}\n",
    "lasso_grid_search = GridSearchCV(estimator=lasso, param_grid=lasso_param_grid, cv=5, scoring='r2')\n",
    "lasso_grid_search.fit(X_train, y_train)\n",
    "print(f\"Best Lasso parameters: {lasso_grid_search.best_params_}\")\n",
    "print(f\"Best Lasso cross-validation score: {lasso_grid_search.best_score_}\")\n",
    "\n",
    "lasso_grid_search_kfold = GridSearchCV(estimator=lasso, param_grid=lasso_param_grid, cv=kfold, scoring='r2')\n",
    "lasso_grid_search_kfold.fit(X_train, y_train)\n",
    "print(f\"Best Lasso parameters kfold: {lasso_grid_search_kfold.best_params_}\")\n",
    "print(f\"Best Lasso cross-validation score kfold: {lasso_grid_search_kfold.best_score_}\")\n",
    "\n",
    "lasso_grid_search_stratified = GridSearchCV(estimator=lasso, param_grid=lasso_param_grid, cv=stratified_kfold, scoring='r2')\n",
    "lasso_grid_search_stratified.fit(X_train, y_train)\n",
    "print(f\"Best Lasso parameters stratified: {lasso_grid_search_stratified.best_params_}\")\n",
    "print(f\"Best Lasso cross-validation score stratified: {lasso_grid_search_stratified.best_score_}\")\n",
    "\n",
    "lasso_grid_search_time_series = GridSearchCV(estimator=lasso, param_grid=lasso_param_grid, cv=time_series_split, scoring='r2')\n",
    "lasso_grid_search_time_series.fit(X_train, y_train)\n",
    "print(f\"Best Lasso parameters time series: {lasso_grid_search_time_series.best_params_}\")\n",
    "print(f\"Best Lasso cross-validation score time series: {lasso_grid_search_time_series.best_score_}\")"
   ]
  },
  {
   "cell_type": "markdown",
   "id": "b41b2f7cc726fdd4",
   "metadata": {},
   "source": [
    "### Neural Networks"
   ]
  },
  {
   "cell_type": "code",
   "execution_count": null,
   "id": "615e083deff02174",
   "metadata": {
    "ExecuteTime": {
     "end_time": "2024-11-28T04:33:00.388347Z",
     "start_time": "2024-11-28T04:33:00.341873Z"
    }
   },
   "outputs": [],
   "source": [
    "def create_model(optimizer='adam', init='uniform', learning_rate=0.01, hidden_layers=[64, 32]):\n",
    "    model = Sequential()\n",
    "    model.add(Dense(hidden_layers[0], input_dim=input_size, kernel_initializer=init, activation='relu'))\n",
    "    for units in hidden_layers[1:]:\n",
    "        model.add(Dense(units, kernel_initializer=init, activation='relu'))\n",
    "    model.add(Dense(1, kernel_initializer=init))\n",
    "    model.compile(loss='mean_squared_error', optimizer=optimizer, learning_rate=learning_rate)\n",
    "    return model\n",
    "\n",
    "# Wrap the model using KerasRegressor\n",
    "model = KerasRegressor(build_fn=create_model, verbose=0)\n",
    "\n",
    "# Define the grid of hyperparameters\n",
    "param_grid = {\n",
    "    'batch_size': [10, 20, 40],\n",
    "    'epochs': [50, 100, 200],\n",
    "    'optimizer': ['SGD', 'Adam'],\n",
    "    'init': ['uniform', 'normal'],\n",
    "    'learning_rate': [0.001, 0.01, 0.1],\n",
    "    'hidden_layers': [[64], [64, 32], [128, 64, 32]]\n",
    "}\n",
    "\n",
    "# Set up the grid search\n",
    "grid = GridSearchCV(estimator=model, param_grid=param_grid, n_jobs=-1, cv=3)\n",
    "\n",
    "# Fit the grid search\n",
    "grid_result = grid.fit(X_train, y_train)\n",
    "\n",
    "# Get the best parameters and the best score\n",
    "best_params = grid_result.best_params_\n",
    "best_score = grid_result.best_score_\n",
    "\n",
    "print(f\"Best parameters: {best_params}\")\n",
    "print(f\"Best cross-validation score: {best_score}\")"
   ]
  },
  {
   "cell_type": "markdown",
   "id": "sxswcQVAhBpY",
   "metadata": {
    "id": "sxswcQVAhBpY"
   },
   "source": [
    "### KNN"
   ]
  },
  {
   "cell_type": "code",
   "execution_count": null,
   "id": "J53yJVSniDnk",
   "metadata": {
    "ExecuteTime": {
     "end_time": "2024-11-28T09:30:50.508113Z",
     "start_time": "2024-11-28T09:30:50.497516Z"
    },
    "id": "J53yJVSniDnk"
   },
   "outputs": [],
   "source": [
    "col_remove = ['id', 'date', 'yr_built', 'yr_renovated', 'zipcode', 'lat', 'long', 'count', 'year_month', 'year', 'cluster']\n",
    "knn_df = house_df.drop(columns=col_remove)\n",
    "knn_df"
   ]
  },
  {
   "cell_type": "code",
   "execution_count": null,
   "id": "Il3TxjFviDnt",
   "metadata": {
    "ExecuteTime": {
     "end_time": "2024-11-28T02:54:16.549115Z",
     "start_time": "2024-11-28T02:54:16.540791Z"
    },
    "id": "Il3TxjFviDnt"
   },
   "outputs": [],
   "source": [
    "X = knn_df.drop('price', axis=1)\n",
    "y = knn_df['price']\n",
    "\n",
    "X_train, X_test, y_train, y_test = train_test_split(X, y, test_size=0.2, random_state=5)"
   ]
  },
  {
   "cell_type": "code",
   "execution_count": null,
   "id": "UDa54OOwiDnu",
   "metadata": {
    "ExecuteTime": {
     "end_time": "2024-11-28T02:54:18.307292Z",
     "start_time": "2024-11-28T02:54:18.237787Z"
    },
    "id": "UDa54OOwiDnu"
   },
   "outputs": [],
   "source": [
    "model = KNeighborsRegressor(n_neighbors=8)\n",
    "model.fit(X_train, y_train)\n",
    "y_predicted = model.predict(X_test)\n",
    "\n",
    "mae = mean_absolute_error(y_test, y_predicted)\n",
    "mse = mean_squared_error(y_test, y_predicted)\n",
    "r2 = r2_score(y_test, y_predicted)\n",
    "\n",
    "print(f\"mae: {mae}\")\n",
    "print(f\"mse: {mse}\")\n",
    "print(f\"r2: {r2}\")"
   ]
  },
  {
   "cell_type": "code",
   "execution_count": null,
   "id": "153eab1379be68a6",
   "metadata": {
    "ExecuteTime": {
     "end_time": "2024-11-28T01:47:32.915548Z",
     "start_time": "2024-11-28T01:47:32.912259Z"
    }
   },
   "outputs": [],
   "source": [
    "results_df = pd.DataFrame({'Actual': y_test, 'Predicted': y_predicted})\n",
    "print(results_df)"
   ]
  },
  {
   "cell_type": "markdown",
   "id": "yClFONLxi6gT",
   "metadata": {
    "id": "yClFONLxi6gT"
   },
   "source": [
    "### Linear\n"
   ]
  },
  {
   "cell_type": "code",
   "execution_count": null,
   "id": "HWelTzJPi8pD",
   "metadata": {
    "ExecuteTime": {
     "end_time": "2024-11-28T09:30:55.128366Z",
     "start_time": "2024-11-28T09:30:55.119541Z"
    },
    "id": "HWelTzJPi8pD"
   },
   "outputs": [],
   "source": [
    "linear_df = house_df.drop(columns=col_remove)\n",
    "linear_df"
   ]
  },
  {
   "cell_type": "code",
   "execution_count": null,
   "id": "Diy77_sei8pE",
   "metadata": {
    "ExecuteTime": {
     "end_time": "2024-11-28T09:31:01.732372Z",
     "start_time": "2024-11-28T09:31:01.724107Z"
    },
    "id": "Diy77_sei8pE"
   },
   "outputs": [],
   "source": [
    "X = linear_df.drop('price', axis=1)\n",
    "y = linear_df['price']\n",
    "\n",
    "X_train, X_test, y_train, y_test = train_test_split(X, y, test_size=0.2, random_state=5)"
   ]
  },
  {
   "cell_type": "code",
   "execution_count": null,
   "id": "1Ycf_BYBntWz",
   "metadata": {
    "ExecuteTime": {
     "end_time": "2024-11-28T09:28:30.348324Z",
     "start_time": "2024-11-28T09:28:30.268452Z"
    },
    "id": "1Ycf_BYBntWz"
   },
   "outputs": [],
   "source": [
    "from sklearn.linear_model import SGDRegressor\n",
    "\n",
    "model = SGDRegressor(max_iter=1000, tol=1e-3)\n",
    "model.fit(X_train, y_train)\n",
    "y_pred = model.predict(X_test)\n",
    "\n",
    "mae = mean_absolute_error(y_test, y_pred)\n",
    "mse = mean_squared_error(y_test, y_pred)\n",
    "r2 = r2_score(y_test, y_pred)\n",
    "\n",
    "print(f\"Mean Absolute Error: {mae}\")\n",
    "print(f\"Mean Squared Error: {mse}\")\n",
    "print(f\"R-squared: {r2}\")"
   ]
  },
  {
   "cell_type": "code",
   "execution_count": null,
   "id": "x1LQ-0o2i8pE",
   "metadata": {
    "ExecuteTime": {
     "end_time": "2024-11-28T09:36:47.057709Z",
     "start_time": "2024-11-28T09:36:46.988857Z"
    },
    "id": "x1LQ-0o2i8pE"
   },
   "outputs": [],
   "source": [
    "model = LinearRegression()\n",
    "model.fit(X_train, y_train)\n",
    "y_pred = model.predict(X_test)\n",
    "\n",
    "mae = mean_absolute_error(y_test, y_pred)\n",
    "mse = mean_squared_error(y_test, y_pred)\n",
    "r2 = r2_score(y_test, y_pred)\n",
    "\n",
    "print(f\"mae: {mae}\")\n",
    "print(f\"mse: {mse}\")\n",
    "print(f\"r2: {r2}\")"
   ]
  },
  {
   "cell_type": "code",
   "execution_count": null,
   "id": "d5958481ed98bf6d",
   "metadata": {
    "ExecuteTime": {
     "end_time": "2024-11-28T09:36:51.760921Z",
     "start_time": "2024-11-28T09:36:51.655947Z"
    }
   },
   "outputs": [],
   "source": [
    "plt.figure(figsize=(10, 6))\n",
    "plt.scatter(y_test, y_pred, alpha=0.5)\n",
    "plt.plot([y_test.min(), y_test.max()], [y_test.min(), y_test.max()], 'r--', lw=2)\n",
    "plt.xlabel('Actual')\n",
    "plt.ylabel('Predicted')\n",
    "plt.title('Actual vs Predicted House Prices')\n",
    "plt.show()"
   ]
  },
  {
   "cell_type": "code",
   "execution_count": null,
   "id": "60bd48609fc7d0e8",
   "metadata": {
    "ExecuteTime": {
     "end_time": "2024-11-28T09:31:08.408496Z",
     "start_time": "2024-11-28T09:31:08.404388Z"
    }
   },
   "outputs": [],
   "source": [
    "coefficients = model.coef_\n",
    "\n",
    "# Create a DataFrame to display feature importance\n",
    "feature_importance_df = pd.DataFrame({\n",
    "    'Feature': X.columns,\n",
    "    'Coefficient': coefficients\n",
    "})\n",
    "\n",
    "# Sort the DataFrame by the absolute value of the coefficients\n",
    "feature_importance_df['Absolute Coefficient'] = feature_importance_df['Coefficient'].abs()\n",
    "feature_importance_df = feature_importance_df.sort_values(by='Absolute Coefficient', ascending=False)\n",
    "\n",
    "# Display the feature importance\n",
    "print(feature_importance_df[['Feature', 'Coefficient']])"
   ]
  },
  {
   "cell_type": "code",
   "execution_count": null,
   "id": "b321e0af4f62f21b",
   "metadata": {
    "ExecuteTime": {
     "end_time": "2024-11-28T09:33:26.069812Z",
     "start_time": "2024-11-28T09:33:25.942797Z"
    }
   },
   "outputs": [],
   "source": [
    "coefficients = model.coef_\n",
    "features = X.columns\n",
    "\n",
    "# Create a DataFrame for the coefficients\n",
    "coef_df = pd.DataFrame({'Feature': features, 'Coefficient': coefficients})\n",
    "\n",
    "# Sort the DataFrame by the absolute value of the coefficients\n",
    "coef_df['Absolute Coefficient'] = coef_df['Coefficient'].abs()\n",
    "coef_df = coef_df.sort_values(by='Absolute Coefficient', ascending=False)\n",
    "plt.figure(figsize=(10, 6))\n",
    "plt.barh(coef_df['Feature'], coef_df['Coefficient'], color='skyblue')\n",
    "plt.xlabel('Coefficient Value')\n",
    "plt.ylabel('Feature')\n",
    "plt.title('Feature Importance (Coefficients) in Linear Regression Model')\n",
    "plt.gca().invert_yaxis()  # Invert y-axis to have the highest coefficient at the top\n",
    "plt.show()"
   ]
  },
  {
   "cell_type": "code",
   "execution_count": null,
   "id": "Jlw1yT7Ei8pF",
   "metadata": {
    "ExecuteTime": {
     "end_time": "2024-11-28T09:29:27.830160Z",
     "start_time": "2024-11-28T09:29:27.800229Z"
    },
    "id": "Jlw1yT7Ei8pF"
   },
   "outputs": [],
   "source": [
    "ridge = Ridge(alpha=1, solver='auto')\n",
    "ridge.fit(X_train, y_train)\n",
    "y_pred = ridge.predict(X_test)\n",
    "\n",
    "mae = mean_absolute_error(y_test, y_pred)\n",
    "mse = mean_squared_error(y_test, y_pred)\n",
    "r2 = r2_score(y_test, y_pred)\n",
    "\n",
    "print(f\"mae: {mae}\")\n",
    "print(f\"mse: {mse}\")\n",
    "print(f\"r2: {r2}\")"
   ]
  },
  {
   "cell_type": "code",
   "execution_count": null,
   "id": "s1kGNQi1i8pF",
   "metadata": {
    "ExecuteTime": {
     "end_time": "2024-11-28T02:53:14.188552Z",
     "start_time": "2024-11-28T02:52:16.065559Z"
    },
    "id": "s1kGNQi1i8pF"
   },
   "outputs": [],
   "source": [
    "lasso = Lasso(alpha=0.0001, max_iter=100000)\n",
    "lasso.fit(X_train, y_train)\n",
    "y_pred = lasso.predict(X_test)\n",
    "\n",
    "mae = mean_absolute_error(y_test, y_pred)\n",
    "mse = mean_squared_error(y_test, y_pred)\n",
    "r2 = r2_score(y_test, y_pred)\n",
    "\n",
    "print(f\"mae: {mae}\")\n",
    "print(f\"mse: {mse}\")\n",
    "print(f\"r2: {r2}\")"
   ]
  },
  {
   "cell_type": "markdown",
   "id": "iyep_9QyjV67",
   "metadata": {
    "id": "iyep_9QyjV67"
   },
   "source": [
    "### Neural Networks"
   ]
  },
  {
   "cell_type": "code",
   "execution_count": null,
   "id": "RHogupvrjYKV",
   "metadata": {
    "ExecuteTime": {
     "end_time": "2024-11-28T01:54:50.483879Z",
     "start_time": "2024-11-28T01:54:50.470062Z"
    },
    "id": "RHogupvrjYKV"
   },
   "outputs": [],
   "source": [
    "nn_df = house_df.drop(columns=col_remove)\n",
    "nn_df"
   ]
  },
  {
   "cell_type": "code",
   "execution_count": null,
   "id": "xvWhXAtcjYKW",
   "metadata": {
    "ExecuteTime": {
     "end_time": "2024-11-28T02:00:43.813429Z",
     "start_time": "2024-11-28T02:00:43.804238Z"
    },
    "id": "xvWhXAtcjYKW"
   },
   "outputs": [],
   "source": [
    "X = nn_df.drop('price', axis=1)\n",
    "y = nn_df['price']\n",
    "\n",
    "X_train, X_test, y_train, y_test = train_test_split(X, y, test_size=0.2, random_state=5)"
   ]
  },
  {
   "cell_type": "code",
   "execution_count": null,
   "id": "Xrje3vwIjYKW",
   "metadata": {
    "ExecuteTime": {
     "end_time": "2024-11-28T02:05:13.733709Z",
     "start_time": "2024-11-28T02:00:45.599592Z"
    },
    "id": "Xrje3vwIjYKW"
   },
   "outputs": [],
   "source": [
    "input_size = X_train.shape[1]\n",
    "hidden_layers = [64]\n",
    "output_size = 1\n",
    "network = NeuralNetwork(input_size, output_size, hidden_layers, activation='relu')\n",
    "\n",
    "criterion = nn.MSELoss()\n",
    "optimizer = optim.Adam(network.parameters(), lr=0.001)\n",
    "\n",
    "max_epochs = 300\n",
    "losses = []\n",
    "\n",
    "for epoch in range(max_epochs):\n",
    "    current_epoch_loss = 0\n",
    "    for X, y in zip(X_train.values, y_train.values):\n",
    "        X = torch.Tensor(X).float()\n",
    "        y = torch.Tensor([y]).float()\n",
    "\n",
    "        optimizer.zero_grad()\n",
    "        outputs = network(X)\n",
    "        loss = criterion(outputs, y)\n",
    "        loss.backward()\n",
    "        optimizer.step()\n",
    "\n",
    "        current_epoch_loss += loss.item()\n",
    "\n",
    "    average_loss = current_epoch_loss / len(X_train)\n",
    "    losses.append(average_loss)\n",
    "    print(f'Epoch: {epoch + 1}, Loss: {average_loss:.6f}')"
   ]
  },
  {
   "cell_type": "code",
   "execution_count": null,
   "id": "ZCQP_yxe9gQq",
   "metadata": {
    "id": "ZCQP_yxe9gQq"
   },
   "outputs": [],
   "source": [
    "network.eval()\n",
    "with torch.no_grad():\n",
    "    y_pred = network(torch.Tensor(X_test.values).float()).numpy()\n",
    "\n",
    "mae = mean_absolute_error(y_test, y_pred)\n",
    "mse = mean_squared_error(y_test, y_pred)\n",
    "r2 = r2_score(y_test, y_pred)\n",
    "\n",
    "print(f\"Mean Absolute Error: {mae}\")\n",
    "print(f\"Mean Squared Error: {mse}\")\n",
    "print(f\"R-squared: {r2}\")"
   ]
  },
  {
   "cell_type": "markdown",
   "id": "216a6b0b-3c50-42f0-b097-ff6e598369ea",
   "metadata": {
    "id": "216a6b0b-3c50-42f0-b097-ff6e598369ea"
   },
   "source": [
    "# Section 9. Model performance summary"
   ]
  },
  {
   "cell_type": "markdown",
   "id": "5dc12aca-f2b9-490d-9d89-f83130e13a03",
   "metadata": {
    "id": "5dc12aca-f2b9-490d-9d89-f83130e13a03"
   },
   "source": [
    "# Section 10. Insights and conclusions"
   ]
  },
  {
   "cell_type": "markdown",
   "id": "8a5af499-99b7-4c1b-951a-fb282b3e169d",
   "metadata": {
    "id": "8a5af499-99b7-4c1b-951a-fb282b3e169d"
   },
   "source": [
    "# Section 11. References"
   ]
  }
 ],
 "metadata": {
  "colab": {
   "provenance": [],
   "toc_visible": true
  },
  "kernelspec": {
   "display_name": "Python 3",
   "language": "python",
   "name": "python3"
  },
  "language_info": {
   "codemirror_mode": {
    "name": "ipython",
    "version": 3
   },
   "file_extension": ".py",
   "mimetype": "text/x-python",
   "name": "python",
   "nbconvert_exporter": "python",
   "pygments_lexer": "ipython3",
   "version": "3.12.3"
  }
 },
 "nbformat": 4,
 "nbformat_minor": 5
}
