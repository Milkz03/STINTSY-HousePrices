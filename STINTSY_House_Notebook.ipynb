{
 "cells": [
  {
   "cell_type": "markdown",
   "id": "b2f5802a-8195-426e-a578-5766679a44a6",
   "metadata": {
    "id": "b2f5802a-8195-426e-a578-5766679a44a6"
   },
   "source": [
    "# Section 1. Introduction to the problem/task and dataset"
   ]
  },
  {
   "cell_type": "markdown",
   "id": "116cbd08-032b-42ab-85b4-0910aece85c8",
   "metadata": {
    "id": "116cbd08-032b-42ab-85b4-0910aece85c8"
   },
   "source": [
    "The group has selected the house dataset based on the list of datasets.\n",
    "\n",
    "The target task of this notebook to predict the house prices in King County given selected house features. Using these models may be of interest to buyers or sellers who may not be familiar with the house market in King County.\n",
    "\n",
    "Interested buyers for houses in King County may want to estimate their budget given their desired house features.\n",
    "\n",
    "On the other hand, sellers who may not be familiar with the market may not want to underestimate or overestimate their house's worth. These models may be of assistance in guiding sellers to price their houses."
   ]
  },
  {
   "cell_type": "markdown",
   "id": "510bf14d-58cb-4b80-b2ec-1f0427de2cf5",
   "metadata": {
    "id": "510bf14d-58cb-4b80-b2ec-1f0427de2cf5"
   },
   "source": [
    "# Section 2. Description of the dataset"
   ]
  },
  {
   "cell_type": "markdown",
   "id": "c9cf4508-21e7-4c55-9076-24a1cd8b3a1f",
   "metadata": {
    "id": "c9cf4508-21e7-4c55-9076-24a1cd8b3a1f"
   },
   "source": [
    "This dataset consists of house sale prices and sold houses between May 2014 and May 2015 in King County."
   ]
  },
  {
   "cell_type": "markdown",
   "id": "d405bdb8-ce64-466a-94e2-38e8f06e2719",
   "metadata": {
    "id": "d405bdb8-ce64-466a-94e2-38e8f06e2719"
   },
   "source": [
    "Each row represents a house sold and each column represents a feature of a house.\n",
    "This dataset contains 21613 instances and 21 features overall."
   ]
  },
  {
   "cell_type": "markdown",
   "id": "e5627086-8dc3-47c6-a850-a54d9582eb0d",
   "metadata": {
    "id": "e5627086-8dc3-47c6-a850-a54d9582eb0d"
   },
   "source": [
    "Features:\n",
    "- `id` – A notation for a house x\n",
    "- `date` – Date sold x\n",
    "- `price` – Sale price\n",
    "- `bedrooms` – Number of bedrooms\n",
    "- `bathrooms` – Number of bathrooms\n",
    "- `sqft_living` – Size of living area in square feet\n",
    "- `sqft_lot` – Size of the lot in square feet\n",
    "- `floors` – Total floors in the house\n",
    "- `waterfront` – ‘1’ if the property has a waterfront, ‘0’ if not.\n",
    "- `view` – An index from 0 to 4 of how good the view of the property was.\n",
    "- `condition` – Condition of the house, ranked from 1 to 5\n",
    "- `grade` – Classification by construction quality which refers to the types of materials used\n",
    "and the quality of workmanship. Buildings of better quality (higher grade) cost more to\n",
    "build per unit of measure and command higher value.\n",
    "- `sqft_above` –  Square feet above ground (find just to remove)\n",
    "- `sqft_basement` – Square feet below ground (find just to bin)\n",
    "- `yr_built` – Year built\n",
    "- `yr_renovated` – Year renovated. ‘0’ if never renovated\n",
    "- `zipcode` – 5-digit zip code (transform)\n",
    "- `lat` – Latitude coordinate (transform)\n",
    "- `long` – Longitude coordinate (transform)\n",
    "- `sqft_living15` – Average size of interior housing living space for the closest 15 houses, in\n",
    "square feet\n",
    "- `sqft_lot15` – Average size of land lots for the closest 15 houses, in square feet"
   ]
  },
  {
   "cell_type": "markdown",
   "id": "5ee40dbb-f916-45e0-bdc6-5c9da6127782",
   "metadata": {
    "id": "5ee40dbb-f916-45e0-bdc6-5c9da6127782"
   },
   "source": [
    "# Section 3. List of requirements"
   ]
  },
  {
   "cell_type": "code",
   "id": "26fc7fa0-3fea-40d9-a2c2-396c88ce47e5",
   "metadata": {
    "id": "26fc7fa0-3fea-40d9-a2c2-396c88ce47e5"
   },
   "source": [
    "import pandas as pd\n",
    "import numpy as np\n",
    "import matplotlib.pyplot as plt\n",
    "import matplotlib.dates as mdates\n",
    "from matplotlib.ticker import ScalarFormatter\n",
    "\n",
    "import statsmodels.api as sm\n",
    "from statsmodels.formula.api import ols\n",
    "\n",
    "# Geographical analysis\n",
    "import folium\n",
    "from folium.plugins import MarkerCluster\n",
    "from folium.plugins import HeatMap\n",
    "from sklearn.cluster import KMeans\n",
    "\n",
    "# extracting lat, long from zipcode\n",
    "from geopy.geocoders import Nominatim\n",
    "from geopy.extra.rate_limiter import RateLimiter\n",
    "\n",
    "# for google Colab\n",
    "# from google.colab import drive\n"
   ],
   "outputs": [],
   "execution_count": null
  },
  {
   "cell_type": "markdown",
   "id": "f4c1e885-1d8f-4a21-8aa5-11e21656543d",
   "metadata": {
    "id": "f4c1e885-1d8f-4a21-8aa5-11e21656543d"
   },
   "source": [
    "# Section 4. Data preprocessing and cleaning"
   ]
  },
  {
   "cell_type": "code",
   "id": "_zlwtjlG-haL",
   "metadata": {
    "colab": {
     "base_uri": "https://localhost:8080/"
    },
    "id": "_zlwtjlG-haL",
    "outputId": "16021681-b6b0-4a2b-e5a2-a30cc96a47eb"
   },
   "source": "# drive.mount('/content/drive')",
   "outputs": [],
   "execution_count": null
  },
  {
   "cell_type": "code",
   "id": "b6028956-a18d-4d57-a9b2-dcd9fe99defc",
   "metadata": {
    "id": "b6028956-a18d-4d57-a9b2-dcd9fe99defc"
   },
   "source": "house_df = pd.read_csv(\"house_prices.csv\")",
   "outputs": [],
   "execution_count": null
  },
  {
   "cell_type": "code",
   "id": "3df53eff-2f9f-4b2b-bbb5-2c2a0dee8db7",
   "metadata": {
    "colab": {
     "base_uri": "https://localhost:8080/",
     "height": 256
    },
    "id": "3df53eff-2f9f-4b2b-bbb5-2c2a0dee8db7",
    "outputId": "c95ea7a8-0d6c-4f10-aaec-f9c1cb534ead"
   },
   "source": [
    "house_df.head()"
   ],
   "outputs": [],
   "execution_count": null
  },
  {
   "cell_type": "code",
   "id": "53843495-fda0-4a05-9b9a-81b5d9f6d331",
   "metadata": {
    "colab": {
     "base_uri": "https://localhost:8080/"
    },
    "id": "53843495-fda0-4a05-9b9a-81b5d9f6d331",
    "outputId": "b29ed50b-b30f-4194-97c4-bb8702cb1dd0"
   },
   "source": [
    "house_df.info()"
   ],
   "outputs": [],
   "execution_count": null
  },
  {
   "cell_type": "markdown",
   "id": "wdjOG75XwQci",
   "metadata": {
    "id": "wdjOG75XwQci"
   },
   "source": [
    "## Duplicate data\n"
   ]
  },
  {
   "cell_type": "code",
   "id": "4f2f87ab-4b7d-46d9-a2fe-69e90e914c17",
   "metadata": {
    "colab": {
     "base_uri": "https://localhost:8080/",
     "height": 444
    },
    "id": "4f2f87ab-4b7d-46d9-a2fe-69e90e914c17",
    "outputId": "b7847130-d860-4c5a-fcd2-37ce801b5f8d",
    "scrolled": true
   },
   "source": [
    "a = house_df[\"id\"].value_counts()\n",
    "dupe_id_df = house_df.join(a, on='id')\n",
    "dupe_id_df[dupe_id_df['count'] > 1]"
   ],
   "outputs": [],
   "execution_count": null
  },
  {
   "cell_type": "markdown",
   "id": "3kWQ2TN610xi",
   "metadata": {
    "id": "3kWQ2TN610xi"
   },
   "source": [
    "Duplicate IDs are from house prices that change overtime"
   ]
  },
  {
   "cell_type": "code",
   "id": "ruGFfAqms7SH",
   "metadata": {
    "colab": {
     "base_uri": "https://localhost:8080/",
     "height": 193
    },
    "id": "ruGFfAqms7SH",
    "outputId": "c0d4fcfe-d436-4063-df0d-a5720eb5a46d"
   },
   "source": [
    "house_df[house_df.id == 795000620]"
   ],
   "outputs": [],
   "execution_count": null
  },
  {
   "cell_type": "code",
   "id": "HhGL2H730hi6",
   "metadata": {
    "colab": {
     "base_uri": "https://localhost:8080/",
     "height": 147
    },
    "id": "HhGL2H730hi6",
    "outputId": "781e06e2-68b9-4b45-a971-8fe9451d50fa"
   },
   "source": [
    "# keeping only most recent ids for dupes\n",
    "house_df = house_df.drop_duplicates(subset=['id'], keep='last')\n",
    "house_df.id.duplicated().value_counts()"
   ],
   "outputs": [],
   "execution_count": null
  },
  {
   "cell_type": "markdown",
   "id": "Rn2_kvnL1_Xn",
   "metadata": {
    "id": "Rn2_kvnL1_Xn"
   },
   "source": [
    "This line of code should return the the row that has a year of 2015."
   ]
  },
  {
   "cell_type": "code",
   "id": "RTwEJkxV17OJ",
   "metadata": {
    "colab": {
     "base_uri": "https://localhost:8080/",
     "height": 130
    },
    "id": "RTwEJkxV17OJ",
    "outputId": "9169f3ac-4243-4ea7-ad2a-6f8495a17d71"
   },
   "source": [
    "house_df[house_df.id == 795000620]"
   ],
   "outputs": [],
   "execution_count": null
  },
  {
   "cell_type": "code",
   "id": "0cd02691-ee09-433c-bb26-4017c7907e0a",
   "metadata": {
    "colab": {
     "base_uri": "https://localhost:8080/",
     "height": 130
    },
    "id": "0cd02691-ee09-433c-bb26-4017c7907e0a",
    "outputId": "a1a41cdb-62de-41f1-adce-36d18c02fdf2"
   },
   "source": [
    "house_df.loc[house_df[\"id\"] == 7129300520]"
   ],
   "outputs": [],
   "execution_count": null
  },
  {
   "cell_type": "markdown",
   "id": "M5ZfNK8y1OQg",
   "metadata": {
    "id": "M5ZfNK8y1OQg"
   },
   "source": [
    "## Converting date into DateTime object\n",
    "Done for easier processing.\n"
   ]
  },
  {
   "cell_type": "code",
   "id": "0c5ecfe8-dddf-403d-8e15-21b33e5a3b86",
   "metadata": {
    "colab": {
     "base_uri": "https://localhost:8080/"
    },
    "id": "0c5ecfe8-dddf-403d-8e15-21b33e5a3b86",
    "outputId": "3cf95e3e-5e29-46d5-dbe0-97f00c2d8b0d"
   },
   "source": [
    "# Convert date for easier processing\n",
    "house_df['date'] = pd.to_datetime(house_df['date'])\n",
    "house_df['date'].info()"
   ],
   "outputs": [],
   "execution_count": null
  },
  {
   "cell_type": "markdown",
   "id": "3jVc0okN57B5",
   "metadata": {
    "id": "3jVc0okN57B5"
   },
   "source": [
    "## Check for the minimum and maximum values"
   ]
  },
  {
   "cell_type": "code",
   "id": "Exw4HNEx3dTs",
   "metadata": {
    "colab": {
     "base_uri": "https://localhost:8080/"
    },
    "id": "Exw4HNEx3dTs",
    "outputId": "5ecab670-f3ff-45ee-afc4-58651b15ba39"
   },
   "source": [
    "col_minmax = house_df.columns.drop(['id', 'date','lat','long'])\n",
    "print(\"Minimum and Maximum of each column (min,max)\")\n",
    "for c in col_minmax:\n",
    "  print(\"%s \\t\\t(%.2f, %.2f)\" % (c, house_df[c].min(), house_df[c].max()))"
   ],
   "outputs": [],
   "execution_count": null
  },
  {
   "cell_type": "code",
   "id": "1a9ad24e-2bc4-41ff-bed0-adab435e99bc",
   "metadata": {
    "colab": {
     "base_uri": "https://localhost:8080/",
     "height": 1000
    },
    "id": "1a9ad24e-2bc4-41ff-bed0-adab435e99bc",
    "outputId": "ab35d19b-1ac9-455c-d98a-5cfbdda044ef"
   },
   "source": [
    "# weird to use float in here\n",
    "bathroom_counts = house_df[\"bathrooms\"].value_counts()\n",
    "bathroom_counts"
   ],
   "outputs": [],
   "execution_count": null
  },
  {
   "cell_type": "code",
   "id": "UtZ2Euh4V7O7",
   "metadata": {
    "colab": {
     "base_uri": "https://localhost:8080/",
     "height": 447
    },
    "id": "UtZ2Euh4V7O7",
    "outputId": "944c83d8-598d-4aee-b918-7cfbe63381d7"
   },
   "source": [
    "plt.bar(bathroom_counts.index, bathroom_counts[:])"
   ],
   "outputs": [],
   "execution_count": null
  },
  {
   "cell_type": "code",
   "id": "77c441e7-5a0a-451c-a83e-6a0e4aee77b5",
   "metadata": {
    "colab": {
     "base_uri": "https://localhost:8080/",
     "height": 523
    },
    "id": "77c441e7-5a0a-451c-a83e-6a0e4aee77b5",
    "outputId": "573dde0c-e0f6-47d1-92f9-fa5e19128f64"
   },
   "source": [
    "# I don't know what's this 33 bedrooms thing\n",
    "house_df[\"bedrooms\"].value_counts()"
   ],
   "outputs": [],
   "execution_count": null
  },
  {
   "cell_type": "code",
   "id": "926b1dc8-9785-49fd-9d9a-b35499c672ae",
   "metadata": {
    "colab": {
     "base_uri": "https://localhost:8080/",
     "height": 147
    },
    "id": "926b1dc8-9785-49fd-9d9a-b35499c672ae",
    "outputId": "b3e1d75d-83ef-4abf-e1c3-efb2dfa5c2e7"
   },
   "source": [
    "# This entry may need to be examined more, this looks too suspicious\n",
    "house_df.loc[house_df[\"bedrooms\"] == 33]"
   ],
   "outputs": [],
   "execution_count": null
  },
  {
   "cell_type": "code",
   "id": "3b8429b9-7113-4a7f-b5f0-bd628ced4166",
   "metadata": {
    "colab": {
     "base_uri": "https://localhost:8080/",
     "height": 147
    },
    "id": "3b8429b9-7113-4a7f-b5f0-bd628ced4166",
    "outputId": "a0b228c8-49a1-48bb-b2f2-6d03f24fe51b"
   },
   "source": [
    "house_df.loc[house_df[\"price\"] == 7700000.0]"
   ],
   "outputs": [],
   "execution_count": null
  },
  {
   "cell_type": "code",
   "id": "c3859e7e-f5f8-4af4-9daf-766ef0fef3fb",
   "metadata": {
    "colab": {
     "base_uri": "https://localhost:8080/",
     "height": 490
    },
    "id": "c3859e7e-f5f8-4af4-9daf-766ef0fef3fb",
    "outputId": "8cd1fec8-16fe-47bf-c4c2-4641b4dbf93e"
   },
   "source": [
    "house_df[\"sqft_living\"].value_counts()"
   ],
   "outputs": [],
   "execution_count": null
  },
  {
   "cell_type": "code",
   "id": "607ea080-d0a4-47af-8556-a697012c1a86",
   "metadata": {
    "colab": {
     "base_uri": "https://localhost:8080/"
    },
    "id": "607ea080-d0a4-47af-8556-a697012c1a86",
    "outputId": "28d7fb3d-5775-4696-dcab-f73a97ba0d2a"
   },
   "source": [
    "house_df[\"sqft_living\"].min()"
   ],
   "outputs": [],
   "execution_count": null
  },
  {
   "cell_type": "code",
   "id": "3b3ec31e-83c6-41e7-97ba-8fd21e6ca3ab",
   "metadata": {
    "colab": {
     "base_uri": "https://localhost:8080/"
    },
    "id": "3b3ec31e-83c6-41e7-97ba-8fd21e6ca3ab",
    "outputId": "4753626a-1d3b-4db4-8a9c-8e97cbe29525"
   },
   "source": [
    "house_df[\"sqft_living\"].max()"
   ],
   "outputs": [],
   "execution_count": null
  },
  {
   "cell_type": "code",
   "id": "402872fc-c025-4cd7-a4e4-b03e2b2cdbe7",
   "metadata": {
    "colab": {
     "base_uri": "https://localhost:8080/",
     "height": 147
    },
    "id": "402872fc-c025-4cd7-a4e4-b03e2b2cdbe7",
    "outputId": "9dd9adba-89ce-453b-c208-c3ec5443b68d"
   },
   "source": [
    "house_df.loc[house_df[\"sqft_living\"] == 13540]"
   ],
   "outputs": [],
   "execution_count": null
  },
  {
   "cell_type": "code",
   "id": "4792c857-a12c-4e96-a85e-409b9b24b738",
   "metadata": {
    "colab": {
     "base_uri": "https://localhost:8080/"
    },
    "id": "4792c857-a12c-4e96-a85e-409b9b24b738",
    "outputId": "2acf8267-ea1f-42e4-f22e-fa0d8bc214d3"
   },
   "source": [
    "house_df[\"sqft_lot\"].min()"
   ],
   "outputs": [],
   "execution_count": null
  },
  {
   "cell_type": "code",
   "id": "9f8215b7-17c3-4d13-bb12-c71f43c18f19",
   "metadata": {
    "colab": {
     "base_uri": "https://localhost:8080/",
     "height": 147
    },
    "id": "9f8215b7-17c3-4d13-bb12-c71f43c18f19",
    "outputId": "60c488ef-ce29-43b2-f797-e9b6a42bb80d"
   },
   "source": [
    "house_df.loc[house_df[\"sqft_lot\"] == 520]"
   ],
   "outputs": [],
   "execution_count": null
  },
  {
   "cell_type": "code",
   "id": "8ce64293-2a70-43cd-9ae9-51cf442bd92f",
   "metadata": {
    "colab": {
     "base_uri": "https://localhost:8080/"
    },
    "id": "8ce64293-2a70-43cd-9ae9-51cf442bd92f",
    "outputId": "be1517b2-4cca-4b19-c40a-367c11bad18a"
   },
   "source": [
    "house_df[\"sqft_lot\"].max()"
   ],
   "outputs": [],
   "execution_count": null
  },
  {
   "cell_type": "code",
   "id": "00e4fc56-4f79-4f2b-8ad4-6e6ea4ae21d0",
   "metadata": {
    "colab": {
     "base_uri": "https://localhost:8080/",
     "height": 147
    },
    "id": "00e4fc56-4f79-4f2b-8ad4-6e6ea4ae21d0",
    "outputId": "b226305b-0aa2-4699-86cf-782f48b79d79"
   },
   "source": [
    "house_df.loc[house_df[\"sqft_lot\"] == 1651359]"
   ],
   "outputs": [],
   "execution_count": null
  },
  {
   "cell_type": "code",
   "id": "db6394bd-18cf-473b-824b-32563e445efa",
   "metadata": {
    "colab": {
     "base_uri": "https://localhost:8080/"
    },
    "id": "db6394bd-18cf-473b-824b-32563e445efa",
    "outputId": "3ab1c700-b7ca-463e-9c4c-8080d56ff55d"
   },
   "source": [
    "house_df[\"floors\"].min()"
   ],
   "outputs": [],
   "execution_count": null
  },
  {
   "cell_type": "code",
   "id": "83f763b6-2550-447b-8ee8-08178861c2cf",
   "metadata": {
    "colab": {
     "base_uri": "https://localhost:8080/"
    },
    "id": "83f763b6-2550-447b-8ee8-08178861c2cf",
    "outputId": "dd79d4ca-e757-40d7-b956-6f30191e91f3"
   },
   "source": [
    "house_df[\"floors\"].max()"
   ],
   "outputs": [],
   "execution_count": null
  },
  {
   "cell_type": "code",
   "id": "44468f65-9a89-4d25-98b7-40b28ddc2413",
   "metadata": {
    "colab": {
     "base_uri": "https://localhost:8080/",
     "height": 178
    },
    "id": "44468f65-9a89-4d25-98b7-40b28ddc2413",
    "outputId": "749f8728-bb3c-4dd2-b9af-0be435dacfcb"
   },
   "source": [
    "house_df[\"waterfront\"].value_counts()"
   ],
   "outputs": [],
   "execution_count": null
  },
  {
   "cell_type": "code",
   "id": "683d0360-1204-4dca-b8ce-b04fad6a867b",
   "metadata": {
    "colab": {
     "base_uri": "https://localhost:8080/",
     "height": 272
    },
    "id": "683d0360-1204-4dca-b8ce-b04fad6a867b",
    "outputId": "364d1965-bd58-4fe6-d20f-ae98d485a96d"
   },
   "source": [
    "house_df[\"view\"].value_counts()"
   ],
   "outputs": [],
   "execution_count": null
  },
  {
   "cell_type": "code",
   "id": "fde495f7-5cd2-46fe-a4dd-5f866c099c38",
   "metadata": {
    "colab": {
     "base_uri": "https://localhost:8080/",
     "height": 272
    },
    "id": "fde495f7-5cd2-46fe-a4dd-5f866c099c38",
    "outputId": "bec36f70-face-4218-a446-73aedd49e76f"
   },
   "source": [
    "house_df[\"condition\"].value_counts()"
   ],
   "outputs": [],
   "execution_count": null
  },
  {
   "cell_type": "code",
   "id": "abcbe9d6-0408-4a97-84b8-6fe00a770153",
   "metadata": {
    "colab": {
     "base_uri": "https://localhost:8080/",
     "height": 492
    },
    "id": "abcbe9d6-0408-4a97-84b8-6fe00a770153",
    "outputId": "3667578d-d5f6-4fde-84a7-db891095678a"
   },
   "source": [
    "house_df[\"grade\"].value_counts()"
   ],
   "outputs": [],
   "execution_count": null
  },
  {
   "cell_type": "code",
   "id": "881a5f65-25f8-4c8f-ab85-a1a1af6fcc92",
   "metadata": {
    "colab": {
     "base_uri": "https://localhost:8080/"
    },
    "id": "881a5f65-25f8-4c8f-ab85-a1a1af6fcc92",
    "outputId": "a85081b2-267a-4fa9-9185-16a7999f6edb"
   },
   "source": [
    "house_df[\"sqft_above\"].min()"
   ],
   "outputs": [],
   "execution_count": null
  },
  {
   "cell_type": "code",
   "id": "9208ae9e-8ee1-4fd4-a665-fb57a1caad04",
   "metadata": {
    "colab": {
     "base_uri": "https://localhost:8080/"
    },
    "id": "9208ae9e-8ee1-4fd4-a665-fb57a1caad04",
    "outputId": "82d66147-795a-42f0-ed40-817f7f6cafe8"
   },
   "source": [
    "house_df[\"sqft_above\"].max()"
   ],
   "outputs": [],
   "execution_count": null
  },
  {
   "cell_type": "code",
   "id": "6063cab0-a31d-4766-85b8-bbea795dd3fc",
   "metadata": {
    "colab": {
     "base_uri": "https://localhost:8080/"
    },
    "id": "6063cab0-a31d-4766-85b8-bbea795dd3fc",
    "outputId": "2343c06d-2deb-498e-c3f3-ba3b0627b336"
   },
   "source": [
    "house_df[\"sqft_basement\"].min()"
   ],
   "outputs": [],
   "execution_count": null
  },
  {
   "cell_type": "code",
   "id": "63e5decb-a351-4d72-9fd5-3455f9ed9e79",
   "metadata": {
    "colab": {
     "base_uri": "https://localhost:8080/"
    },
    "id": "63e5decb-a351-4d72-9fd5-3455f9ed9e79",
    "outputId": "41aabeb9-6045-40f9-e863-cd27ced5b863"
   },
   "source": [
    "house_df[\"sqft_basement\"].max()"
   ],
   "outputs": [],
   "execution_count": null
  },
  {
   "cell_type": "code",
   "id": "0915e7d6-e503-4b92-a255-45175fae8a0a",
   "metadata": {
    "colab": {
     "base_uri": "https://localhost:8080/"
    },
    "id": "0915e7d6-e503-4b92-a255-45175fae8a0a",
    "outputId": "1e5db480-9b43-4a7f-ab02-38eef51b356f"
   },
   "source": [
    "house_df[\"yr_built\"].min()"
   ],
   "outputs": [],
   "execution_count": null
  },
  {
   "cell_type": "code",
   "id": "d511607c-1e08-430c-ab6d-7904c71eb553",
   "metadata": {
    "colab": {
     "base_uri": "https://localhost:8080/"
    },
    "id": "d511607c-1e08-430c-ab6d-7904c71eb553",
    "outputId": "1bb7af15-0977-4375-e7d2-6fcde8c446ff"
   },
   "source": [
    "house_df[\"yr_built\"].max()"
   ],
   "outputs": [],
   "execution_count": null
  },
  {
   "cell_type": "code",
   "id": "7a8e5612-b3b4-4bdf-b477-d6fb9548f23e",
   "metadata": {
    "colab": {
     "base_uri": "https://localhost:8080/",
     "height": 490
    },
    "id": "7a8e5612-b3b4-4bdf-b477-d6fb9548f23e",
    "outputId": "1c83c171-3d1f-43bf-c472-07dcae3f3e52"
   },
   "source": [
    "house_df[\"zipcode\"].value_counts()"
   ],
   "outputs": [],
   "execution_count": null
  },
  {
   "cell_type": "code",
   "id": "8f83f23c-d77b-44b9-a681-ef50846f1e60",
   "metadata": {
    "colab": {
     "base_uri": "https://localhost:8080/",
     "height": 490
    },
    "id": "8f83f23c-d77b-44b9-a681-ef50846f1e60",
    "outputId": "74265c3d-878b-4049-99a5-98886d378a4b"
   },
   "source": [
    "house_df[\"yr_renovated\"].value_counts()"
   ],
   "outputs": [],
   "execution_count": null
  },
  {
   "cell_type": "code",
   "id": "3323ecb3-11e2-4d79-8305-cf6215f0be5e",
   "metadata": {
    "colab": {
     "base_uri": "https://localhost:8080/"
    },
    "id": "3323ecb3-11e2-4d79-8305-cf6215f0be5e",
    "outputId": "2174e327-d752-4300-ac73-9481eae6fa78"
   },
   "source": [
    "house_df[\"zipcode\"].min()"
   ],
   "outputs": [],
   "execution_count": null
  },
  {
   "cell_type": "code",
   "id": "44d7acda-8260-41ff-b746-b2f3769c4619",
   "metadata": {
    "colab": {
     "base_uri": "https://localhost:8080/"
    },
    "id": "44d7acda-8260-41ff-b746-b2f3769c4619",
    "outputId": "e2a215e7-7576-468f-e554-5fb624ffe199"
   },
   "source": [
    "house_df[\"zipcode\"].max()"
   ],
   "outputs": [],
   "execution_count": null
  },
  {
   "cell_type": "code",
   "id": "ff3796ac-a49c-40b1-a4cf-ba36d8b63489",
   "metadata": {
    "colab": {
     "base_uri": "https://localhost:8080/"
    },
    "id": "ff3796ac-a49c-40b1-a4cf-ba36d8b63489",
    "outputId": "ec56c7eb-1510-4d46-f45f-2a635a83dbe4"
   },
   "source": [
    "house_df[\"lat\"].min()"
   ],
   "outputs": [],
   "execution_count": null
  },
  {
   "cell_type": "code",
   "id": "bbb485ed-fb9c-4f46-9465-ed9a424aa495",
   "metadata": {
    "colab": {
     "base_uri": "https://localhost:8080/"
    },
    "id": "bbb485ed-fb9c-4f46-9465-ed9a424aa495",
    "outputId": "b1b95faf-3c86-4938-f66d-4e63f6bd3919"
   },
   "source": [
    "house_df[\"lat\"].max()"
   ],
   "outputs": [],
   "execution_count": null
  },
  {
   "cell_type": "code",
   "id": "45ac6f11-01c8-4e7f-a796-c1dd4a001920",
   "metadata": {
    "colab": {
     "base_uri": "https://localhost:8080/"
    },
    "id": "45ac6f11-01c8-4e7f-a796-c1dd4a001920",
    "outputId": "4a0822cf-7f92-4abf-a9db-a8cd0585859a"
   },
   "source": [
    "house_df[\"long\"].min()"
   ],
   "outputs": [],
   "execution_count": null
  },
  {
   "cell_type": "code",
   "id": "7398c9e1-988c-42cd-a954-7934ac7faae1",
   "metadata": {
    "colab": {
     "base_uri": "https://localhost:8080/"
    },
    "id": "7398c9e1-988c-42cd-a954-7934ac7faae1",
    "outputId": "afb2904a-7a4a-4003-87e3-53046b0ef33b"
   },
   "source": [
    "house_df[\"long\"].max()"
   ],
   "outputs": [],
   "execution_count": null
  },
  {
   "cell_type": "code",
   "id": "3e78300f-b843-46f3-b2d8-255589c4acd3",
   "metadata": {
    "colab": {
     "base_uri": "https://localhost:8080/"
    },
    "id": "3e78300f-b843-46f3-b2d8-255589c4acd3",
    "outputId": "fd22af4d-914e-4018-f157-e84e1e8f4c72"
   },
   "source": [
    "house_df[\"sqft_living15\"].min()"
   ],
   "outputs": [],
   "execution_count": null
  },
  {
   "cell_type": "code",
   "id": "0d7ad99b-a5b1-4072-a2cb-f7ee069c7d8a",
   "metadata": {
    "colab": {
     "base_uri": "https://localhost:8080/"
    },
    "id": "0d7ad99b-a5b1-4072-a2cb-f7ee069c7d8a",
    "outputId": "503c893d-c068-4916-fa34-0e0c9cedfac6"
   },
   "source": [
    "house_df[\"sqft_living15\"].max()"
   ],
   "outputs": [],
   "execution_count": null
  },
  {
   "cell_type": "code",
   "id": "7e60db5c-cb20-4616-8bff-723210bc4fa8",
   "metadata": {
    "colab": {
     "base_uri": "https://localhost:8080/"
    },
    "id": "7e60db5c-cb20-4616-8bff-723210bc4fa8",
    "outputId": "93103c2c-609f-4c23-cb7f-6bb54de838e8"
   },
   "source": [
    "house_df[\"sqft_lot15\"].max()"
   ],
   "outputs": [],
   "execution_count": null
  },
  {
   "cell_type": "markdown",
   "id": "22551062-8871-4544-8d99-7f1f850ced74",
   "metadata": {
    "id": "22551062-8871-4544-8d99-7f1f850ced74"
   },
   "source": [
    "# Section 5. Exploratory data analysis"
   ]
  },
  {
   "cell_type": "markdown",
   "id": "0cc6a001-1dd7-4f9f-ac04-a49a0fbd1bbd",
   "metadata": {
    "id": "0cc6a001-1dd7-4f9f-ac04-a49a0fbd1bbd"
   },
   "source": [
    "### When was the most houses sold?"
   ]
  },
  {
   "cell_type": "code",
   "id": "60c8cfd1-89c1-4ddb-831d-c51202f4ea26",
   "metadata": {
    "id": "60c8cfd1-89c1-4ddb-831d-c51202f4ea26"
   },
   "source": [
    "house_df['count'] = 1\n",
    "daily_counts = house_df.groupby('date').count().reset_index()\n",
    "\n",
    "# Group by month and year, summing the counts\n",
    "daily_counts['year_month'] = daily_counts['date'].dt.to_period('M')  # Convert to year-month period\n",
    "monthly_counts = daily_counts.groupby('year_month')['count'].sum().reset_index()\n",
    "\n",
    "# Convert back to datetime format for plotting\n",
    "monthly_counts['year_month'] = monthly_counts['year_month'].dt.to_timestamp().sort_values(ascending=False)"
   ],
   "outputs": [],
   "execution_count": null
  },
  {
   "cell_type": "markdown",
   "id": "2de7316f-3d47-4f09-8b99-d8a8c2ebbc76",
   "metadata": {
    "id": "2de7316f-3d47-4f09-8b99-d8a8c2ebbc76"
   },
   "source": [
    "Based on the"
   ]
  },
  {
   "cell_type": "code",
   "id": "5b7f5982-4d56-4053-8f81-aa6606c4b848",
   "metadata": {
    "colab": {
     "base_uri": "https://localhost:8080/",
     "height": 537
    },
    "id": "5b7f5982-4d56-4053-8f81-aa6606c4b848",
    "outputId": "99824abe-2949-4194-d76b-f48ee8deee2e"
   },
   "source": [
    "plt.figure(figsize=(10, 6))\n",
    "plt.plot(monthly_counts['year_month'], monthly_counts['count'], marker='o')\n",
    "plt.ylim(ymin=0)\n",
    "plt.title(\"Houses Sold between May 2014 and May 2015\")\n",
    "plt.xlabel(\"Time\")\n",
    "plt.ylabel(\"Houses sold\")\n",
    "plt.gca().xaxis.set_major_formatter(mdates.DateFormatter('%Y-%m'))\n",
    "plt.gca().xaxis.set_major_locator(mdates.MonthLocator())  # Show each month\n",
    "\n",
    "# Rotate date labels\n",
    "plt.gcf().autofmt_xdate()\n",
    "\n",
    "plt.show()"
   ],
   "outputs": [],
   "execution_count": null
  },
  {
   "cell_type": "code",
   "id": "dc79ff2b-f603-452c-ab48-4cfb95533f27",
   "metadata": {
    "colab": {
     "base_uri": "https://localhost:8080/",
     "height": 457
    },
    "id": "dc79ff2b-f603-452c-ab48-4cfb95533f27",
    "outputId": "4c8a02e1-1e07-4614-acbe-e3b39172ce07"
   },
   "source": [
    "monthly_counts['year_month'] = monthly_counts['year_month'].dt.to_period('M')\n",
    "monthly_counts.sort_values(by=['count'], ascending=False)"
   ],
   "outputs": [],
   "execution_count": null
  },
  {
   "cell_type": "code",
   "id": "1f9c48dd-7210-4e1d-a2b5-88f7e72277bf",
   "metadata": {
    "colab": {
     "base_uri": "https://localhost:8080/",
     "height": 335
    },
    "id": "1f9c48dd-7210-4e1d-a2b5-88f7e72277bf",
    "outputId": "76de7abe-a8fb-4d68-ad45-8af4455e4180"
   },
   "source": [
    "monthly_counts['count'].describe()"
   ],
   "outputs": [],
   "execution_count": null
  },
  {
   "cell_type": "markdown",
   "id": "b9f0f971-c867-4f77-bbc6-7b8450fc6ac2",
   "metadata": {
    "id": "b9f0f971-c867-4f77-bbc6-7b8450fc6ac2"
   },
   "source": [
    "### What is the distribution of prices of a house overtime?"
   ]
  },
  {
   "cell_type": "code",
   "id": "a6ed1961-4102-4953-84ff-f02fb4c7c53b",
   "metadata": {
    "id": "a6ed1961-4102-4953-84ff-f02fb4c7c53b"
   },
   "source": [
    "house_df['year_month'] = house_df['date'].dt.to_period('M')  # Convert to year-month period"
   ],
   "outputs": [],
   "execution_count": null
  },
  {
   "cell_type": "code",
   "id": "c4b19095-1f78-4141-ab42-bfad8be7876b",
   "metadata": {
    "colab": {
     "base_uri": "https://localhost:8080/",
     "height": 335
    },
    "id": "c4b19095-1f78-4141-ab42-bfad8be7876b",
    "outputId": "98055bef-2353-44e5-9a16-aaec5dfa438a"
   },
   "source": [
    "house_df['price'].describe().apply(lambda x: format(x, 'f'))"
   ],
   "outputs": [],
   "execution_count": null
  },
  {
   "cell_type": "code",
   "id": "46980bc6-6296-4c43-ac47-bcb932f00efc",
   "metadata": {
    "colab": {
     "base_uri": "https://localhost:8080/",
     "height": 275
    },
    "id": "46980bc6-6296-4c43-ac47-bcb932f00efc",
    "outputId": "36bbc6ff-4da9-4c7b-bfa1-414fbef3f4db"
   },
   "source": [
    "plt.figure(figsize=(45, 6))\n",
    "plt.scatter(house_df['date'], house_df['price'])"
   ],
   "outputs": [],
   "execution_count": null
  },
  {
   "cell_type": "markdown",
   "id": "78812e97-875b-4765-a672-315a6d398f18",
   "metadata": {
    "id": "78812e97-875b-4765-a672-315a6d398f18"
   },
   "source": [
    "### What is the distribution of the condition of houses sold?"
   ]
  },
  {
   "cell_type": "code",
   "id": "e7cd5754-2fb6-45dd-955e-2cf80505da46",
   "metadata": {
    "colab": {
     "base_uri": "https://localhost:8080/",
     "height": 272
    },
    "id": "e7cd5754-2fb6-45dd-955e-2cf80505da46",
    "outputId": "c0d118ab-c8a3-412f-9715-92d5f2cdd5f3"
   },
   "source": [
    "house_df['condition'].value_counts()"
   ],
   "outputs": [],
   "execution_count": null
  },
  {
   "cell_type": "code",
   "id": "dd6402d0-9efa-4ad6-89ce-b178a9d995c8",
   "metadata": {
    "colab": {
     "base_uri": "https://localhost:8080/",
     "height": 524
    },
    "id": "dd6402d0-9efa-4ad6-89ce-b178a9d995c8",
    "outputId": "e322efa9-6cbf-4fbc-db0b-1b66b03c4a77"
   },
   "source": [
    "bins = [1, 2, 3, 4, 5, 6]\n",
    "plt.xticks(bins)\n",
    "plt.title(\"Condition of Houses Sold\")\n",
    "plt.xlabel(\"Condition\")\n",
    "plt.ylabel(\"Frequency\")\n",
    "plt.hist(house_df['condition'], bins=bins, align='left', edgecolor=\"black\", rwidth=0.5)\n"
   ],
   "outputs": [],
   "execution_count": null
  },
  {
   "cell_type": "markdown",
   "id": "d93310af-b64e-430a-850d-749719b9215a",
   "metadata": {
    "id": "d93310af-b64e-430a-850d-749719b9215a"
   },
   "source": [
    "### What is the distribution of the grade of houses sold?"
   ]
  },
  {
   "cell_type": "code",
   "id": "84f7580d-d4a3-4940-aee3-476d13d18bc0",
   "metadata": {
    "colab": {
     "base_uri": "https://localhost:8080/",
     "height": 492
    },
    "id": "84f7580d-d4a3-4940-aee3-476d13d18bc0",
    "outputId": "f687f934-5440-4e0c-f16c-14bae25290e9"
   },
   "source": [
    "house_df['grade'].value_counts()"
   ],
   "outputs": [],
   "execution_count": null
  },
  {
   "cell_type": "code",
   "id": "cba25dca-c546-46a9-96c7-e427e919105d",
   "metadata": {
    "colab": {
     "base_uri": "https://localhost:8080/",
     "height": 576
    },
    "id": "cba25dca-c546-46a9-96c7-e427e919105d",
    "outputId": "ab9f3cd9-cf34-4e6c-ed02-d83c83da3d70"
   },
   "source": [
    "bins = [1, 2, 3, 4, 5, 6, 7, 8, 9, 10, 11, 12, 13, 14]\n",
    "plt.xticks(bins)\n",
    "plt.title(\"Grade of Houses Sold\")\n",
    "plt.xlabel(\"Grade\")\n",
    "plt.ylabel(\"Frequency\")\n",
    "plt.hist(house_df['grade'], bins=bins, align='left', edgecolor=\"black\", rwidth=0.5)"
   ],
   "outputs": [],
   "execution_count": null
  },
  {
   "cell_type": "markdown",
   "id": "l6Tb8lpa4NMw",
   "metadata": {
    "id": "l6Tb8lpa4NMw"
   },
   "source": [
    "### Is sqft_living just sqft_above + sqft_basement?"
   ]
  },
  {
   "cell_type": "code",
   "id": "k9PTMSLY4Wa2",
   "metadata": {
    "colab": {
     "base_uri": "https://localhost:8080/"
    },
    "id": "k9PTMSLY4Wa2",
    "outputId": "353e6fa4-6900-477c-ebfa-0f1c5428b88d"
   },
   "source": [
    "# Check if sqft_living equals sqft_above + sqft_basement\n",
    "mismatch = house_df[house_df['sqft_living'] != house_df['sqft_above'] + house_df['sqft_basement']]\n",
    "\n",
    "# Index the id where the condition is not met\n",
    "mismatch_ids = mismatch['id'].tolist()\n",
    "\n",
    "print(\"IDs where sqft_living != sqft_above + sqft_basement:\", mismatch_ids)"
   ],
   "outputs": [],
   "execution_count": null
  },
  {
   "cell_type": "markdown",
   "id": "DjChuA1b4nQv",
   "metadata": {
    "id": "DjChuA1b4nQv"
   },
   "source": [
    "Yes, yes it is just sqft_above + sqft_basement"
   ]
  },
  {
   "cell_type": "markdown",
   "id": "c3513be5-99ba-4ecb-ab79-4d13658e99e7",
   "metadata": {
    "id": "c3513be5-99ba-4ecb-ab79-4d13658e99e7"
   },
   "source": [
    "### Is there a statistically significant difference between condition and grade on price?"
   ]
  },
  {
   "cell_type": "code",
   "id": "37264ee1-90ff-4008-a844-69e4921ab503",
   "metadata": {
    "colab": {
     "base_uri": "https://localhost:8080/"
    },
    "id": "37264ee1-90ff-4008-a844-69e4921ab503",
    "outputId": "0adbdf47-b323-4184-d7f8-8071a9fd9acd"
   },
   "source": [
    "price_grade_condition = house_df[['price', 'grade', 'condition']]\n",
    "model = ols('price ~ C(grade) + C(condition) + C(grade):C(condition)',\n",
    "            data=price_grade_condition).fit()\n",
    "result = sm.stats.anova_lm(model, type=2)\n",
    "print(result)"
   ],
   "outputs": [],
   "execution_count": null
  },
  {
   "cell_type": "markdown",
   "id": "192e0586-f579-44f0-b32e-3c5cf2c579ce",
   "metadata": {
    "id": "192e0586-f579-44f0-b32e-3c5cf2c579ce"
   },
   "source": [
    "### Is there a statistically significant difference between having a waterfront and a good view on price?"
   ]
  },
  {
   "cell_type": "code",
   "id": "36d22ce2-7dd9-47cb-bb40-696cbbf342c7",
   "metadata": {
    "colab": {
     "base_uri": "https://localhost:8080/"
    },
    "id": "36d22ce2-7dd9-47cb-bb40-696cbbf342c7",
    "outputId": "449ca810-0c84-442e-85e1-e98905f3590c"
   },
   "source": [
    "price_waterfront_view = house_df[['price', 'waterfront', 'view']]\n",
    "model = ols('price ~ C(waterfront) + C(view) + C(waterfront):C(view)',\n",
    "            data=price_waterfront_view).fit()\n",
    "result = sm.stats.anova_lm(model, type=2)\n",
    "print(result)"
   ],
   "outputs": [],
   "execution_count": null
  },
  {
   "cell_type": "markdown",
   "id": "6c9562c0-30cc-48ab-9160-5af9809fd345",
   "metadata": {
    "id": "6c9562c0-30cc-48ab-9160-5af9809fd345"
   },
   "source": [
    "### Is there a correlation between price and number of bedrooms?"
   ]
  },
  {
   "cell_type": "code",
   "id": "481d0bfb-e419-4037-aa3c-d3e33a202e7f",
   "metadata": {
    "colab": {
     "base_uri": "https://localhost:8080/",
     "height": 112
    },
    "id": "481d0bfb-e419-4037-aa3c-d3e33a202e7f",
    "outputId": "19110fd0-a7d8-4b57-a306-1a2f384b4e41"
   },
   "source": [
    "house_df[['price', 'bedrooms']].corr()"
   ],
   "outputs": [],
   "execution_count": null
  },
  {
   "cell_type": "code",
   "id": "5f12f66a-2fd4-42c5-8dd4-6f85d1129006",
   "metadata": {
    "colab": {
     "base_uri": "https://localhost:8080/",
     "height": 581
    },
    "id": "5f12f66a-2fd4-42c5-8dd4-6f85d1129006",
    "outputId": "c2839337-bb92-4c50-fee0-2e9827f42fb0"
   },
   "source": [
    "plt.figure(figsize=(10, 6))\n",
    "plt.title(\"Correlation between Bedrooms and Price of Sold Houses\")\n",
    "plt.xlabel(\"Number of bedrooms\")\n",
    "plt.ylabel(\"Price\")\n",
    "plt.scatter(house_df['bedrooms'], house_df['price'], alpha=0.5)"
   ],
   "outputs": [],
   "execution_count": null
  },
  {
   "cell_type": "markdown",
   "id": "f4ba4d3b-eae6-4847-946a-b76cfb3e03fe",
   "metadata": {
    "id": "f4ba4d3b-eae6-4847-946a-b76cfb3e03fe"
   },
   "source": [
    "### Is there a correlation between price and number of bathrooms?"
   ]
  },
  {
   "cell_type": "code",
   "id": "171e0b04-5d39-454c-a9de-4d266476437a",
   "metadata": {
    "colab": {
     "base_uri": "https://localhost:8080/",
     "height": 112
    },
    "id": "171e0b04-5d39-454c-a9de-4d266476437a",
    "outputId": "d9633071-35fe-43b4-997e-71e4a51a26d5"
   },
   "source": [
    "house_df[['price', 'bathrooms']].corr()"
   ],
   "outputs": [],
   "execution_count": null
  },
  {
   "cell_type": "code",
   "id": "d603d662-e4e6-4d96-a6e5-d2731f707429",
   "metadata": {
    "colab": {
     "base_uri": "https://localhost:8080/",
     "height": 581
    },
    "id": "d603d662-e4e6-4d96-a6e5-d2731f707429",
    "outputId": "c374189f-bde9-4f68-b2f1-f815635a49c2"
   },
   "source": [
    "plt.figure(figsize=(10, 6))\n",
    "plt.title(\"Correlation between Bathrooms and Price of Sold Houses\")\n",
    "plt.xlabel(\"Number of bathrooms\")\n",
    "plt.ylabel(\"Price\")\n",
    "plt.scatter(house_df['bathrooms'], house_df['price'], alpha=0.5)"
   ],
   "outputs": [],
   "execution_count": null
  },
  {
   "cell_type": "markdown",
   "id": "48de9b03-911f-4069-9dee-0040121c2a83",
   "metadata": {
    "id": "48de9b03-911f-4069-9dee-0040121c2a83"
   },
   "source": [
    "### Is there a correlation between price and the size of a house's living area in square feet?"
   ]
  },
  {
   "cell_type": "code",
   "id": "190e7984-ebe4-4bff-a7f6-cb9204c4bdad",
   "metadata": {
    "colab": {
     "base_uri": "https://localhost:8080/",
     "height": 112
    },
    "id": "190e7984-ebe4-4bff-a7f6-cb9204c4bdad",
    "outputId": "6a53a744-3ca3-4371-b02f-3f7ae1596eb3"
   },
   "source": [
    "house_df[['price', 'sqft_living']].corr()"
   ],
   "outputs": [],
   "execution_count": null
  },
  {
   "cell_type": "code",
   "id": "a73be831-0b6b-4774-9bd3-8e88e3d7ab10",
   "metadata": {
    "colab": {
     "base_uri": "https://localhost:8080/",
     "height": 581
    },
    "id": "a73be831-0b6b-4774-9bd3-8e88e3d7ab10",
    "outputId": "5e8cd69b-5eaf-413f-82b2-834d464741bc"
   },
   "source": [
    "plt.figure(figsize=(10, 6))\n",
    "plt.title(\"Correlation between Size of Living Area in Square Feet and Price of Sold Houses\")\n",
    "plt.xlabel(\"Size of Living Area in Square Feet\")\n",
    "plt.ylabel(\"Price\")\n",
    "plt.scatter(house_df['sqft_living'], house_df['price'], alpha=0.5)"
   ],
   "outputs": [],
   "execution_count": null
  },
  {
   "cell_type": "markdown",
   "id": "dea1d561-b0da-4c50-a3b4-97beb8b6ceb0",
   "metadata": {
    "id": "dea1d561-b0da-4c50-a3b4-97beb8b6ceb0"
   },
   "source": [
    "### Is there a correlation between price and the size of a house's lot?"
   ]
  },
  {
   "cell_type": "code",
   "id": "6f7d0b6a-67e7-4f8d-92b5-521c78636102",
   "metadata": {
    "colab": {
     "base_uri": "https://localhost:8080/",
     "height": 112
    },
    "id": "6f7d0b6a-67e7-4f8d-92b5-521c78636102",
    "outputId": "b841cdc4-b90c-4f4e-9ebb-41c2bb164476"
   },
   "source": [
    "house_df[['price', 'sqft_lot']].corr()"
   ],
   "outputs": [],
   "execution_count": null
  },
  {
   "cell_type": "code",
   "id": "a14c5975-0d02-42d5-b922-d623d3cddfce",
   "metadata": {
    "colab": {
     "base_uri": "https://localhost:8080/",
     "height": 581
    },
    "id": "a14c5975-0d02-42d5-b922-d623d3cddfce",
    "outputId": "5c9cd6ed-8719-4cbe-e9cd-a0c14cf3fb3e"
   },
   "source": [
    "plt.figure(figsize=(10, 6))\n",
    "plt.title(\"Correlation between Size of Lot in Square Feet and Price of Sold Houses\")\n",
    "plt.xlabel(\"Size of Lot in Square Feet\")\n",
    "plt.ylabel(\"Price\")\n",
    "plt.scatter(house_df['sqft_lot'], house_df['price'], alpha=0.5)"
   ],
   "outputs": [],
   "execution_count": null
  },
  {
   "cell_type": "markdown",
   "id": "8fe60fd7-4db3-4a1e-b42f-4073352c489d",
   "metadata": {
    "id": "8fe60fd7-4db3-4a1e-b42f-4073352c489d"
   },
   "source": [
    "### Is there a correlation between price and total number of floors?"
   ]
  },
  {
   "cell_type": "code",
   "id": "1963ec9e-33ab-4f49-b23b-35fdf1d6cb6a",
   "metadata": {
    "colab": {
     "base_uri": "https://localhost:8080/",
     "height": 112
    },
    "id": "1963ec9e-33ab-4f49-b23b-35fdf1d6cb6a",
    "outputId": "71d5f4ce-52ba-486e-a731-b93473cf52ec"
   },
   "source": [
    "house_df[['price', 'floors']].corr()"
   ],
   "outputs": [],
   "execution_count": null
  },
  {
   "cell_type": "code",
   "id": "6351f9ce-841e-429e-8113-0787b0701bef",
   "metadata": {
    "colab": {
     "base_uri": "https://localhost:8080/",
     "height": 581
    },
    "id": "6351f9ce-841e-429e-8113-0787b0701bef",
    "outputId": "161450be-9644-40c7-f87f-921154e3075b"
   },
   "source": [
    "plt.figure(figsize=(10, 6))\n",
    "plt.title(\"Correlation between Total Number of Floors and Price of Sold Houses\")\n",
    "plt.xlabel(\"Total Number of Floors\")\n",
    "plt.ylabel(\"Price\")\n",
    "plt.scatter(house_df['floors'], house_df['price'], alpha=0.5)"
   ],
   "outputs": [],
   "execution_count": null
  },
  {
   "cell_type": "markdown",
   "id": "9d6bf84b-2ab5-4176-b2d9-b124a7958d4b",
   "metadata": {
    "id": "9d6bf84b-2ab5-4176-b2d9-b124a7958d4b"
   },
   "source": [
    "### Is there a trend between price and if the property has a waterfront?"
   ]
  },
  {
   "cell_type": "code",
   "id": "f5d138b6-482d-470d-8e7d-019f9de3a0f6",
   "metadata": {
    "colab": {
     "base_uri": "https://localhost:8080/",
     "height": 512
    },
    "id": "f5d138b6-482d-470d-8e7d-019f9de3a0f6",
    "outputId": "39c1fe18-1f42-4ae1-e12a-a4df505b8894"
   },
   "source": [
    "house_df.boxplot(\"price\", by=\"waterfront\", figsize=(5, 5))"
   ],
   "outputs": [],
   "execution_count": null
  },
  {
   "cell_type": "markdown",
   "id": "6d4f97a4-8af1-4d19-9ba0-f5616d367a20",
   "metadata": {
    "id": "6d4f97a4-8af1-4d19-9ba0-f5616d367a20"
   },
   "source": [
    "### Is there a trend between price and how good of a view the property has?"
   ]
  },
  {
   "cell_type": "code",
   "id": "429f91c1-0e0a-48c8-9ff4-2df71477a7ea",
   "metadata": {
    "colab": {
     "base_uri": "https://localhost:8080/",
     "height": 512
    },
    "id": "429f91c1-0e0a-48c8-9ff4-2df71477a7ea",
    "outputId": "efb8e123-3a5f-4184-9aaf-7a432b0953cb"
   },
   "source": [
    "house_df.boxplot(\"price\", by=\"view\", figsize=(5, 5))"
   ],
   "outputs": [],
   "execution_count": null
  },
  {
   "cell_type": "markdown",
   "id": "cb14ed55-7868-4ede-8314-e188beeaa37a",
   "metadata": {
    "id": "cb14ed55-7868-4ede-8314-e188beeaa37a"
   },
   "source": [
    "### Is there a correlation between price and how high the house was built above ground?"
   ]
  },
  {
   "cell_type": "code",
   "id": "7e49a551-ef23-40c2-90ab-c9804c4176d0",
   "metadata": {
    "colab": {
     "base_uri": "https://localhost:8080/",
     "height": 112
    },
    "id": "7e49a551-ef23-40c2-90ab-c9804c4176d0",
    "outputId": "c4074cae-56c0-40ee-e8b1-0b5206c39cf6"
   },
   "source": [
    "house_df[['price', 'sqft_above']].corr()"
   ],
   "outputs": [],
   "execution_count": null
  },
  {
   "cell_type": "code",
   "id": "b4bf3a04-297b-45fb-8d18-bb02507ea10e",
   "metadata": {
    "colab": {
     "base_uri": "https://localhost:8080/",
     "height": 581
    },
    "id": "b4bf3a04-297b-45fb-8d18-bb02507ea10e",
    "outputId": "bca9b8a8-56c0-459f-e4db-402555daa057"
   },
   "source": [
    "plt.figure(figsize=(10, 6))\n",
    "plt.title(\"Correlation between Square feet above ground and Price of Sold Houses\")\n",
    "plt.xlabel(\"Square feet above ground\")\n",
    "plt.ylabel(\"Price\")\n",
    "plt.scatter(house_df['sqft_above'], house_df['price'], alpha=0.5)"
   ],
   "outputs": [],
   "execution_count": null
  },
  {
   "cell_type": "markdown",
   "id": "61a31c72-4d1c-4ef2-8925-bdb47a35a0cc",
   "metadata": {
    "id": "61a31c72-4d1c-4ef2-8925-bdb47a35a0cc"
   },
   "source": [
    "### Is there a correlation between price and how low the house was built?"
   ]
  },
  {
   "cell_type": "code",
   "id": "dab7a2e6-a085-4d91-bc9d-9941b11e444b",
   "metadata": {
    "colab": {
     "base_uri": "https://localhost:8080/",
     "height": 112
    },
    "id": "dab7a2e6-a085-4d91-bc9d-9941b11e444b",
    "outputId": "67e7303a-64b8-47ce-a4c4-7347f4f78cc1"
   },
   "source": [
    "house_df[['price', 'sqft_basement']].corr()"
   ],
   "outputs": [],
   "execution_count": null
  },
  {
   "cell_type": "code",
   "id": "cb930c22-12fc-457a-acfe-380f30185ec1",
   "metadata": {
    "colab": {
     "base_uri": "https://localhost:8080/",
     "height": 581
    },
    "id": "cb930c22-12fc-457a-acfe-380f30185ec1",
    "outputId": "33051c3c-81f4-4a0b-8f19-95e6d560c1cb"
   },
   "source": [
    "plt.figure(figsize=(10, 6))\n",
    "plt.title(\"Correlation between Square Feet below Ground and Price of Sold Houses\")\n",
    "plt.xlabel(\"Square feet below ground\")\n",
    "plt.ylabel(\"Price\")\n",
    "plt.scatter(house_df['sqft_basement'], house_df['price'], alpha=0.5)"
   ],
   "outputs": [],
   "execution_count": null
  },
  {
   "cell_type": "markdown",
   "id": "aa1dd288-2a8e-4214-bff1-303d506424dc",
   "metadata": {
    "id": "aa1dd288-2a8e-4214-bff1-303d506424dc"
   },
   "source": [
    "### Is there a correlation between price and average size of interior housing living space for the closest 15 houses?"
   ]
  },
  {
   "cell_type": "code",
   "id": "a0adae6d-ae4a-43c8-b94a-2d039cb1d3ee",
   "metadata": {
    "colab": {
     "base_uri": "https://localhost:8080/",
     "height": 112
    },
    "id": "a0adae6d-ae4a-43c8-b94a-2d039cb1d3ee",
    "outputId": "616db0e2-ae15-4615-cd4c-dad81284f34f"
   },
   "source": [
    "house_df[['price', 'sqft_living15']].corr()"
   ],
   "outputs": [],
   "execution_count": null
  },
  {
   "cell_type": "code",
   "id": "e7a038a2-ece9-470c-8eb9-922b64843017",
   "metadata": {
    "colab": {
     "base_uri": "https://localhost:8080/",
     "height": 596
    },
    "id": "e7a038a2-ece9-470c-8eb9-922b64843017",
    "outputId": "684af65d-3bce-4254-e762-81d61abb50b5"
   },
   "source": [
    "plt.figure(figsize=(10, 6))\n",
    "plt.title(\"Correlation between Average Size of Interior Housing Living Space for Closest 15 Houses and Price of Sold Houses\")\n",
    "plt.xlabel(\"Average size of interior housing living space for the closest 15 houses\")\n",
    "plt.ylabel(\"Price\")\n",
    "plt.scatter(house_df['sqft_living15'], house_df['price'], alpha=0.5)"
   ],
   "outputs": [],
   "execution_count": null
  },
  {
   "cell_type": "markdown",
   "id": "4af5dcb9-81ce-46b6-ba43-17dfb124319a",
   "metadata": {
    "id": "4af5dcb9-81ce-46b6-ba43-17dfb124319a"
   },
   "source": [
    "### Is there a correlation between price and average size of land lots for the closest 15 houses in square feet?"
   ]
  },
  {
   "cell_type": "code",
   "id": "61261cc5-7434-470e-b00b-5f76a272a2d1",
   "metadata": {
    "colab": {
     "base_uri": "https://localhost:8080/",
     "height": 112
    },
    "id": "61261cc5-7434-470e-b00b-5f76a272a2d1",
    "outputId": "709c03ac-884c-4c62-cd3d-05132bef2020"
   },
   "source": [
    "house_df[['price', 'sqft_lot15']].corr()"
   ],
   "outputs": [],
   "execution_count": null
  },
  {
   "cell_type": "code",
   "id": "c54640cc-9298-486e-a6d7-4f78b25d80c5",
   "metadata": {
    "colab": {
     "base_uri": "https://localhost:8080/",
     "height": 596
    },
    "id": "c54640cc-9298-486e-a6d7-4f78b25d80c5",
    "outputId": "e10bda1c-8cd4-4204-c76a-7b3edb950a6f"
   },
   "source": [
    "plt.figure(figsize=(10, 6))\n",
    "plt.title(\"Correlation between Average Size of Land Lots for Closest 15 Houses and Price of Sold Houses\")\n",
    "plt.xlabel(\"Average size of interior housing living space for the land lots for the closest 15 houses\")\n",
    "plt.ylabel(\"Price\")\n",
    "plt.scatter(house_df['sqft_lot15'], house_df['price'], alpha=0.5)"
   ],
   "outputs": [],
   "execution_count": null
  },
  {
   "cell_type": "markdown",
   "id": "iUNe42sW-U4D",
   "metadata": {
    "id": "iUNe42sW-U4D"
   },
   "source": [
    "## Geographical Analysis\n"
   ]
  },
  {
   "cell_type": "markdown",
   "id": "EHA51ToxipQt",
   "metadata": {
    "id": "EHA51ToxipQt"
   },
   "source": [
    "### Finding the best cluster amount"
   ]
  },
  {
   "cell_type": "code",
   "id": "GwWqev_0-XLi",
   "metadata": {
    "colab": {
     "base_uri": "https://localhost:8080/",
     "height": 472
    },
    "id": "GwWqev_0-XLi",
    "outputId": "ccee970d-0b4c-4569-eea0-9e7e40e92a55"
   },
   "source": [
    "X = house_df[['lat', 'long']]\n",
    "\n",
    "# Calculate WCSS for different number of clusters\n",
    "wcss = []\n",
    "for i in range(1, 20):\n",
    "    kmeans = KMeans(n_clusters=i, random_state=0)\n",
    "    kmeans.fit(X)\n",
    "    wcss.append(kmeans.inertia_)\n",
    "\n",
    "# Plot the elbow graph\n",
    "plt.plot(range(1, 20, 1), wcss, marker='o')\n",
    "plt.title('Elbow Method')\n",
    "plt.xlabel('Number of clusters')\n",
    "plt.ylabel('WCSS')\n",
    "plt.grid(True)\n",
    "plt.show()"
   ],
   "outputs": [],
   "execution_count": null
  },
  {
   "cell_type": "markdown",
   "id": "5RZ8U1QmiyBf",
   "metadata": {
    "id": "5RZ8U1QmiyBf"
   },
   "source": [
    "### Mapping clusters to the dataframe"
   ]
  },
  {
   "cell_type": "code",
   "id": "_KolQF7cixqa",
   "metadata": {
    "colab": {
     "base_uri": "https://localhost:8080/",
     "height": 175
    },
    "id": "_KolQF7cixqa",
    "outputId": "957d9a12-7dff-4f98-b920-4bb02ce70fc5"
   },
   "source": [
    "X = house_df[['lat', 'long']]\n",
    "kmeans = KMeans(n_clusters=4, random_state=0).fit(X)\n",
    "house_df['cluster'] = kmeans.labels_\n",
    "cluster_total_house = house_df.groupby('cluster')['id'].count().reset_index()\n",
    "cluster_total_house"
   ],
   "outputs": [],
   "execution_count": null
  },
  {
   "cell_type": "code",
   "id": "1yFtOC05oD-E",
   "metadata": {
    "colab": {
     "base_uri": "https://localhost:8080/",
     "height": 424
    },
    "id": "1yFtOC05oD-E",
    "outputId": "4ccea29b-6595-4366-c7ff-c98e4296f0aa"
   },
   "source": [
    "house_coor_df = house_df[['id', 'price', 'lat', 'long', 'cluster']].copy()\n",
    "house_coor_df"
   ],
   "outputs": [],
   "execution_count": null
  },
  {
   "cell_type": "markdown",
   "id": "LrSuMiAh0MxA",
   "metadata": {
    "id": "LrSuMiAh0MxA"
   },
   "source": [
    "### Visualizing Clusters"
   ]
  },
  {
   "cell_type": "code",
   "id": "bqR7Vwk7pIGp",
   "metadata": {
    "colab": {
     "background_save": true,
     "base_uri": "https://localhost:8080/",
     "height": 997
    },
    "id": "bqR7Vwk7pIGp",
    "outputId": "a9afca42-7f4d-46ed-c7bb-10b9a167eca4"
   },
   "source": [
    "# Setting up the map\n",
    "map_center = [house_coor_df['lat'].mean(), house_coor_df['long'].mean()]\n",
    "m = folium.Map(location=map_center, zoom_start=9)\n",
    "\n",
    "# Cluster up points that are close to each other; reduce lag\n",
    "cluster = MarkerCluster().add_to(m)\n",
    "color_map = {0: 'red', 1: 'darkgreen', 2: 'blue', 3: 'purple'}\n",
    "\n",
    "# Plotting each house\n",
    "for i, row in house_coor_df.iterrows():\n",
    "    color = color_map.get(row['cluster'], 'gray')\n",
    "    folium.Marker(\n",
    "        location=[row['lat'], row['long']],\n",
    "        popup=f\"House ID: {row['id']}<br>Price: {row['price']}<br>Cluster: {row['cluster']}\",\n",
    "        icon=folium.Icon(color=color, icon='info-sign')\n",
    "    ).add_to(cluster)\n",
    "\n",
    "# Marks to show the center of the clusters within a 10km range\n",
    "for i, center in enumerate(kmeans.cluster_centers_):\n",
    "    color = color_map.get(i, 'gray')\n",
    "    folium.Circle(\n",
    "        location=[center[0], center[1]],\n",
    "        radius=10000,\n",
    "        color=\"black\",\n",
    "        weight=1,\n",
    "        fill_opacity=0.2,\n",
    "        opacity=1,\n",
    "        fill_color=color,\n",
    "        fill=False,  # gets overridden by fill_color\n",
    "        popup=\"{} meters\".format(10000),\n",
    "        tooltip=f\"Cluster: {i}<br>Center: {center[0]}, {center[1]}\",\n",
    "    ).add_to(m)\n",
    "\n",
    "m"
   ],
   "outputs": [],
   "execution_count": null
  },
  {
   "cell_type": "markdown",
   "id": "Dg-w27q8zf7f",
   "metadata": {
    "id": "Dg-w27q8zf7f"
   },
   "source": [
    "\n",
    "### Generating a heatmap to show density of house prices\n"
   ]
  },
  {
   "cell_type": "code",
   "id": "-ef82753zAfs",
   "metadata": {
    "colab": {
     "base_uri": "https://localhost:8080/"
    },
    "id": "-ef82753zAfs",
    "outputId": "1c6e3d0f-323b-4aae-f3ea-3a6692480db3"
   },
   "source": [
    "# Setting up the map\n",
    "map_center = [house_coor_df['lat'].mean(), house_coor_df['long'].mean()]\n",
    "m = folium.Map(location=map_center, zoom_start=9)\n",
    "\n",
    "# Cluster up points that are close to each other; reduce lag\n",
    "cluster = MarkerCluster().add_to(m)\n",
    "color_map = {0: 'red', 1: 'darkgreen', 2: 'blue', 3: 'purple'}\n",
    "\n",
    "# Plotting each house\n",
    "for i, row in house_coor_df.iterrows():\n",
    "    color = color_map.get(row['cluster'], 'gray')\n",
    "    folium.Marker(\n",
    "        location=[row['lat'], row['long']],\n",
    "        popup=f\"House ID: {row['id']}<br>Price: {row['price']}<br>Cluster: {row['cluster']}\",\n",
    "        icon=folium.Icon(color=color, icon='info-sign')\n",
    "    ).add_to(cluster)\n",
    "\n",
    "# Heat map\n",
    "heat_data = [[row['lat'], row['long'], row['price']] for i, row in house_df.iterrows()]\n",
    "HeatMap(heat_data).add_to(m)\n"
   ],
   "outputs": [],
   "execution_count": null
  },
  {
   "cell_type": "code",
   "id": "XiHIdd8d-lvw",
   "metadata": {
    "colab": {
     "base_uri": "https://localhost:8080/",
     "height": 236
    },
    "id": "XiHIdd8d-lvw",
    "outputId": "05d44f77-a465-48c9-9775-aeed9f05ba30"
   },
   "source": [
    "house_df['year'] = house_df['date'].dt.year\n",
    "house_df['age'] = house_df.apply(lambda row: row['yr_renovated'] - row['yr_built'] if row['yr_renovated'] != 0 else row['year'] - row['yr_built'], axis=1)\n",
    "house_df.head()"
   ],
   "outputs": [],
   "execution_count": null
  },
  {
   "cell_type": "markdown",
   "id": "2e8dc6ca-9396-407d-9042-4028da09459d",
   "metadata": {
    "id": "2e8dc6ca-9396-407d-9042-4028da09459d"
   },
   "source": [
    "# Section 6. Initial model training"
   ]
  },
  {
   "cell_type": "code",
   "id": "or6GdFKjdc3W",
   "metadata": {
    "id": "or6GdFKjdc3W"
   },
   "source": [
    "house_df['year'] = house_df['date'].dt.year\n",
    "house_df['age'] = house_df.apply(lambda row: row['yr_renovated'] - row['yr_built'] if row['yr_renovated'] != 0 else row['year'] - row['yr_built'], axis=1)"
   ],
   "outputs": [],
   "execution_count": null
  },
  {
   "cell_type": "code",
   "id": "1LPi9cTz0qwM",
   "metadata": {
    "colab": {
     "base_uri": "https://localhost:8080/",
     "height": 236
    },
    "id": "1LPi9cTz0qwM",
    "outputId": "7e06cf25-05c1-4d4c-f984-3cbe645241c9"
   },
   "source": [
    "house_df.head()"
   ],
   "outputs": [],
   "execution_count": null
  },
  {
   "cell_type": "markdown",
   "id": "b59_JLIBSDQ_",
   "metadata": {
    "id": "b59_JLIBSDQ_"
   },
   "source": [
    "### KNN"
   ]
  },
  {
   "cell_type": "code",
   "id": "W38M-S584ow7",
   "metadata": {
    "colab": {
     "base_uri": "https://localhost:8080/",
     "height": 424
    },
    "id": "W38M-S584ow7",
    "outputId": "2db693fb-4b98-4359-f1c0-6ef9485ce03c"
   },
   "source": [
    "col_remove = ['id', 'date', 'yr_built', 'yr_renovated', 'lat', 'long', 'count', 'year_month', 'cluster', 'year']\n",
    "knn_df = house_df.drop(columns=col_remove)\n",
    "knn_df"
   ],
   "outputs": [],
   "execution_count": null
  },
  {
   "cell_type": "code",
   "id": "IpmLFzFrcHJA",
   "metadata": {
    "id": "IpmLFzFrcHJA"
   },
   "source": [
    "from sklearn.model_selection import train_test_split\n",
    "from sklearn.metrics import mean_squared_error, r2_score, mean_absolute_error\n",
    "from sklearn.neighbors import KNeighborsRegressor\n",
    "from sklearn.model_selection import cross_val_score"
   ],
   "outputs": [],
   "execution_count": null
  },
  {
   "cell_type": "code",
   "id": "BXQfWgM9OxVD",
   "metadata": {
    "id": "BXQfWgM9OxVD"
   },
   "source": [
    "X = knn_df.drop('price', axis=1)\n",
    "y = knn_df['price']\n",
    "\n",
    "X_train, X_test, y_train, y_test = train_test_split(X, y, test_size=0.2, random_state=5)"
   ],
   "outputs": [],
   "execution_count": null
  },
  {
   "cell_type": "code",
   "id": "0SD5rS1lOU2a",
   "metadata": {
    "colab": {
     "base_uri": "https://localhost:8080/"
    },
    "id": "0SD5rS1lOU2a",
    "outputId": "9a9eb295-1a8b-47f4-9700-b094343699da"
   },
   "source": [
    "k_folds = 5\n",
    "k_choices = [2, 4, 6, 8, 10, 12, 14, 16, 18, 20, 22, 24, 26, 28, 30, 32, 34, 36, 38, 40, 43, 44, 46, 48, 50]\n",
    "scores = np.zeros((len(k_choices), k_folds))\n",
    "\n",
    "for i in range(len(k_choices)):\n",
    "    print(\"k is : \" + str(k_choices[i]))\n",
    "    model = KNeighborsRegressor(n_neighbors=k_choices[i])\n",
    "    scores[i] = cross_val_score(model, X_train, y_train, cv=k_folds)\n",
    "    pass\n",
    "\n",
    "avg_scores = np.mean(scores, axis=1)\n",
    "avg_scores"
   ],
   "outputs": [],
   "execution_count": null
  },
  {
   "cell_type": "code",
   "id": "YZXGB5Z9QFGM",
   "metadata": {
    "colab": {
     "base_uri": "https://localhost:8080/"
    },
    "id": "YZXGB5Z9QFGM",
    "outputId": "80431383-44fb-44ce-9d36-859f74fa1215"
   },
   "source": [
    "avg_scores.max()"
   ],
   "outputs": [],
   "execution_count": null
  },
  {
   "cell_type": "code",
   "id": "BocAmYgaCm9A",
   "metadata": {
    "colab": {
     "base_uri": "https://localhost:8080/"
    },
    "id": "BocAmYgaCm9A",
    "outputId": "245ed30f-6bd6-4be3-9238-89e03b63df09"
   },
   "source": [
    "model = KNeighborsRegressor(n_neighbors=6)\n",
    "model.fit(X_train, y_train)\n",
    "y_predicted = model.predict(X_test)\n",
    "\n",
    "mae = mean_absolute_error(y_test, y_predicted)\n",
    "mse = mean_squared_error(y_test, y_predicted)\n",
    "r2 = r2_score(y_test, y_predicted)\n",
    "\n",
    "print(f\"mae: {mae}\")\n",
    "print(f\"mse: {mse}\")\n",
    "print(f\"r2: {r2}\")"
   ],
   "outputs": [],
   "execution_count": null
  },
  {
   "cell_type": "markdown",
   "id": "iqyEWAMFTPp8",
   "metadata": {
    "id": "iqyEWAMFTPp8"
   },
   "source": [
    "### Linear"
   ]
  },
  {
   "cell_type": "code",
   "id": "wdCS85BJeQ3s",
   "metadata": {
    "id": "wdCS85BJeQ3s"
   },
   "source": [
    "from sklearn.linear_model import LinearRegression\n",
    "from sklearn.linear_model import Ridge\n",
    "from sklearn.linear_model import Lasso"
   ],
   "outputs": [],
   "execution_count": null
  },
  {
   "cell_type": "code",
   "id": "fmhaQMNnU8Tp",
   "metadata": {
    "colab": {
     "base_uri": "https://localhost:8080/"
    },
    "id": "fmhaQMNnU8Tp",
    "outputId": "d11f66ea-7eee-498b-c333-92803c6f5b8b"
   },
   "source": [
    "linear_df = house_df.drop(columns=col_remove)\n",
    "linear_df"
   ],
   "outputs": [],
   "execution_count": null
  },
  {
   "cell_type": "code",
   "id": "CPDOS7pNY83a",
   "metadata": {
    "id": "CPDOS7pNY83a"
   },
   "source": [
    "X = linear_df.drop('price', axis=1)\n",
    "y = linear_df['price']\n",
    "\n",
    "X_train, X_test, y_train, y_test = train_test_split(X, y, test_size=0.2, random_state=5)"
   ],
   "outputs": [],
   "execution_count": null
  },
  {
   "cell_type": "code",
   "id": "H1901DcYaBB6",
   "metadata": {
    "colab": {
     "base_uri": "https://localhost:8080/"
    },
    "id": "H1901DcYaBB6",
    "outputId": "30571d9e-fa09-4447-dd1c-980bfa1b8e9f"
   },
   "source": [
    "model = LinearRegression()\n",
    "model.fit(X_train, y_train)\n",
    "y_pred = model.predict(X_test)\n",
    "\n",
    "\n",
    "mae = mean_absolute_error(y_test, y_predicted)\n",
    "mse = mean_squared_error(y_test, y_predicted)\n",
    "r2 = r2_score(y_test, y_predicted)\n",
    "\n",
    "print(f\"mae: {mae}\")\n",
    "print(f\"mse: {mse}\")\n",
    "print(f\"r2: {r2}\")"
   ],
   "outputs": [],
   "execution_count": null
  },
  {
   "cell_type": "code",
   "id": "KpL1r6K7elAP",
   "metadata": {
    "colab": {
     "base_uri": "https://localhost:8080/"
    },
    "id": "KpL1r6K7elAP",
    "outputId": "7d5abf2a-6d9f-471e-8713-b034ae8b53dc"
   },
   "source": [
    "ridge = Ridge(alpha=1, solver='auto')\n",
    "ridge.fit(X_train, y_train)\n",
    "y_pred = ridge.predict(X_test)\n",
    "\n",
    "mae = mean_absolute_error(y_test, y_predicted)\n",
    "mse = mean_squared_error(y_test, y_predicted)\n",
    "r2 = r2_score(y_test, y_predicted)\n",
    "\n",
    "print(f\"mae: {mae}\")\n",
    "print(f\"mse: {mse}\")\n",
    "print(f\"r2: {r2}\")"
   ],
   "outputs": [],
   "execution_count": null
  },
  {
   "cell_type": "code",
   "id": "CYz8wEeCep1M",
   "metadata": {
    "colab": {
     "base_uri": "https://localhost:8080/"
    },
    "id": "CYz8wEeCep1M",
    "outputId": "4895f36a-dd5d-4d06-b2b9-e3fe1c0a5f2c"
   },
   "source": [
    "lasso = Lasso(alpha=0.0001, max_iter=100000)\n",
    "lasso.fit(X_train, y_train)\n",
    "y_pred = lasso.predict(X_test)\n",
    "\n",
    "mae = mean_absolute_error(y_test, y_predicted)\n",
    "mse = mean_squared_error(y_test, y_predicted)\n",
    "r2 = r2_score(y_test, y_predicted)\n",
    "\n",
    "print(f\"mae: {mae}\")\n",
    "print(f\"mse: {mse}\")\n",
    "print(f\"r2: {r2}\")"
   ],
   "outputs": [],
   "execution_count": null
  },
  {
   "cell_type": "markdown",
   "id": "sZkMDl_OfFNq",
   "metadata": {
    "id": "sZkMDl_OfFNq"
   },
   "source": [
    "### Neural Networks"
   ]
  },
  {
   "cell_type": "code",
   "id": "faiQux_tfIcG",
   "metadata": {
    "id": "faiQux_tfIcG"
   },
   "source": [
    "import torch\n",
    "import torch.nn as nn\n",
    "import torch.optim as optim\n",
    "import torch.nn.init"
   ],
   "outputs": [],
   "execution_count": null
  },
  {
   "cell_type": "code",
   "id": "VOWr_ix7fNGx",
   "metadata": {
    "id": "VOWr_ix7fNGx"
   },
   "source": [
    "class NeuralNetwork(nn.Module):\n",
    "    def __init__(self, input_size, num_classes, list_hidden, activation='sigmoid'):\n",
    "        super(NeuralNetwork, self).__init__()\n",
    "        self.input_size = input_size\n",
    "        self.num_classes = num_classes\n",
    "        self.list_hidden = list_hidden\n",
    "        self.activation = activation\n",
    "        self.create_network()\n",
    "\n",
    "    def create_network(self):\n",
    "        layers = []\n",
    "        layers.append(nn.Linear(self.input_size, self.list_hidden[0]))\n",
    "        layers.append(self.get_activation(self.activation))\n",
    "        for i in range(len(self.list_hidden) - 1):\n",
    "            layers.append(nn.Linear(self.list_hidden[i], self.list_hidden[i + 1]))\n",
    "            layers.append(self.get_activation(self.activation))\n",
    "        layers.append(nn.Linear(self.list_hidden[-1], self.num_classes))\n",
    "        self.layers = nn.Sequential(*layers)\n",
    "\n",
    "    def get_activation(self, mode='sigmoid'):\n",
    "        if mode == 'tanh':\n",
    "            return nn.Tanh()\n",
    "        elif mode == 'relu':\n",
    "            return nn.ReLU(inplace=True)\n",
    "        return nn.Sigmoid()\n",
    "\n",
    "    def forward(self, x):\n",
    "        for layer in self.layers:\n",
    "            x = layer(x)\n",
    "        return x"
   ],
   "outputs": [],
   "execution_count": null
  },
  {
   "cell_type": "code",
   "id": "5musGKLxfcpQ",
   "metadata": {
    "id": "5musGKLxfcpQ"
   },
   "source": [
    "nn_df = house_df.drop(columns=col_remove)\n",
    "nn_df"
   ],
   "outputs": [],
   "execution_count": null
  },
  {
   "cell_type": "code",
   "id": "2xu9rSHKfYmy",
   "metadata": {
    "id": "2xu9rSHKfYmy"
   },
   "source": [
    "X = nn_df.drop('price', axis=1)\n",
    "y = nn_df['price']\n",
    "\n",
    "X_train, X_test, y_train, y_test = train_test_split(X, y, test_size=0.2, random_state=5)"
   ],
   "outputs": [],
   "execution_count": null
  },
  {
   "cell_type": "code",
   "id": "NKMLl45jfkD2",
   "metadata": {
    "id": "NKMLl45jfkD2"
   },
   "source": [
    "input_size = X_train.shape[1]\n",
    "hidden_layers = [64]\n",
    "output_size = 1\n",
    "network = NeuralNetwork(input_size, output_size, hidden_layers, activation='relu')\n",
    "\n",
    "criterion = nn.MSELoss()\n",
    "optimizer = optim.Adam(network.parameters(), lr=0.001)\n",
    "\n",
    "max_epochs = 5\n",
    "losses = []\n",
    "\n",
    "for epoch in range(max_epochs):\n",
    "    current_epoch_loss = 0\n",
    "    for X, y in zip(X_train.values, y_train.values):\n",
    "        X = torch.Tensor(X).float()\n",
    "        y = torch.Tensor([y]).float()\n",
    "\n",
    "        optimizer.zero_grad()\n",
    "        outputs = network(X)\n",
    "        loss = criterion(outputs, y)\n",
    "        loss.backward()\n",
    "        optimizer.step()\n",
    "\n",
    "        current_epoch_loss += loss.item()\n",
    "\n",
    "    average_loss = current_epoch_loss / len(X_train)\n",
    "    losses.append(average_loss)\n",
    "    print(f'Epoch: {epoch + 1}, Loss: {average_loss:.6f}')"
   ],
   "outputs": [],
   "execution_count": null
  },
  {
   "cell_type": "markdown",
   "id": "77050923-a33a-4e38-a80f-b3e34b63551a",
   "metadata": {
    "id": "77050923-a33a-4e38-a80f-b3e34b63551a"
   },
   "source": [
    "# Section 7. Error analysis"
   ]
  },
  {
   "cell_type": "markdown",
   "id": "N4rrmF8QJGJA",
   "metadata": {
    "id": "N4rrmF8QJGJA"
   },
   "source": [
    "## Getting the average longitude and latitude from zip codes\n",
    "zip codes by itself does not express the location of the house well. Longitudes and latitudes would be good but the differences between the coordinate would have differences so small that the models might not see it as significant even if it is.\n",
    "\n",
    "The model improved a lot in terms of performance when we removed 'zipcode', 'lat' and 'long' so we know those columns are the problem.\n",
    "\n",
    "We opt to use zip codes like theyre a cluster and use an average latitude and longitude to give the models a numeric idea of the distance each house will have from one another."
   ]
  },
  {
   "cell_type": "markdown",
   "id": "vTYVk14GL0kG",
   "metadata": {
    "id": "vTYVk14GL0kG"
   },
   "source": [
    "### Extracting latitude and longitude out of the zip codes"
   ]
  },
  {
   "cell_type": "code",
   "id": "2hcyCn5bKsA_",
   "metadata": {
    "id": "2hcyCn5bKsA_"
   },
   "source": [
    "zipcode_df = house_df['zipcode'].unique()\n",
    "zipcode_df = pd.DataFrame(zipcode_df)\n",
    "zipcode_df = zipcode_df.rename(columns={0:'zipcode'})\n",
    "zipcode_df"
   ],
   "outputs": [],
   "execution_count": null
  },
  {
   "cell_type": "code",
   "id": "viF-QoE-L70R",
   "metadata": {
    "id": "viF-QoE-L70R"
   },
   "source": [
    "# # TAKES A WHILE TO RUN!! (a minute on my local machine)\n",
    "# geolocator = Nominatim(user_agent=\"geotest\")\n",
    "# geocode = RateLimiter(geolocator.geocode,\n",
    "#                       min_delay_seconds=1)\n",
    "\n",
    "# zipcode_df['location'] = zipcode_df['zipcode'].apply(geocode)\n",
    "# zipcode_df['lat'] = zipcode_df['location'].apply(lambda loc: loc.point.latitude if loc else None)\n",
    "# zipcode_df['long'] = zipcode_df['location'].apply(lambda loc: loc.point.longitude if loc else None)\n",
    "\n",
    "# # saving it so that this doesn't have to be run again\n",
    "# zipcode_df.to_csv(\"/content/drive/MyDrive/STINTSY_mco/zipcode_df.csv\")\n",
    "# zipcode_df"
   ],
   "outputs": [],
   "execution_count": null
  },
  {
   "cell_type": "code",
   "id": "ug2-zX6tMsi8",
   "metadata": {
    "id": "ug2-zX6tMsi8"
   },
   "source": [
    "zipcode_df = pd.read_csv(\"/content/drive/MyDrive/STINTSY_mco/zipcode_df.csv\")\n",
    "zipcode_df = zipcode_df.set_index('zipcode')"
   ],
   "outputs": [],
   "execution_count": null
  },
  {
   "cell_type": "code",
   "id": "IPrZ9yzONp0Z",
   "metadata": {
    "id": "IPrZ9yzONp0Z"
   },
   "source": [
    "zip_lat_dict = zipcode_df[['lat']].to_dict()\n",
    "zip_long_dict = zipcode_df[['long']].to_dict()\n",
    "house_df['zip_lat'] = house_df['zipcode'].map(zip_lat_dict['lat'])\n",
    "house_df['zip_long'] = house_df['zipcode'].map(zip_long_dict['long'])\n",
    "house_df"
   ],
   "outputs": [],
   "execution_count": null
  },
  {
   "cell_type": "markdown",
   "id": "710a7fc0-498e-4f03-9072-bd9e0aa00c16",
   "metadata": {
    "id": "710a7fc0-498e-4f03-9072-bd9e0aa00c16"
   },
   "source": [
    "# Section 8. Improving model performance"
   ]
  },
  {
   "cell_type": "code",
   "id": "_jW8OKMNhyQ1",
   "metadata": {
    "id": "_jW8OKMNhyQ1"
   },
   "source": [
    "from sklearn.preprocessing import MinMaxScaler\n",
    "scaler = MinMaxScaler()\n",
    "norm_col = house_df.columns.drop(['id', 'date', 'price', 'yr_built', 'yr_renovated', 'lat', 'long', 'year'])\n",
    "house_df[norm_col] = scaler.fit_transform(house_df[norm_col])"
   ],
   "outputs": [],
   "execution_count": null
  },
  {
   "metadata": {},
   "cell_type": "code",
   "source": "house_df.head()",
   "id": "243e8e426e1d962c",
   "outputs": [],
   "execution_count": null
  },
  {
   "cell_type": "markdown",
   "id": "sxswcQVAhBpY",
   "metadata": {
    "id": "sxswcQVAhBpY"
   },
   "source": [
    "### KNN"
   ]
  },
  {
   "cell_type": "code",
   "id": "J53yJVSniDnk",
   "metadata": {
    "id": "J53yJVSniDnk"
   },
   "source": [
    "col_remove = ['id', 'date', 'yr_built', 'yr_renovated', 'lat', 'long', 'year']\n",
    "knn_df = house_df.drop(columns=col_remove)\n",
    "knn_df"
   ],
   "outputs": [],
   "execution_count": null
  },
  {
   "cell_type": "code",
   "id": "Il3TxjFviDnt",
   "metadata": {
    "id": "Il3TxjFviDnt"
   },
   "source": [
    "X = knn_df.drop('price', axis=1)\n",
    "y = knn_df['price']\n",
    "\n",
    "X_train, X_test, y_train, y_test = train_test_split(X, y, test_size=0.2, random_state=5)"
   ],
   "outputs": [],
   "execution_count": null
  },
  {
   "cell_type": "code",
   "id": "4E1wHc6DiDnt",
   "metadata": {
    "id": "4E1wHc6DiDnt"
   },
   "source": [
    "k_folds = 5\n",
    "k_choices = [2, 4, 6, 8, 10, 12, 14, 16, 18, 20, 22, 24, 26, 28, 30, 32, 34, 36, 38, 40, 43, 44, 46, 48, 50]\n",
    "scores = np.zeros((len(k_choices), k_folds))\n",
    "\n",
    "for i in range(len(k_choices)):\n",
    "    print(\"k is : \" + str(k_choices[i]))\n",
    "    model = KNeighborsRegressor(n_neighbors=k_choices[i])\n",
    "    scores[i] = cross_val_score(model, X_train, y_train, cv=k_folds)\n",
    "    pass\n",
    "\n",
    "avg_scores = np.mean(scores, axis=1)\n",
    "avg_scores"
   ],
   "outputs": [],
   "execution_count": null
  },
  {
   "cell_type": "code",
   "id": "SOF5f78diDnt",
   "metadata": {
    "id": "SOF5f78diDnt"
   },
   "source": [
    "avg_scores.max()"
   ],
   "outputs": [],
   "execution_count": null
  },
  {
   "cell_type": "code",
   "id": "UDa54OOwiDnu",
   "metadata": {
    "id": "UDa54OOwiDnu"
   },
   "source": [
    "model = KNeighborsRegressor(n_neighbors=6)\n",
    "model.fit(X_train, y_train)\n",
    "y_predicted = model.predict(X_test)\n",
    "\n",
    "mae = mean_absolute_error(y_test, y_predicted)\n",
    "mse = mean_squared_error(y_test, y_predicted)\n",
    "r2 = r2_score(y_test, y_predicted)\n",
    "\n",
    "print(f\"mae: {mae}\")\n",
    "print(f\"mse: {mse}\")\n",
    "print(f\"r2: {r2}\")"
   ],
   "outputs": [],
   "execution_count": null
  },
  {
   "metadata": {},
   "cell_type": "code",
   "source": [
    "results_df = pd.DataFrame({'Actual': y_test, 'Predicted': y_predicted})\n",
    "print(results_df)"
   ],
   "id": "153eab1379be68a6",
   "outputs": [],
   "execution_count": null
  },
  {
   "cell_type": "markdown",
   "id": "yClFONLxi6gT",
   "metadata": {
    "id": "yClFONLxi6gT"
   },
   "source": [
    "### Linear\n"
   ]
  },
  {
   "cell_type": "code",
   "id": "HWelTzJPi8pD",
   "metadata": {
    "id": "HWelTzJPi8pD"
   },
   "source": [
    "linear_df = house_df.drop(columns=col_remove)\n",
    "linear_df"
   ],
   "outputs": [],
   "execution_count": null
  },
  {
   "cell_type": "code",
   "id": "Diy77_sei8pE",
   "metadata": {
    "id": "Diy77_sei8pE"
   },
   "source": [
    "X = linear_df.drop('price', axis=1)\n",
    "y = linear_df['price']\n",
    "\n",
    "X_train, X_test, y_train, y_test = train_test_split(X, y, test_size=0.2, random_state=5)"
   ],
   "outputs": [],
   "execution_count": null
  },
  {
   "cell_type": "code",
   "id": "1Ycf_BYBntWz",
   "metadata": {
    "id": "1Ycf_BYBntWz"
   },
   "source": [
    "from sklearn.linear_model import SGDRegressor\n",
    "\n",
    "model = SGDRegressor(max_iter=1000, tol=1e-3)\n",
    "model.fit(X_train, y_train)\n",
    "y_pred = model.predict(X_test)\n",
    "\n",
    "mae = mean_absolute_error(y_test, y_pred)\n",
    "mse = mean_squared_error(y_test, y_pred)\n",
    "r2 = r2_score(y_test, y_pred)\n",
    "\n",
    "print(f\"Mean Absolute Error: {mae}\")\n",
    "print(f\"Mean Squared Error: {mse}\")\n",
    "print(f\"R-squared: {r2}\")"
   ],
   "outputs": [],
   "execution_count": null
  },
  {
   "cell_type": "code",
   "id": "x1LQ-0o2i8pE",
   "metadata": {
    "id": "x1LQ-0o2i8pE"
   },
   "source": [
    "model = LinearRegression()\n",
    "model.fit(X_train, y_train)\n",
    "y_pred = model.predict(X_test)\n",
    "\n",
    "mae = mean_absolute_error(y_test, y_predicted)\n",
    "mse = mean_squared_error(y_test, y_predicted)\n",
    "r2 = r2_score(y_test, y_predicted)\n",
    "\n",
    "print(f\"mae: {mae}\")\n",
    "print(f\"mse: {mse}\")\n",
    "print(f\"r2: {r2}\")"
   ],
   "outputs": [],
   "execution_count": null
  },
  {
   "cell_type": "code",
   "id": "Jlw1yT7Ei8pF",
   "metadata": {
    "id": "Jlw1yT7Ei8pF"
   },
   "source": [
    "ridge = Ridge(alpha=1, solver='auto')\n",
    "ridge.fit(X_train, y_train)\n",
    "y_pred = ridge.predict(X_test)\n",
    "\n",
    "mae = mean_absolute_error(y_test, y_predicted)\n",
    "mse = mean_squared_error(y_test, y_predicted)\n",
    "r2 = r2_score(y_test, y_predicted)\n",
    "\n",
    "print(f\"mae: {mae}\")\n",
    "print(f\"mse: {mse}\")\n",
    "print(f\"r2: {r2}\")"
   ],
   "outputs": [],
   "execution_count": null
  },
  {
   "cell_type": "code",
   "id": "s1kGNQi1i8pF",
   "metadata": {
    "id": "s1kGNQi1i8pF"
   },
   "source": [
    "lasso = Lasso(alpha=0.0001, max_iter=100000)\n",
    "lasso.fit(X_train, y_train)\n",
    "y_pred = lasso.predict(X_test)\n",
    "\n",
    "mae = mean_absolute_error(y_test, y_predicted)\n",
    "mse = mean_squared_error(y_test, y_predicted)\n",
    "r2 = r2_score(y_test, y_predicted)\n",
    "\n",
    "print(f\"mae: {mae}\")\n",
    "print(f\"mse: {mse}\")\n",
    "print(f\"r2: {r2}\")"
   ],
   "outputs": [],
   "execution_count": null
  },
  {
   "cell_type": "markdown",
   "id": "iyep_9QyjV67",
   "metadata": {
    "id": "iyep_9QyjV67"
   },
   "source": [
    "### Neural Networks"
   ]
  },
  {
   "cell_type": "code",
   "id": "RHogupvrjYKV",
   "metadata": {
    "id": "RHogupvrjYKV"
   },
   "source": [
    "nn_df = house_df.drop(columns=col_remove)\n",
    "nn_df"
   ],
   "outputs": [],
   "execution_count": null
  },
  {
   "cell_type": "code",
   "id": "xvWhXAtcjYKW",
   "metadata": {
    "id": "xvWhXAtcjYKW"
   },
   "source": [
    "X = nn_df.drop('price', axis=1)\n",
    "y = nn_df['price']\n",
    "\n",
    "X_train, X_test, y_train, y_test = train_test_split(X, y, test_size=0.2, random_state=5)"
   ],
   "outputs": [],
   "execution_count": null
  },
  {
   "cell_type": "code",
   "id": "Xrje3vwIjYKW",
   "metadata": {
    "id": "Xrje3vwIjYKW"
   },
   "source": [
    "input_size = X_train.shape[1]\n",
    "hidden_layers = [64]\n",
    "output_size = 1\n",
    "network = NeuralNetwork(input_size, output_size, hidden_layers, activation='relu')\n",
    "\n",
    "criterion = nn.MSELoss()\n",
    "optimizer = optim.Adam(network.parameters(), lr=0.001)\n",
    "\n",
    "max_epochs = 300\n",
    "losses = []\n",
    "\n",
    "for epoch in range(max_epochs):\n",
    "    current_epoch_loss = 0\n",
    "    for X, y in zip(X_train.values, y_train.values):\n",
    "        X = torch.Tensor(X).float()\n",
    "        y = torch.Tensor([y]).float()\n",
    "\n",
    "        optimizer.zero_grad()\n",
    "        outputs = network(X)\n",
    "        loss = criterion(outputs, y)\n",
    "        loss.backward()\n",
    "        optimizer.step()\n",
    "\n",
    "        current_epoch_loss += loss.item()\n",
    "\n",
    "    average_loss = current_epoch_loss / len(X_train)\n",
    "    losses.append(average_loss)\n",
    "    print(f'Epoch: {epoch + 1}, Loss: {average_loss:.6f}')"
   ],
   "outputs": [],
   "execution_count": null
  },
  {
   "cell_type": "code",
   "id": "ZCQP_yxe9gQq",
   "metadata": {
    "id": "ZCQP_yxe9gQq"
   },
   "source": [
    "network.eval()\n",
    "with torch.no_grad():\n",
    "    y_pred = network(torch.Tensor(X_test.values).float()).numpy()\n",
    "\n",
    "mae = mean_absolute_error(y_test, y_pred)\n",
    "mse = mean_squared_error(y_test, y_pred)\n",
    "r2 = r2_score(y_test, y_pred)\n",
    "\n",
    "print(f\"Mean Absolute Error: {mae}\")\n",
    "print(f\"Mean Squared Error: {mse}\")\n",
    "print(f\"R-squared: {r2}\")"
   ],
   "outputs": [],
   "execution_count": null
  },
  {
   "cell_type": "markdown",
   "id": "216a6b0b-3c50-42f0-b097-ff6e598369ea",
   "metadata": {
    "id": "216a6b0b-3c50-42f0-b097-ff6e598369ea"
   },
   "source": [
    "# Section 9. Model performance summary"
   ]
  },
  {
   "cell_type": "markdown",
   "id": "5dc12aca-f2b9-490d-9d89-f83130e13a03",
   "metadata": {
    "id": "5dc12aca-f2b9-490d-9d89-f83130e13a03"
   },
   "source": [
    "# Section 10. Insights and conclusions"
   ]
  },
  {
   "cell_type": "markdown",
   "id": "8a5af499-99b7-4c1b-951a-fb282b3e169d",
   "metadata": {
    "id": "8a5af499-99b7-4c1b-951a-fb282b3e169d"
   },
   "source": [
    "# Section 11. References"
   ]
  }
 ],
 "metadata": {
  "colab": {
   "toc_visible": true,
   "provenance": []
  },
  "kernelspec": {
   "display_name": "Python 3 (ipykernel)",
   "language": "python",
   "name": "python3"
  },
  "language_info": {
   "codemirror_mode": {
    "name": "ipython",
    "version": 3
   },
   "file_extension": ".py",
   "mimetype": "text/x-python",
   "name": "python",
   "nbconvert_exporter": "python",
   "pygments_lexer": "ipython3",
   "version": "3.12.3"
  }
 },
 "nbformat": 4,
 "nbformat_minor": 5
}
